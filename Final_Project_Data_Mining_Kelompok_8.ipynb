{
  "cells": [
    {
      "cell_type": "markdown",
      "metadata": {
        "id": "view-in-github",
        "colab_type": "text"
      },
      "source": [
        "<a href=\"https://colab.research.google.com/github/mo-lanang/Data-Mining-Final-Project/blob/main/Final_Project_Data_Mining_Kelompok_8.ipynb\" target=\"_parent\"><img src=\"https://colab.research.google.com/assets/colab-badge.svg\" alt=\"Open In Colab\"/></a>"
      ]
    },
    {
      "cell_type": "markdown",
      "metadata": {
        "id": "I17vP2AQety4"
      },
      "source": [
        "\n",
        "FINAL PROJECT DATA MINING\n",
        "\n",
        "---\n",
        "\n"
      ]
    },
    {
      "cell_type": "markdown",
      "metadata": {
        "id": "pYTjF__MfA79"
      },
      "source": [
        "Saat ini, media sosial dapat dikatakan sebagai salah satu bagian terpenting dari kehidupan manusia. Sebagai salah satu sarana penyebaran informasi dan berkomunikasi antar individu, banyak sekali manfaat yang dapat diambil dari media sosial. Salah satu kegunaan media sosial adalah sebagai sumber pengambilan data yang dapat digunakan untuk diolah hingga dapat dijadikan pertimbangan dalam pengambilan keputusan di berbagai bidang dengan Social Media Analytics.\n",
        "\n",
        "Dalam projek final ini, kelompok kami akan menggunakan data yang bersumber dari salah satu platform media sosial, yaitu Twitter. Data twitter yang akan kami gunakan memiliki topik seputar pergelaran Piala Dunia 2022 di Qatar. Data tweet yang diambil hanya berkisar di antara tanggal 20 Desember 2022 hingga 25 Desember 2022. Kami ingin melakukan analisis terhadap sampel data tweet masyarakat Indonesia setelah pergelaran Piala Dunia 2022 di Qatar berakhir dengan menggunakan beberapa metode. Diharapkan hasil analisis ini dapat memberikan insight/informasi yang berguna bagi perseorangan, pelaku bisnis tertentu, ataupun pemangku kepentingan lainnya yang bersangkutan dengan topik yang diangkat dalam projek ini."
      ]
    },
    {
      "cell_type": "markdown",
      "metadata": {
        "id": "D52FdpgTp5un"
      },
      "source": [
        "Keywords:\n",
        "1. Piala Dunia Qatar 2022\n",
        "2. Scraping twitter\n",
        "3. Cleaning data\n",
        "4. EDA\n",
        "5. Preprocessing data\n",
        "6. Social Network Analysis\n",
        "7. Centrality Analysis\n",
        "8. Community Detection\n",
        "9. Sentiment Analysis\n",
        "10. K Nearest Neighbor\n",
        "11. Decision Tree\n",
        "12. Random Forest"
      ]
    },
    {
      "cell_type": "markdown",
      "metadata": {
        "id": "axjwE_qYiFer"
      },
      "source": [
        "Pertama-tama dilakukan import library yang akan digunakan dalam keseluruhan proses pengolahan data."
      ]
    },
    {
      "cell_type": "code",
      "source": [
        "from google.colab import drive\n",
        "drive.mount('/content/drive')"
      ],
      "metadata": {
        "colab": {
          "base_uri": "https://localhost:8080/"
        },
        "id": "6OVRcEKVtqe5",
        "outputId": "4640cd24-5124-43f0-c04f-e11c0499dab9"
      },
      "execution_count": null,
      "outputs": [
        {
          "output_type": "stream",
          "name": "stdout",
          "text": [
            "Mounted at /content/drive\n"
          ]
        }
      ]
    },
    {
      "cell_type": "code",
      "execution_count": null,
      "metadata": {
        "id": "GWMef1AY3RFx"
      },
      "outputs": [],
      "source": [
        "### Run kode ini di awal untuk mengimport semua library yang telah diinstall sebelumnya\n",
        "\n",
        "import sys\n",
        "sys.path.append('/content/drive/My Drive/Colab Notebooks')"
      ]
    },
    {
      "cell_type": "code",
      "execution_count": null,
      "metadata": {
        "colab": {
          "base_uri": "https://localhost:8080/"
        },
        "id": "SKN2xMWW-NjP",
        "outputId": "0bad66c9-39c6-4f45-fae6-26bd07773570"
      },
      "outputs": [
        {
          "output_type": "stream",
          "name": "stderr",
          "text": [
            "/usr/local/lib/python3.8/dist-packages/torch/cuda/__init__.py:497: UserWarning: Can't initialize NVML\n",
            "  warnings.warn(\"Can't initialize NVML\")\n",
            "[nltk_data] Downloading package punkt to /root/nltk_data...\n",
            "[nltk_data]   Unzipping tokenizers/punkt.zip.\n",
            "[nltk_data] Downloading package vader_lexicon to /root/nltk_data...\n"
          ]
        }
      ],
      "source": [
        "import itertools, re, nltk\n",
        "import time, numpy as np, matplotlib.pyplot as plt, pandas as pd, seaborn as sns\n",
        "from textblob import TextBlob\n",
        "from Sastrawi.Stemmer.StemmerFactory import StemmerFactory\n",
        "from unidecode import unidecode\n",
        "from html import unescape\n",
        "from Sastrawi.StopWordRemover.StopWordRemoverFactory import StopWordRemoverFactory\n",
        "from tqdm import tqdm\n",
        "import twint\n",
        "import nest_asyncio\n",
        "import urllib\n",
        "import json\n",
        "import networkx as nx\n",
        "from spacy.lang.id import Indonesian\n",
        "from nltk.sentiment.vader import SentimentIntensityAnalyzer\n",
        "from sklearn.model_selection import train_test_split\n",
        "from sklearn.feature_extraction.text import TfidfVectorizer\n",
        "from sklearn.neighbors import KNeighborsClassifier\n",
        "from sklearn.metrics import accuracy_score\n",
        "from sklearn.metrics import confusion_matrix, classification_report\n",
        "from sklearn.ensemble import RandomForestClassifier\n",
        "from sklearn.tree import DecisionTreeClassifier\n",
        "from sklearn.svm import SVC\n",
        "from sklearn.pipeline import make_pipeline\n",
        "from sklearn.experimental import enable_halving_search_cv\n",
        "from sklearn.model_selection import HalvingGridSearchCV\n",
        "from sklearn.model_selection import RandomizedSearchCV\n",
        "import imblearn\n",
        "from scipy.sparse import csr_matrix\n",
        "nltk.download('punkt')\n",
        "nltk.download('vader_lexicon')\n",
        "\n",
        "factory = StopWordRemoverFactory()\n",
        "stemmer = StemmerFactory().create_stemmer()"
      ]
    },
    {
      "cell_type": "markdown",
      "metadata": {
        "id": "NDEQy2RT1XoJ"
      },
      "source": [
        "# Scrape Data dari Twitter"
      ]
    },
    {
      "cell_type": "markdown",
      "metadata": {
        "id": "LewPONOEiaC5"
      },
      "source": [
        "Selanjutnya, akan dilakukan proses scraping data dari media sosial Twitter yang berkaitan dengan isu piala dunia 2022. Scraping data sendiri merupakan proses otomatis untuk mendapatkan data dari suatu website atau platform dengan menggunakan suatu program atau code. Karena data yang ingin diperoleh kurang lebih sebanyak 11000 sampel data tweet, maka akan diterapkan limit dari data sebanyak 11000."
      ]
    },
    {
      "cell_type": "code",
      "execution_count": null,
      "metadata": {
        "id": "uvZc2ERErIdU"
      },
      "outputs": [],
      "source": [
        "nest_asyncio.apply()\n",
        "config = twint.Config()\n",
        "config.Hide_output = True\n",
        "config.Pandas = True\n",
        "config.Retweets = True\n",
        "config.Profile_full = True"
      ]
    },
    {
      "cell_type": "code",
      "execution_count": null,
      "metadata": {
        "colab": {
          "base_uri": "https://localhost:8080/",
          "height": 626
        },
        "id": "70X1aZWer7gn",
        "outputId": "5ba1eb93-a644-4592-d7bc-b28650efbec7"
      },
      "outputs": [
        {
          "output_type": "stream",
          "name": "stdout",
          "text": [
            "(11010, 38)\n"
          ]
        },
        {
          "output_type": "execute_result",
          "data": {
            "text/plain": [
              "                        id      conversation_id    created_at  \\\n",
              "3026   1606653305392095232  1606653305392095232  1.671891e+12   \n",
              "3553   1606526207033757696  1606526207033757696  1.671861e+12   \n",
              "9823   1605248031699349504  1604977235475148800  1.671556e+12   \n",
              "6672   1605805645311377409  1605805645311377409  1.671689e+12   \n",
              "6517   1605828501701300224  1605828501701300224  1.671694e+12   \n",
              "10535  1605178274455310336  1605176348431249409  1.671539e+12   \n",
              "\n",
              "                      date timezone place  \\\n",
              "3026   2022-12-24 14:09:32    +0000         \n",
              "3553   2022-12-24 05:44:30    +0000         \n",
              "9823   2022-12-20 17:05:29    +0000         \n",
              "6672   2022-12-22 06:01:14    +0000         \n",
              "6517   2022-12-22 07:32:04    +0000         \n",
              "10535  2022-12-20 12:28:18    +0000         \n",
              "\n",
              "                                                   tweet language  \\\n",
              "3026   Draw golin di menit akhir ibarat portugal jual...       in   \n",
              "3553   Pagi Sabtu hari ini saya telah meluangkan masa...       in   \n",
              "9823   @ChelseafanIndo Hanya ketika kegagalan Argenti...       in   \n",
              "6672   Susunan Pemain Terbaik Piala Dunia 2022, Ada H...       in   \n",
              "6517   Prancis Pernah Ledek Messi di Piala Dunia 2018...       in   \n",
              "10535  @idextratime Messi hanya tidur dengan piala du...       in   \n",
              "\n",
              "                                         hashtags cashtags  ...  geo source  \\\n",
              "3026                                     [saemin]       []  ...               \n",
              "3553                         [ry, demipayarumput]       []  ...               \n",
              "9823                                           []       []  ...               \n",
              "6672   [worldcup, harrymaguire, cristianoronaldo]       []  ...               \n",
              "6517                                           []       []  ...               \n",
              "10535                                          []       []  ...               \n",
              "\n",
              "      user_rt_id user_rt  retweet_id  \\\n",
              "3026                                   \n",
              "3553                                   \n",
              "9823                                   \n",
              "6672                                   \n",
              "6517                                   \n",
              "10535                                  \n",
              "\n",
              "                                                reply_to retweet_date  \\\n",
              "3026                                                  []                \n",
              "3553                                                  []                \n",
              "9823   [{'screen_name': 'ChelseafanIndo', 'name': '#P...                \n",
              "6672                                                  []                \n",
              "6517                                                  []                \n",
              "10535  [{'screen_name': 'idextratime', 'name': 'Extra...                \n",
              "\n",
              "      translate trans_src  trans_dest  \n",
              "3026                                   \n",
              "3553                                   \n",
              "9823                                   \n",
              "6672                                   \n",
              "6517                                   \n",
              "10535                                  \n",
              "\n",
              "[6 rows x 38 columns]"
            ],
            "text/html": [
              "\n",
              "  <div id=\"df-b874d1f3-46f8-4a8b-b0d8-fd9e56a2ffdd\">\n",
              "    <div class=\"colab-df-container\">\n",
              "      <div>\n",
              "<style scoped>\n",
              "    .dataframe tbody tr th:only-of-type {\n",
              "        vertical-align: middle;\n",
              "    }\n",
              "\n",
              "    .dataframe tbody tr th {\n",
              "        vertical-align: top;\n",
              "    }\n",
              "\n",
              "    .dataframe thead th {\n",
              "        text-align: right;\n",
              "    }\n",
              "</style>\n",
              "<table border=\"1\" class=\"dataframe\">\n",
              "  <thead>\n",
              "    <tr style=\"text-align: right;\">\n",
              "      <th></th>\n",
              "      <th>id</th>\n",
              "      <th>conversation_id</th>\n",
              "      <th>created_at</th>\n",
              "      <th>date</th>\n",
              "      <th>timezone</th>\n",
              "      <th>place</th>\n",
              "      <th>tweet</th>\n",
              "      <th>language</th>\n",
              "      <th>hashtags</th>\n",
              "      <th>cashtags</th>\n",
              "      <th>...</th>\n",
              "      <th>geo</th>\n",
              "      <th>source</th>\n",
              "      <th>user_rt_id</th>\n",
              "      <th>user_rt</th>\n",
              "      <th>retweet_id</th>\n",
              "      <th>reply_to</th>\n",
              "      <th>retweet_date</th>\n",
              "      <th>translate</th>\n",
              "      <th>trans_src</th>\n",
              "      <th>trans_dest</th>\n",
              "    </tr>\n",
              "  </thead>\n",
              "  <tbody>\n",
              "    <tr>\n",
              "      <th>3026</th>\n",
              "      <td>1606653305392095232</td>\n",
              "      <td>1606653305392095232</td>\n",
              "      <td>1.671891e+12</td>\n",
              "      <td>2022-12-24 14:09:32</td>\n",
              "      <td>+0000</td>\n",
              "      <td></td>\n",
              "      <td>Draw golin di menit akhir ibarat portugal jual...</td>\n",
              "      <td>in</td>\n",
              "      <td>[saemin]</td>\n",
              "      <td>[]</td>\n",
              "      <td>...</td>\n",
              "      <td></td>\n",
              "      <td></td>\n",
              "      <td></td>\n",
              "      <td></td>\n",
              "      <td></td>\n",
              "      <td>[]</td>\n",
              "      <td></td>\n",
              "      <td></td>\n",
              "      <td></td>\n",
              "      <td></td>\n",
              "    </tr>\n",
              "    <tr>\n",
              "      <th>3553</th>\n",
              "      <td>1606526207033757696</td>\n",
              "      <td>1606526207033757696</td>\n",
              "      <td>1.671861e+12</td>\n",
              "      <td>2022-12-24 05:44:30</td>\n",
              "      <td>+0000</td>\n",
              "      <td></td>\n",
              "      <td>Pagi Sabtu hari ini saya telah meluangkan masa...</td>\n",
              "      <td>in</td>\n",
              "      <td>[ry, demipayarumput]</td>\n",
              "      <td>[]</td>\n",
              "      <td>...</td>\n",
              "      <td></td>\n",
              "      <td></td>\n",
              "      <td></td>\n",
              "      <td></td>\n",
              "      <td></td>\n",
              "      <td>[]</td>\n",
              "      <td></td>\n",
              "      <td></td>\n",
              "      <td></td>\n",
              "      <td></td>\n",
              "    </tr>\n",
              "    <tr>\n",
              "      <th>9823</th>\n",
              "      <td>1605248031699349504</td>\n",
              "      <td>1604977235475148800</td>\n",
              "      <td>1.671556e+12</td>\n",
              "      <td>2022-12-20 17:05:29</td>\n",
              "      <td>+0000</td>\n",
              "      <td></td>\n",
              "      <td>@ChelseafanIndo Hanya ketika kegagalan Argenti...</td>\n",
              "      <td>in</td>\n",
              "      <td>[]</td>\n",
              "      <td>[]</td>\n",
              "      <td>...</td>\n",
              "      <td></td>\n",
              "      <td></td>\n",
              "      <td></td>\n",
              "      <td></td>\n",
              "      <td></td>\n",
              "      <td>[{'screen_name': 'ChelseafanIndo', 'name': '#P...</td>\n",
              "      <td></td>\n",
              "      <td></td>\n",
              "      <td></td>\n",
              "      <td></td>\n",
              "    </tr>\n",
              "    <tr>\n",
              "      <th>6672</th>\n",
              "      <td>1605805645311377409</td>\n",
              "      <td>1605805645311377409</td>\n",
              "      <td>1.671689e+12</td>\n",
              "      <td>2022-12-22 06:01:14</td>\n",
              "      <td>+0000</td>\n",
              "      <td></td>\n",
              "      <td>Susunan Pemain Terbaik Piala Dunia 2022, Ada H...</td>\n",
              "      <td>in</td>\n",
              "      <td>[worldcup, harrymaguire, cristianoronaldo]</td>\n",
              "      <td>[]</td>\n",
              "      <td>...</td>\n",
              "      <td></td>\n",
              "      <td></td>\n",
              "      <td></td>\n",
              "      <td></td>\n",
              "      <td></td>\n",
              "      <td>[]</td>\n",
              "      <td></td>\n",
              "      <td></td>\n",
              "      <td></td>\n",
              "      <td></td>\n",
              "    </tr>\n",
              "    <tr>\n",
              "      <th>6517</th>\n",
              "      <td>1605828501701300224</td>\n",
              "      <td>1605828501701300224</td>\n",
              "      <td>1.671694e+12</td>\n",
              "      <td>2022-12-22 07:32:04</td>\n",
              "      <td>+0000</td>\n",
              "      <td></td>\n",
              "      <td>Prancis Pernah Ledek Messi di Piala Dunia 2018...</td>\n",
              "      <td>in</td>\n",
              "      <td>[]</td>\n",
              "      <td>[]</td>\n",
              "      <td>...</td>\n",
              "      <td></td>\n",
              "      <td></td>\n",
              "      <td></td>\n",
              "      <td></td>\n",
              "      <td></td>\n",
              "      <td>[]</td>\n",
              "      <td></td>\n",
              "      <td></td>\n",
              "      <td></td>\n",
              "      <td></td>\n",
              "    </tr>\n",
              "    <tr>\n",
              "      <th>10535</th>\n",
              "      <td>1605178274455310336</td>\n",
              "      <td>1605176348431249409</td>\n",
              "      <td>1.671539e+12</td>\n",
              "      <td>2022-12-20 12:28:18</td>\n",
              "      <td>+0000</td>\n",
              "      <td></td>\n",
              "      <td>@idextratime Messi hanya tidur dengan piala du...</td>\n",
              "      <td>in</td>\n",
              "      <td>[]</td>\n",
              "      <td>[]</td>\n",
              "      <td>...</td>\n",
              "      <td></td>\n",
              "      <td></td>\n",
              "      <td></td>\n",
              "      <td></td>\n",
              "      <td></td>\n",
              "      <td>[{'screen_name': 'idextratime', 'name': 'Extra...</td>\n",
              "      <td></td>\n",
              "      <td></td>\n",
              "      <td></td>\n",
              "      <td></td>\n",
              "    </tr>\n",
              "  </tbody>\n",
              "</table>\n",
              "<p>6 rows × 38 columns</p>\n",
              "</div>\n",
              "      <button class=\"colab-df-convert\" onclick=\"convertToInteractive('df-b874d1f3-46f8-4a8b-b0d8-fd9e56a2ffdd')\"\n",
              "              title=\"Convert this dataframe to an interactive table.\"\n",
              "              style=\"display:none;\">\n",
              "        \n",
              "  <svg xmlns=\"http://www.w3.org/2000/svg\" height=\"24px\"viewBox=\"0 0 24 24\"\n",
              "       width=\"24px\">\n",
              "    <path d=\"M0 0h24v24H0V0z\" fill=\"none\"/>\n",
              "    <path d=\"M18.56 5.44l.94 2.06.94-2.06 2.06-.94-2.06-.94-.94-2.06-.94 2.06-2.06.94zm-11 1L8.5 8.5l.94-2.06 2.06-.94-2.06-.94L8.5 2.5l-.94 2.06-2.06.94zm10 10l.94 2.06.94-2.06 2.06-.94-2.06-.94-.94-2.06-.94 2.06-2.06.94z\"/><path d=\"M17.41 7.96l-1.37-1.37c-.4-.4-.92-.59-1.43-.59-.52 0-1.04.2-1.43.59L10.3 9.45l-7.72 7.72c-.78.78-.78 2.05 0 2.83L4 21.41c.39.39.9.59 1.41.59.51 0 1.02-.2 1.41-.59l7.78-7.78 2.81-2.81c.8-.78.8-2.07 0-2.86zM5.41 20L4 18.59l7.72-7.72 1.47 1.35L5.41 20z\"/>\n",
              "  </svg>\n",
              "      </button>\n",
              "      \n",
              "  <style>\n",
              "    .colab-df-container {\n",
              "      display:flex;\n",
              "      flex-wrap:wrap;\n",
              "      gap: 12px;\n",
              "    }\n",
              "\n",
              "    .colab-df-convert {\n",
              "      background-color: #E8F0FE;\n",
              "      border: none;\n",
              "      border-radius: 50%;\n",
              "      cursor: pointer;\n",
              "      display: none;\n",
              "      fill: #1967D2;\n",
              "      height: 32px;\n",
              "      padding: 0 0 0 0;\n",
              "      width: 32px;\n",
              "    }\n",
              "\n",
              "    .colab-df-convert:hover {\n",
              "      background-color: #E2EBFA;\n",
              "      box-shadow: 0px 1px 2px rgba(60, 64, 67, 0.3), 0px 1px 3px 1px rgba(60, 64, 67, 0.15);\n",
              "      fill: #174EA6;\n",
              "    }\n",
              "\n",
              "    [theme=dark] .colab-df-convert {\n",
              "      background-color: #3B4455;\n",
              "      fill: #D2E3FC;\n",
              "    }\n",
              "\n",
              "    [theme=dark] .colab-df-convert:hover {\n",
              "      background-color: #434B5C;\n",
              "      box-shadow: 0px 1px 3px 1px rgba(0, 0, 0, 0.15);\n",
              "      filter: drop-shadow(0px 1px 2px rgba(0, 0, 0, 0.3));\n",
              "      fill: #FFFFFF;\n",
              "    }\n",
              "  </style>\n",
              "\n",
              "      <script>\n",
              "        const buttonEl =\n",
              "          document.querySelector('#df-b874d1f3-46f8-4a8b-b0d8-fd9e56a2ffdd button.colab-df-convert');\n",
              "        buttonEl.style.display =\n",
              "          google.colab.kernel.accessAllowed ? 'block' : 'none';\n",
              "\n",
              "        async function convertToInteractive(key) {\n",
              "          const element = document.querySelector('#df-b874d1f3-46f8-4a8b-b0d8-fd9e56a2ffdd');\n",
              "          const dataTable =\n",
              "            await google.colab.kernel.invokeFunction('convertToInteractive',\n",
              "                                                     [key], {});\n",
              "          if (!dataTable) return;\n",
              "\n",
              "          const docLinkHtml = 'Like what you see? Visit the ' +\n",
              "            '<a target=\"_blank\" href=https://colab.research.google.com/notebooks/data_table.ipynb>data table notebook</a>'\n",
              "            + ' to learn more about interactive tables.';\n",
              "          element.innerHTML = '';\n",
              "          dataTable['output_type'] = 'display_data';\n",
              "          await google.colab.output.renderOutput(dataTable, element);\n",
              "          const docLink = document.createElement('div');\n",
              "          docLink.innerHTML = docLinkHtml;\n",
              "          element.appendChild(docLink);\n",
              "        }\n",
              "      </script>\n",
              "    </div>\n",
              "  </div>\n",
              "  "
            ]
          },
          "metadata": {},
          "execution_count": 5
        }
      ],
      "source": [
        "### Scrape data twitter dengan menggunakan library \"twint\"\n",
        "\n",
        "config.Search = \"piala dunia\"\n",
        "config.Limit = 11000\n",
        "#config.Since = '2022-12-01'\n",
        "\n",
        "twint.run.Search(config)\n",
        "init_data = twint.storage.panda.Tweets_df\n",
        "print(init_data.shape)\n",
        "\n",
        "init_data.sample(6)"
      ]
    },
    {
      "cell_type": "markdown",
      "metadata": {
        "id": "VBdLIj0ffOis"
      },
      "source": [
        "# Cleaning Data Awal"
      ]
    },
    {
      "cell_type": "markdown",
      "metadata": {
        "id": "MYYuj0wVjEdD"
      },
      "source": [
        "Setelah dilakukan scraping data, data kemudian dibersihkan agar siap diolah. Proses cleaning data meliputi penghapusan data duplikat dan filtering bahasa pada tweet yang digunakan."
      ]
    },
    {
      "cell_type": "code",
      "execution_count": null,
      "metadata": {
        "colab": {
          "base_uri": "https://localhost:8080/"
        },
        "id": "il6IK0GlyQRM",
        "outputId": "663cc34f-b5bc-42df-9c06-249789bf3e6d"
      },
      "outputs": [
        {
          "output_type": "stream",
          "name": "stdout",
          "text": [
            "<class 'pandas.core.frame.DataFrame'>\n",
            "RangeIndex: 11010 entries, 0 to 11009\n",
            "Data columns (total 38 columns):\n",
            " #   Column           Non-Null Count  Dtype  \n",
            "---  ------           --------------  -----  \n",
            " 0   id               11010 non-null  object \n",
            " 1   conversation_id  11010 non-null  object \n",
            " 2   created_at       11010 non-null  float64\n",
            " 3   date             11010 non-null  object \n",
            " 4   timezone         11010 non-null  object \n",
            " 5   place            11010 non-null  object \n",
            " 6   tweet            11010 non-null  object \n",
            " 7   language         11010 non-null  object \n",
            " 8   hashtags         11010 non-null  object \n",
            " 9   cashtags         11010 non-null  object \n",
            " 10  user_id          11010 non-null  int64  \n",
            " 11  user_id_str      11010 non-null  object \n",
            " 12  username         11010 non-null  object \n",
            " 13  name             11010 non-null  object \n",
            " 14  day              11010 non-null  int64  \n",
            " 15  hour             11010 non-null  object \n",
            " 16  link             11010 non-null  object \n",
            " 17  urls             11010 non-null  object \n",
            " 18  photos           11010 non-null  object \n",
            " 19  video            11010 non-null  int64  \n",
            " 20  thumbnail        11010 non-null  object \n",
            " 21  retweet          11010 non-null  bool   \n",
            " 22  nlikes           11010 non-null  int64  \n",
            " 23  nreplies         11010 non-null  int64  \n",
            " 24  nretweets        11010 non-null  int64  \n",
            " 25  quote_url        11010 non-null  object \n",
            " 26  search           11010 non-null  object \n",
            " 27  near             11010 non-null  object \n",
            " 28  geo              11010 non-null  object \n",
            " 29  source           11010 non-null  object \n",
            " 30  user_rt_id       11010 non-null  object \n",
            " 31  user_rt          11010 non-null  object \n",
            " 32  retweet_id       11010 non-null  object \n",
            " 33  reply_to         11010 non-null  object \n",
            " 34  retweet_date     11010 non-null  object \n",
            " 35  translate        11010 non-null  object \n",
            " 36  trans_src        11010 non-null  object \n",
            " 37  trans_dest       11010 non-null  object \n",
            "dtypes: bool(1), float64(1), int64(6), object(30)\n",
            "memory usage: 3.1+ MB\n"
          ]
        }
      ],
      "source": [
        "### Melihat secara sekilas ringkasan dataframe\n",
        "\n",
        "init_data.info()"
      ]
    },
    {
      "cell_type": "code",
      "execution_count": null,
      "metadata": {
        "colab": {
          "base_uri": "https://localhost:8080/"
        },
        "id": "-C170ycx0DhK",
        "outputId": "fcaa22c9-b7bd-42c6-d17d-d3a055756084"
      },
      "outputs": [
        {
          "output_type": "stream",
          "name": "stdout",
          "text": [
            "Jumlah baris dan kolom data sekarang:  (10440, 38)\n"
          ]
        }
      ],
      "source": [
        "### Membuang data yang berduplikat pada kolom \"username\" dan \"tweet\"\n",
        "\n",
        "init_data.drop_duplicates(subset=['username', 'tweet'], inplace=True)\n",
        "\n",
        "print('Jumlah baris dan kolom data sekarang: ', init_data.shape)"
      ]
    },
    {
      "cell_type": "code",
      "execution_count": null,
      "metadata": {
        "colab": {
          "base_uri": "https://localhost:8080/"
        },
        "id": "YqYFk8BBrK-C",
        "outputId": "999aadea-f0ab-4ac1-910c-113dca6636b4"
      },
      "outputs": [
        {
          "output_type": "stream",
          "name": "stdout",
          "text": [
            "Jumlah baris dan kolom data sekarang:  (10264, 38)\n"
          ]
        }
      ],
      "source": [
        "### Melakukan filter hanya untuk tweet yang berbahasa Indonesia\n",
        "\n",
        "init_data = init_data.query('language == \"in\"')\n",
        "\n",
        "print('Jumlah baris dan kolom data sekarang: ', init_data.shape)"
      ]
    },
    {
      "cell_type": "code",
      "execution_count": null,
      "metadata": {
        "id": "vpBB7jMTy6TP"
      },
      "outputs": [],
      "source": [
        "### Import menjadi file excel atau csv\n",
        "\n",
        "init_data.to_excel('data tweet pildun 20-25 Desember 2022.xlsx', index=False)\n",
        "init_data.to_csv('data tweet pildun 20-25 Desember 2022.csv', index=False)"
      ]
    },
    {
      "cell_type": "markdown",
      "metadata": {
        "id": "Y4tIoi8LfHfK"
      },
      "source": [
        "# Import Data Kembali ke Google Colab dan Cleaning Lanjutan"
      ]
    },
    {
      "cell_type": "markdown",
      "metadata": {
        "id": "E8kNwdT5s4wI"
      },
      "source": [
        "Setelah dilakukan proses cleaning data dan data telah disimpan dalam bentuk file excel atau csv, data diupload ke dalam github kemudian data diimport kembali menggunakan link github terkait."
      ]
    },
    {
      "cell_type": "code",
      "execution_count": null,
      "metadata": {
        "colab": {
          "base_uri": "https://localhost:8080/"
        },
        "id": "uob_M1NLgCex",
        "outputId": "6ea667d2-7bc2-49ec-f8bb-c7827339af5d"
      },
      "outputs": [
        {
          "output_type": "stream",
          "name": "stdout",
          "text": [
            "<class 'pandas.core.frame.DataFrame'>\n",
            "RangeIndex: 10433 entries, 0 to 10432\n",
            "Data columns (total 38 columns):\n",
            " #   Column           Non-Null Count  Dtype  \n",
            "---  ------           --------------  -----  \n",
            " 0   id               10433 non-null  object \n",
            " 1   conversation_id  10433 non-null  object \n",
            " 2   created_at       10433 non-null  object \n",
            " 3   date             10433 non-null  object \n",
            " 4   timezone         10433 non-null  int64  \n",
            " 5   place            6 non-null      object \n",
            " 6   tweet            10433 non-null  object \n",
            " 7   language         10432 non-null  object \n",
            " 8   hashtags         10432 non-null  object \n",
            " 9   cashtags         10432 non-null  object \n",
            " 10  user_id          10432 non-null  object \n",
            " 11  user_id_str      10432 non-null  object \n",
            " 12  username         10432 non-null  object \n",
            " 13  name             10431 non-null  object \n",
            " 14  day              10431 non-null  float64\n",
            " 15  hour             10432 non-null  object \n",
            " 16  link             10432 non-null  object \n",
            " 17  urls             10432 non-null  object \n",
            " 18  photos           10432 non-null  object \n",
            " 19  video            10431 non-null  float64\n",
            " 20  thumbnail        2004 non-null   object \n",
            " 21  retweet          10431 non-null  object \n",
            " 22  nlikes           10431 non-null  float64\n",
            " 23  nreplies         10431 non-null  float64\n",
            " 24  nretweets        10431 non-null  float64\n",
            " 25  quote_url        489 non-null    object \n",
            " 26  search           10431 non-null  object \n",
            " 27  near             1 non-null      object \n",
            " 28  geo              0 non-null      float64\n",
            " 29  source           0 non-null      float64\n",
            " 30  user_rt_id       0 non-null      float64\n",
            " 31  user_rt          0 non-null      float64\n",
            " 32  retweet_id       0 non-null      float64\n",
            " 33  reply_to         10431 non-null  object \n",
            " 34  retweet_date     0 non-null      float64\n",
            " 35  translate        0 non-null      float64\n",
            " 36  trans_src        0 non-null      float64\n",
            " 37  trans_dest       0 non-null      float64\n",
            "dtypes: float64(14), int64(1), object(23)\n",
            "memory usage: 3.0+ MB\n"
          ]
        }
      ],
      "source": [
        "### Import kembali data ke Google Colab\n",
        "\n",
        "df = pd.read_csv('https://raw.githubusercontent.com/mo-lanang/Sumber_Data_Final_Project_Data_Mining/main/data%20tweet%20pildun%2020-25%20Desember%202022.csv')\n",
        "#df = pd.read_excel('isi dengan link dari sini, https://github.com/mo-lanang/Sumber_Data_Final_Project_Data_Mining')\n",
        "\n",
        "df.info()"
      ]
    },
    {
      "cell_type": "markdown",
      "metadata": {
        "id": "oBERuxChjV07"
      },
      "source": [
        "Selanjutnya, akan dilakukan proses cleaning data kembali. Proses cleaning data kali ini meliputi penanganan terhadap missing values dan penyesuaian tipe data untuk variabel yang terdapat pada dataset."
      ]
    },
    {
      "cell_type": "code",
      "execution_count": null,
      "metadata": {
        "colab": {
          "base_uri": "https://localhost:8080/"
        },
        "id": "eCiAuUkx5DTr",
        "outputId": "66f8bcd8-caa9-43bd-e035-0c6d7c89ced5"
      },
      "outputs": [
        {
          "output_type": "stream",
          "name": "stdout",
          "text": [
            "trans_dest         100.00\n",
            "retweet_id         100.00\n",
            "geo                100.00\n",
            "source             100.00\n",
            "user_rt            100.00\n",
            "user_rt_id         100.00\n",
            "retweet_date       100.00\n",
            "translate          100.00\n",
            "trans_src          100.00\n",
            "near                99.99\n",
            "place               99.94\n",
            "quote_url           95.31\n",
            "thumbnail           80.79\n",
            "reply_to             0.02\n",
            "search               0.02\n",
            "nretweets            0.02\n",
            "nreplies             0.02\n",
            "nlikes               0.02\n",
            "retweet              0.02\n",
            "video                0.02\n",
            "day                  0.02\n",
            "name                 0.02\n",
            "user_id              0.01\n",
            "urls                 0.01\n",
            "link                 0.01\n",
            "hour                 0.01\n",
            "username             0.01\n",
            "user_id_str          0.01\n",
            "photos               0.01\n",
            "cashtags             0.01\n",
            "hashtags             0.01\n",
            "language             0.01\n",
            "date                 0.00\n",
            "created_at           0.00\n",
            "conversation_id      0.00\n",
            "timezone             0.00\n",
            "tweet                0.00\n",
            "id                   0.00\n",
            "dtype: float64\n"
          ]
        }
      ],
      "source": [
        "### Menghitung persentase missing values pada setiap kolom\n",
        "\n",
        "percent_miss = round((df.isnull().sum() / len(df)) * 100, 2)\n",
        "\n",
        "print(percent_miss.sort_values(ascending=False))"
      ]
    },
    {
      "cell_type": "markdown",
      "source": [
        "Menurut pendapat kami, kolom/variabel yang mempunyai jumlah missing values di atas 80% tidak mengandung banyak informasi yang dapat digali. Oleh karena itu, kami memutuskan untuk membuang kolom/variabel dengan jumlah missing values di atas 80%."
      ],
      "metadata": {
        "id": "_cQM_L91wQ4i"
      }
    },
    {
      "cell_type": "code",
      "execution_count": null,
      "metadata": {
        "colab": {
          "base_uri": "https://localhost:8080/"
        },
        "id": "rBPv5IIM61KH",
        "outputId": "afbd36bb-52a3-4070-fb57-0ab5e12c073b"
      },
      "outputs": [
        {
          "output_type": "stream",
          "name": "stdout",
          "text": [
            "<class 'pandas.core.frame.DataFrame'>\n",
            "RangeIndex: 10433 entries, 0 to 10432\n",
            "Data columns (total 25 columns):\n",
            " #   Column           Non-Null Count  Dtype  \n",
            "---  ------           --------------  -----  \n",
            " 0   id               10433 non-null  object \n",
            " 1   conversation_id  10433 non-null  object \n",
            " 2   created_at       10433 non-null  object \n",
            " 3   date             10433 non-null  object \n",
            " 4   timezone         10433 non-null  int64  \n",
            " 5   tweet            10433 non-null  object \n",
            " 6   language         10432 non-null  object \n",
            " 7   hashtags         10432 non-null  object \n",
            " 8   cashtags         10432 non-null  object \n",
            " 9   user_id          10432 non-null  object \n",
            " 10  user_id_str      10432 non-null  object \n",
            " 11  username         10432 non-null  object \n",
            " 12  name             10431 non-null  object \n",
            " 13  day              10431 non-null  float64\n",
            " 14  hour             10432 non-null  object \n",
            " 15  link             10432 non-null  object \n",
            " 16  urls             10432 non-null  object \n",
            " 17  photos           10432 non-null  object \n",
            " 18  video            10431 non-null  float64\n",
            " 19  retweet          10431 non-null  object \n",
            " 20  nlikes           10431 non-null  float64\n",
            " 21  nreplies         10431 non-null  float64\n",
            " 22  nretweets        10431 non-null  float64\n",
            " 23  search           10431 non-null  object \n",
            " 24  reply_to         10431 non-null  object \n",
            "dtypes: float64(5), int64(1), object(19)\n",
            "memory usage: 2.0+ MB\n"
          ]
        }
      ],
      "source": [
        "### Membuang kolom yang memiliki persentasi missing values > 80%\n",
        "\n",
        "miss_cols = percent_miss[percent_miss > 80].index\n",
        "\n",
        "df.drop(columns=miss_cols, inplace=True)\n",
        "\n",
        "df.info()"
      ]
    },
    {
      "cell_type": "code",
      "execution_count": null,
      "metadata": {
        "colab": {
          "base_uri": "https://localhost:8080/"
        },
        "id": "EfUzMNs07wXE",
        "outputId": "bf19ae07-db5d-45e7-a381-efd76f0904c5"
      },
      "outputs": [
        {
          "output_type": "stream",
          "name": "stdout",
          "text": [
            "<class 'pandas.core.frame.DataFrame'>\n",
            "Int64Index: 10430 entries, 0 to 10432\n",
            "Data columns (total 25 columns):\n",
            " #   Column           Non-Null Count  Dtype  \n",
            "---  ------           --------------  -----  \n",
            " 0   id               10430 non-null  object \n",
            " 1   conversation_id  10430 non-null  object \n",
            " 2   created_at       10430 non-null  object \n",
            " 3   date             10430 non-null  object \n",
            " 4   timezone         10430 non-null  int64  \n",
            " 5   tweet            10430 non-null  object \n",
            " 6   language         10430 non-null  object \n",
            " 7   hashtags         10430 non-null  object \n",
            " 8   cashtags         10430 non-null  object \n",
            " 9   user_id          10430 non-null  object \n",
            " 10  user_id_str      10430 non-null  object \n",
            " 11  username         10430 non-null  object \n",
            " 12  name             10430 non-null  object \n",
            " 13  day              10430 non-null  float64\n",
            " 14  hour             10430 non-null  object \n",
            " 15  link             10430 non-null  object \n",
            " 16  urls             10430 non-null  object \n",
            " 17  photos           10430 non-null  object \n",
            " 18  video            10430 non-null  float64\n",
            " 19  retweet          10430 non-null  object \n",
            " 20  nlikes           10430 non-null  float64\n",
            " 21  nreplies         10430 non-null  float64\n",
            " 22  nretweets        10430 non-null  float64\n",
            " 23  search           10430 non-null  object \n",
            " 24  reply_to         10430 non-null  object \n",
            "dtypes: float64(5), int64(1), object(19)\n",
            "memory usage: 2.1+ MB\n"
          ]
        }
      ],
      "source": [
        "### Membuang baris yang memiliki missing values pada minimal satu kolomnya\n",
        "\n",
        "df.dropna(inplace=True)\n",
        "\n",
        "df.info()"
      ]
    },
    {
      "cell_type": "code",
      "execution_count": null,
      "metadata": {
        "id": "c9Yh1e3sn9vP"
      },
      "outputs": [],
      "source": [
        "### Mengganti tipe data dari beberapa kolom\n",
        "\n",
        "df['date'] = pd.to_datetime(df['date'], format='%Y-%m-%d %H:%M:%S')\n",
        "df['hour'] = df['hour'].astype('int64')"
      ]
    },
    {
      "cell_type": "markdown",
      "metadata": {
        "id": "KbX_nqXB1RnQ"
      },
      "source": [
        "# Preprocessing untuk Sentimen Analisis"
      ]
    },
    {
      "cell_type": "markdown",
      "metadata": {
        "id": "dEwGBphokWAl"
      },
      "source": [
        "Selanjutnya, akan dilakukan Sentimen Analisis. Sebelum melakukan Sentimen Analisis, dilakukan preprocessing data terlebih dahulu dengan membersihkan data-data tweet yang masih kotor. Proses pembersihan data meliputi penghapusan simbol (namun tidak menghapus underscore), penghapusan link, penghapusan mention pada suatu tweet, lemmatization atau pengubahan suatu kata menjadi kata dasar berdasarkan konteks dari kata tersebut, tokenisasi atau pemenggalan kalimat menjadi kata-kata, dan penggantian kata-kata slang menjadi kata baku."
      ]
    },
    {
      "cell_type": "code",
      "execution_count": null,
      "metadata": {
        "colab": {
          "base_uri": "https://localhost:8080/"
        },
        "id": "Q4dfGREa1e0d",
        "outputId": "531c5879-c121-461e-b0f0-c0f526195429"
      },
      "outputs": [
        {
          "output_type": "stream",
          "name": "stdout",
          "text": [
            "126\n"
          ]
        }
      ],
      "source": [
        "### Melakukan import list stop words bahasa indonesia dengan library \"Sastrawi\"\n",
        "\n",
        "Sastrawi_StopWords_id = factory.get_stop_words()\n",
        "\n",
        "print(len(Sastrawi_StopWords_id))\n",
        "\n",
        "Sastrawi_StopWords_id = set(Sastrawi_StopWords_id)"
      ]
    },
    {
      "cell_type": "code",
      "execution_count": null,
      "metadata": {
        "colab": {
          "base_uri": "https://localhost:8080/"
        },
        "id": "5SOjagfr6eRF",
        "outputId": "996d3770-b2ec-4cd0-d418-9e13e1d70885"
      },
      "outputs": [
        {
          "output_type": "execute_result",
          "data": {
            "text/plain": [
              "1018"
            ]
          },
          "metadata": {},
          "execution_count": 10
        }
      ],
      "source": [
        "### Melakukan import list kata-kata slang yang bersumber dari github dan juga menambahkan beberapa kata-kata slang lainnya\n",
        "\n",
        "slang = urllib.request.urlopen('https://raw.githubusercontent.com/louisowen6/NLP_bahasa_resources/master/combined_slang_words.txt')\n",
        "slang = json.loads(slang.read())\n",
        "\n",
        "len(slang)"
      ]
    },
    {
      "cell_type": "code",
      "execution_count": null,
      "metadata": {
        "id": "RXDIo628zccd"
      },
      "outputs": [],
      "source": [
        "### Membuat fungsi untuk membersihkan data tweet yang masih kotor\n",
        "\n",
        "def cleanText(txt):\n",
        "    docx = unidecode(unescape(txt.lower().strip())) # Encode data tweet\n",
        "    urlPattern = re.compile(r'http[s]?://(?:[a-zA-Z]|[0-9]|[$-_@.&+]|[!*\\(\\),]|(?:%[0-9a-fA-F][0-9a-fA-F]))+')\n",
        "    docx = re.sub(urlPattern,' ', docx) # Menghilangkan links\n",
        "    docx = re.sub(r'[^\\w]', ' ', docx) # Menghilangkan simbol,  tidak menghilangkan underscore\n",
        "    #docx = ' '.join([t for t in Tokens if str(t) not in Sastrawi_StopWords_id and len(t)>2]) # Stopwords filtering (tidak digunakan untuk sentimen analisis)\n",
        "    docx = stemmer.stem(docx) # Lemmatize\n",
        "    docx = TextBlob(docx).words # Tokenisasi\n",
        "\n",
        "    for i, t in enumerate(docx): # Memproses kata slang\n",
        "      if t in slang.keys():\n",
        "        docx[i] = slang[t]\n",
        "    docx = ' '.join(docx)\n",
        "\n",
        "    return docx"
      ]
    },
    {
      "cell_type": "code",
      "execution_count": null,
      "metadata": {
        "id": "UexC75Ik-tdI"
      },
      "outputs": [],
      "source": [
        "### Mengaplikasikan fungsi \"cleanText\" ke data tweet yang masih kotor\n",
        "\n",
        "df['cleaned_tweet'] = df['tweet'].apply(cleanText)"
      ]
    },
    {
      "cell_type": "code",
      "execution_count": null,
      "metadata": {
        "colab": {
          "base_uri": "https://localhost:8080/",
          "height": 363
        },
        "id": "qXJEt33L_ywn",
        "outputId": "855d5d64-bae2-42a9-c769-358d460729b4"
      },
      "outputs": [
        {
          "output_type": "execute_result",
          "data": {
            "text/plain": [
              "                                                   tweet  \\\n",
              "901    Aksi koki selebritas Salt Bae yang memegang da...   \n",
              "10347  FIFA siapkan Piala Dunia terakbar dengan 48 ne...   \n",
              "7064   @ChelseafanIndo Hanya ketika kegagalan Argenti...   \n",
              "4542   Bocoran dari Legenda, Messi Bakal Tampil di Pi...   \n",
              "10414  Emiliano Martinez mengungkap alasan terkait se...   \n",
              "9358   @senogp @MoooiPustaka Leo Messi bisa angkat pi...   \n",
              "1526   @AlionelMessi_ Renovasi anggaran besar tapi ha...   \n",
              "3581   VITTORIO POZZO (Italia), adalah satu-satunya p...   \n",
              "7263   SISA-SISA SETERU FINAL PIALA DUNIA 2022  https...   \n",
              "10390  Pertama kali ngikutin piala dunia yang bener-b...   \n",
              "\n",
              "                                           cleaned_tweet  \n",
              "901    aksi koki selebritas salt bae yang pegang dan ...  \n",
              "10347  fifa siap piala dunia akbar dengan 48 negara s...  \n",
              "7064   chelseafanindo hanya ketika gagal argentina di...  \n",
              "4542   bocor dari legenda messi bakal tampil di piala...  \n",
              "10414  emiliano martinez ungkap alas kait selebrasi u...  \n",
              "9358   senogp moooipustaka leo messi bisa angkat pial...  \n",
              "1526   alionelmessi renovasi anggar besar tapi hasil ...  \n",
              "3581   vittorio pozzo italia adalah satu satu latih y...  \n",
              "7263             sisa sisa seteru final piala dunia 2022  \n",
              "10390  pertama kali ngikutin piala dunia yang benar b...  "
            ],
            "text/html": [
              "\n",
              "  <div id=\"df-9e072b18-5254-40e9-8e9e-c53cb5343af3\">\n",
              "    <div class=\"colab-df-container\">\n",
              "      <div>\n",
              "<style scoped>\n",
              "    .dataframe tbody tr th:only-of-type {\n",
              "        vertical-align: middle;\n",
              "    }\n",
              "\n",
              "    .dataframe tbody tr th {\n",
              "        vertical-align: top;\n",
              "    }\n",
              "\n",
              "    .dataframe thead th {\n",
              "        text-align: right;\n",
              "    }\n",
              "</style>\n",
              "<table border=\"1\" class=\"dataframe\">\n",
              "  <thead>\n",
              "    <tr style=\"text-align: right;\">\n",
              "      <th></th>\n",
              "      <th>tweet</th>\n",
              "      <th>cleaned_tweet</th>\n",
              "    </tr>\n",
              "  </thead>\n",
              "  <tbody>\n",
              "    <tr>\n",
              "      <th>901</th>\n",
              "      <td>Aksi koki selebritas Salt Bae yang memegang da...</td>\n",
              "      <td>aksi koki selebritas salt bae yang pegang dan ...</td>\n",
              "    </tr>\n",
              "    <tr>\n",
              "      <th>10347</th>\n",
              "      <td>FIFA siapkan Piala Dunia terakbar dengan 48 ne...</td>\n",
              "      <td>fifa siap piala dunia akbar dengan 48 negara s...</td>\n",
              "    </tr>\n",
              "    <tr>\n",
              "      <th>7064</th>\n",
              "      <td>@ChelseafanIndo Hanya ketika kegagalan Argenti...</td>\n",
              "      <td>chelseafanindo hanya ketika gagal argentina di...</td>\n",
              "    </tr>\n",
              "    <tr>\n",
              "      <th>4542</th>\n",
              "      <td>Bocoran dari Legenda, Messi Bakal Tampil di Pi...</td>\n",
              "      <td>bocor dari legenda messi bakal tampil di piala...</td>\n",
              "    </tr>\n",
              "    <tr>\n",
              "      <th>10414</th>\n",
              "      <td>Emiliano Martinez mengungkap alasan terkait se...</td>\n",
              "      <td>emiliano martinez ungkap alas kait selebrasi u...</td>\n",
              "    </tr>\n",
              "    <tr>\n",
              "      <th>9358</th>\n",
              "      <td>@senogp @MoooiPustaka Leo Messi bisa angkat pi...</td>\n",
              "      <td>senogp moooipustaka leo messi bisa angkat pial...</td>\n",
              "    </tr>\n",
              "    <tr>\n",
              "      <th>1526</th>\n",
              "      <td>@AlionelMessi_ Renovasi anggaran besar tapi ha...</td>\n",
              "      <td>alionelmessi renovasi anggar besar tapi hasil ...</td>\n",
              "    </tr>\n",
              "    <tr>\n",
              "      <th>3581</th>\n",
              "      <td>VITTORIO POZZO (Italia), adalah satu-satunya p...</td>\n",
              "      <td>vittorio pozzo italia adalah satu satu latih y...</td>\n",
              "    </tr>\n",
              "    <tr>\n",
              "      <th>7263</th>\n",
              "      <td>SISA-SISA SETERU FINAL PIALA DUNIA 2022  https...</td>\n",
              "      <td>sisa sisa seteru final piala dunia 2022</td>\n",
              "    </tr>\n",
              "    <tr>\n",
              "      <th>10390</th>\n",
              "      <td>Pertama kali ngikutin piala dunia yang bener-b...</td>\n",
              "      <td>pertama kali ngikutin piala dunia yang benar b...</td>\n",
              "    </tr>\n",
              "  </tbody>\n",
              "</table>\n",
              "</div>\n",
              "      <button class=\"colab-df-convert\" onclick=\"convertToInteractive('df-9e072b18-5254-40e9-8e9e-c53cb5343af3')\"\n",
              "              title=\"Convert this dataframe to an interactive table.\"\n",
              "              style=\"display:none;\">\n",
              "        \n",
              "  <svg xmlns=\"http://www.w3.org/2000/svg\" height=\"24px\"viewBox=\"0 0 24 24\"\n",
              "       width=\"24px\">\n",
              "    <path d=\"M0 0h24v24H0V0z\" fill=\"none\"/>\n",
              "    <path d=\"M18.56 5.44l.94 2.06.94-2.06 2.06-.94-2.06-.94-.94-2.06-.94 2.06-2.06.94zm-11 1L8.5 8.5l.94-2.06 2.06-.94-2.06-.94L8.5 2.5l-.94 2.06-2.06.94zm10 10l.94 2.06.94-2.06 2.06-.94-2.06-.94-.94-2.06-.94 2.06-2.06.94z\"/><path d=\"M17.41 7.96l-1.37-1.37c-.4-.4-.92-.59-1.43-.59-.52 0-1.04.2-1.43.59L10.3 9.45l-7.72 7.72c-.78.78-.78 2.05 0 2.83L4 21.41c.39.39.9.59 1.41.59.51 0 1.02-.2 1.41-.59l7.78-7.78 2.81-2.81c.8-.78.8-2.07 0-2.86zM5.41 20L4 18.59l7.72-7.72 1.47 1.35L5.41 20z\"/>\n",
              "  </svg>\n",
              "      </button>\n",
              "      \n",
              "  <style>\n",
              "    .colab-df-container {\n",
              "      display:flex;\n",
              "      flex-wrap:wrap;\n",
              "      gap: 12px;\n",
              "    }\n",
              "\n",
              "    .colab-df-convert {\n",
              "      background-color: #E8F0FE;\n",
              "      border: none;\n",
              "      border-radius: 50%;\n",
              "      cursor: pointer;\n",
              "      display: none;\n",
              "      fill: #1967D2;\n",
              "      height: 32px;\n",
              "      padding: 0 0 0 0;\n",
              "      width: 32px;\n",
              "    }\n",
              "\n",
              "    .colab-df-convert:hover {\n",
              "      background-color: #E2EBFA;\n",
              "      box-shadow: 0px 1px 2px rgba(60, 64, 67, 0.3), 0px 1px 3px 1px rgba(60, 64, 67, 0.15);\n",
              "      fill: #174EA6;\n",
              "    }\n",
              "\n",
              "    [theme=dark] .colab-df-convert {\n",
              "      background-color: #3B4455;\n",
              "      fill: #D2E3FC;\n",
              "    }\n",
              "\n",
              "    [theme=dark] .colab-df-convert:hover {\n",
              "      background-color: #434B5C;\n",
              "      box-shadow: 0px 1px 3px 1px rgba(0, 0, 0, 0.15);\n",
              "      filter: drop-shadow(0px 1px 2px rgba(0, 0, 0, 0.3));\n",
              "      fill: #FFFFFF;\n",
              "    }\n",
              "  </style>\n",
              "\n",
              "      <script>\n",
              "        const buttonEl =\n",
              "          document.querySelector('#df-9e072b18-5254-40e9-8e9e-c53cb5343af3 button.colab-df-convert');\n",
              "        buttonEl.style.display =\n",
              "          google.colab.kernel.accessAllowed ? 'block' : 'none';\n",
              "\n",
              "        async function convertToInteractive(key) {\n",
              "          const element = document.querySelector('#df-9e072b18-5254-40e9-8e9e-c53cb5343af3');\n",
              "          const dataTable =\n",
              "            await google.colab.kernel.invokeFunction('convertToInteractive',\n",
              "                                                     [key], {});\n",
              "          if (!dataTable) return;\n",
              "\n",
              "          const docLinkHtml = 'Like what you see? Visit the ' +\n",
              "            '<a target=\"_blank\" href=https://colab.research.google.com/notebooks/data_table.ipynb>data table notebook</a>'\n",
              "            + ' to learn more about interactive tables.';\n",
              "          element.innerHTML = '';\n",
              "          dataTable['output_type'] = 'display_data';\n",
              "          await google.colab.output.renderOutput(dataTable, element);\n",
              "          const docLink = document.createElement('div');\n",
              "          docLink.innerHTML = docLinkHtml;\n",
              "          element.appendChild(docLink);\n",
              "        }\n",
              "      </script>\n",
              "    </div>\n",
              "  </div>\n",
              "  "
            ]
          },
          "metadata": {},
          "execution_count": 18
        }
      ],
      "source": [
        "  ### Preview data tweet yang telah dibersihkan\n",
        "\n",
        "df[['tweet', 'cleaned_tweet']].sample(10)"
      ]
    },
    {
      "cell_type": "code",
      "execution_count": null,
      "metadata": {
        "id": "91LFeR2FSTfp"
      },
      "outputs": [],
      "source": [
        "### Menyimpan data tweet yang telah dibersihkan ke dalam file \".txt\"\n",
        "\n",
        "df[['cleaned_tweet']].to_csv(\"cleaned_tweet.txt\", index=False, encoding='utf8', header=False)"
      ]
    },
    {
      "cell_type": "markdown",
      "metadata": {
        "id": "AjUNGzEBqT_V"
      },
      "source": [
        "# EDA"
      ]
    },
    {
      "cell_type": "markdown",
      "metadata": {
        "id": "Ev80vVs_lxB6"
      },
      "source": [
        "Untuk tahapan selanjutnya, akan dilakukan Exploratory Data Analysis (EDA) untuk melihat informasi secara umum mengenai data yang digunakan."
      ]
    },
    {
      "cell_type": "code",
      "execution_count": null,
      "metadata": {
        "colab": {
          "base_uri": "https://localhost:8080/",
          "height": 306
        },
        "id": "SyLhYhJkqU0L",
        "outputId": "c9b30aa3-d33b-41c9-cce9-bc1f3bb19e70"
      },
      "outputs": [
        {
          "output_type": "display_data",
          "data": {
            "text/plain": [
              "<Figure size 432x288 with 1 Axes>"
            ],
            "image/png": "[encoded data removed]"
          },
          "metadata": {
            "needs_background": "light"
          }
        }
      ],
      "source": [
        "### Jumlah tweet setiap jamnya\n",
        "\n",
        "df_hour = df['hour'].value_counts().sort_index()\n",
        "\n",
        "ax = sns.barplot(x=df_hour.index, y=df_hour, color='blue')\n",
        "plt.xlabel('hour')\n",
        "plt.ylabel('count')\n",
        "plt.title('Distribusi Jumlah Tweet Tiap Jam', y=1.05)\n",
        "\n",
        "plt.show()"
      ]
    },
    {
      "cell_type": "markdown",
      "metadata": {
        "id": "eZKEPb-q9-ar"
      },
      "source": [
        "Plot di atas menunjukkan jumlah *tweet* yang terjadi selama tanggal 20 Desember 2022 hingga 25 Desember 2022 mengenai topik Piala Dunia Qatar 2022. Dari plot di atas dapat terlihat bahwa mayoritas dari user banyak membuat *tweet* tentang Piala Dunia Qatar 2022 pada waktu pagi hingga siang hari, yaitu dimulai antara pukul 02.00 sampai pukul 13.00. Kemudian jumlah tweet menurun drastis pada waktu sore hingga malam hari, yaitu dimulai antara pukul 14.00 sampai dengan pukul 00.00. Hal tersebut bisa saja disebabkan karena pergelaran Piala Dunia Qatar 2022 yang telah usai pada tanggal 18 Desember 2022, yang mana biasanya laga piala dunia mulai dimainkan pada pukul 22.00 dan karena pergelaran piala dunia telah usai maka jumlah user yang membuat *tweet* pada jam tersebut menurun."
      ]
    },
    {
      "cell_type": "code",
      "execution_count": null,
      "metadata": {
        "colab": {
          "base_uri": "https://localhost:8080/",
          "height": 592
        },
        "id": "c3QytAxSCrjq",
        "outputId": "35520fe7-4c22-4ab4-d558-90711ce52bbb"
      },
      "outputs": [
        {
          "output_type": "display_data",
          "data": {
            "text/plain": [
              "<Figure size 864x720 with 2 Axes>"
            ],
            "image/png": "[encoded data removed]"
          },
          "metadata": {
            "needs_background": "light"
          }
        }
      ],
      "source": [
        "#Plot korelasi dari data\n",
        "cor = df.corr()\n",
        "plt.figure(figsize=(12, 10))\n",
        "sns.heatmap(cor[(cor >= 0.5) | (cor <= -0.4)],\n",
        "            cmap='viridis', vmax=1.0, vmin=-1.0, linewidths=0.1,\n",
        "            annot=True, annot_kws={\"size\": 8}, square = True);"
      ]
    },
    {
      "cell_type": "markdown",
      "metadata": {
        "id": "VBLGK-4_mAJX"
      },
      "source": [
        "Pada grafik heatmap korelasi diatas, dapat disimpulkan bahwa:\n",
        "\n",
        "Terdapat korelasi positif linear yang kuat antara jumlah likes dan jumlah retweets sebesar r=0.85\n",
        "\n",
        "Terdapat korelasi positif linear yang kuat antara jumlah likes dan jumlah replies sebesar r=0.83\n",
        "\n",
        "Terdapat korelasi positif linear sedang antara jumlah replies dan jumlah retweets sebesar r=0.66"
      ]
    },
    {
      "cell_type": "markdown",
      "metadata": {
        "id": "HzMNZGOmoIlb"
      },
      "source": [
        "# Visualisasi Text"
      ]
    },
    {
      "cell_type": "markdown",
      "metadata": {
        "id": "LDictFyIp_zt"
      },
      "source": [
        "Akan dilakukan visualisasi text dari data tweet yang telah dibersihkan menggunakan aplikasi Voyant."
      ]
    },
    {
      "cell_type": "markdown",
      "metadata": {
        "id": "R_Yq7aQSowpD"
      },
      "source": [
        "### WordClouds"
      ]
    },
    {
      "cell_type": "markdown",
      "metadata": {
        "id": "u5wMVJ2AXwT2"
      },
      "source": [
        "![picture](https://drive.google.com/uc?export=view&id=1Qeg4N0gDT9BUujUg6NNHDc7WbKjiAnD7)"
      ]
    },
    {
      "cell_type": "markdown",
      "metadata": {
        "id": "iBB82Bwjo2IJ"
      },
      "source": [
        "Pada WordClouds diatas, terlihat bahwa kata Piala dan Dunia adalah kata yang memiliki ukuran paling dominan diantara kata lainnya, ini berarti kata Piala dan Dunia adalah kata yang paling banyak muncul pada lingkup topik yang kami angkat, yakni Piala Dunia 2022. Selain itu, terdapat kata Argentina dan Messi yang juga terlihat memiliki ukuran teks lebih besar dibanding yang lainnya.\n",
        "\n",
        "Dari data tweet yang digunakan, kata Messi cenderung terdapat pada tweet yang membahas tentang pemain terbaik selama ajang Piala Dunia Qatar 2022 digelar. Sedangkan, kata Argentina cenderung banyak terdapat pada tweet yang membahas tentang partai final karena Argentina merupakan salah satu negara yang berhasil masuk ke babak final bersama Perancis.\n",
        "\n",
        "Keberhasilan Argentina meraih gelar juara juga menjadi salah satu ruang lingkup mengapa kata Argentina dan juga Messi, sebagai kapten tim negara tersebut, menjadi kata yang banyak disebut pada data yang kami gunakan."
      ]
    },
    {
      "cell_type": "markdown",
      "metadata": {
        "id": "AiWORogVpBu8"
      },
      "source": [
        "### Links"
      ]
    },
    {
      "cell_type": "markdown",
      "metadata": {
        "id": "EQP0gPuJbNMG"
      },
      "source": [
        "![picture](https://drive.google.com/uc?export=view&id=1SX1DlVBDrvaQy2KU3TvvB3iFPUooW139)"
      ]
    },
    {
      "cell_type": "markdown",
      "metadata": {
        "id": "5_k2DVK8pIlp"
      },
      "source": [
        "Pada Links diatas, terdapat dua warna pada visualisasi grafiknya, yakni biru dan orange. Dimana warna biru menandakan kata-kata yang lebih banyak muncul, sedangkan warna orange menandakan kata-kata pendukungnya. Pada hasil visualisasi Links dari data yang kami gunakan, terdapat kata Piala, Dunia, Qatar, 2022, dan Menang yang memiliki warna biru. Sedangkan, kata Argentina, Messi, Juara, dan Final memilki warna orange. Kata Piala dan Dunia juga menjadi dua kata paling dominan pada Links diatas.\n",
        "\n",
        "Selain itu, jika satu kata terhubung ke kata lain dengan garis pada Links diatas, maka hal itu menandakan bahwa dua kata tersebut sering terdapat pada satu kalimat yang sama. Contohnya, pada gambar terlihat bahwa kata Piala dan Dunia terhubung oleh suatu garis yang menandakan kedua kata ini sering muncul pada satu kalimat yang sama. Kata Piala dan Dunia juga cenderung terhubung ke seluruh kata pendukung pada Links di atas yang umumnya membahas tentang gelar juara Piala Dunia 2022, yakni Argentina sebagai negara pemenang, Messi sebagai kapten dari kesebelasan Argentina, serta kata Juara itu sendiri."
      ]
    },
    {
      "cell_type": "markdown",
      "metadata": {
        "id": "qWo4idcpCz10"
      },
      "source": [
        "# Social Network Analysis"
      ]
    },
    {
      "cell_type": "markdown",
      "source": [
        "*Social Network Analysis* adalah suatu metode untuk memvisualisasikan aktivitas dan kekuatan koneksi antar pengguna di jejaring sosial, serta sebagai langkah untuk mengidentifikasi interaksi dalam berbagi pengetahuan. Social network analisis ini juga dapat melakukan pemetaan dan pengukuran hubungan di antara orang-orang, kelompok, organisasi, komputer atau badan informasi/pengetahuan serta pengolahan lainnya yang berada dalam jaringan.\n",
        "\n",
        "*Social Network Analysis* (SNA) juga dapat dideskripsikan sebagai suatu ilmu yang mempelajari hubungan manusia dengan bantuan teori graf. SNA mempelajari struktur hubungan yang mengaitkan individu atau unit sosial lain dan ketergantungan dalam perilaku atau sikap yang berhubungan dengan susunan hubungan sosial.\n",
        "\n",
        "Hubungan tersebut digambarkan dengan nodes, atau bisa disebut vertices yang melambangkan aktor atau user dan ties atau disebut juga edges, links atau connections yang melambangkan hubungan antar aktor."
      ],
      "metadata": {
        "id": "4qMX_LX7hOD8"
      }
    },
    {
      "cell_type": "markdown",
      "source": [
        "Pada bagian ini kami akan melakukan teknik *Social Network Analysis* (SNA) dengan menggunakan username twitter sebagai nodes atau vertices dan mention sebagai edges. Berikut adalah tahapan pengerjaan yang akan kami lakukan."
      ],
      "metadata": {
        "id": "gf8-ujpdhoj4"
      }
    },
    {
      "cell_type": "markdown",
      "metadata": {
        "id": "U1b2aH8PDJkU"
      },
      "source": [
        "## Mengidentifikasi Nodes serta Edges dengan Menggunakan Python"
      ]
    },
    {
      "cell_type": "markdown",
      "source": [
        "Pada bagian ini akan dilakukan proses pembentukan nodes (username twitter) serta edges (mention) dengan menggunakan bantuan Python."
      ],
      "metadata": {
        "id": "ZVu_m90yiSWk"
      }
    },
    {
      "cell_type": "code",
      "execution_count": null,
      "metadata": {
        "colab": {
          "base_uri": "https://localhost:8080/",
          "height": 315
        },
        "id": "JkFJHhamC2_M",
        "outputId": "c905ffdf-7ba5-48e4-f3e4-06b0f9205df3"
      },
      "outputs": [
        {
          "output_type": "stream",
          "name": "stderr",
          "text": [
            "/usr/local/lib/python3.8/dist-packages/pandas/core/frame.py:5039: SettingWithCopyWarning: \n",
            "A value is trying to be set on a copy of a slice from a DataFrame\n",
            "\n",
            "See the caveats in the documentation: https://pandas.pydata.org/pandas-docs/stable/user_guide/indexing.html#returning-a-view-versus-a-copy\n",
            "  return super().rename(\n"
          ]
        },
        {
          "output_type": "execute_result",
          "data": {
            "text/plain": [
              "              user                                              tweet\n",
              "0     mulyadi_ipul  @CNNIndonesia Pekerjaan bodoh dan GK masuk aka...\n",
              "1  AnakBai36994926  @amazoght @idextratime Bukan hanya dari piala ...\n",
              "2        ArdanNews  Jadwal Liga Spanyol usai Piala Dunia 2022, Mis...\n",
              "3        ArdanNews  Prediksi Skor Brentford vs Tottenham Hotspurs ...\n",
              "4      bukanwarini  Lawan @xel_ad, di piala dunia kalah sih kemari..."
            ],
            "text/html": [
              "\n",
              "  <div id=\"df-c9aa9b08-617a-459d-9339-ab2cfca0938e\">\n",
              "    <div class=\"colab-df-container\">\n",
              "      <div>\n",
              "<style scoped>\n",
              "    .dataframe tbody tr th:only-of-type {\n",
              "        vertical-align: middle;\n",
              "    }\n",
              "\n",
              "    .dataframe tbody tr th {\n",
              "        vertical-align: top;\n",
              "    }\n",
              "\n",
              "    .dataframe thead th {\n",
              "        text-align: right;\n",
              "    }\n",
              "</style>\n",
              "<table border=\"1\" class=\"dataframe\">\n",
              "  <thead>\n",
              "    <tr style=\"text-align: right;\">\n",
              "      <th></th>\n",
              "      <th>user</th>\n",
              "      <th>tweet</th>\n",
              "    </tr>\n",
              "  </thead>\n",
              "  <tbody>\n",
              "    <tr>\n",
              "      <th>0</th>\n",
              "      <td>mulyadi_ipul</td>\n",
              "      <td>@CNNIndonesia Pekerjaan bodoh dan GK masuk aka...</td>\n",
              "    </tr>\n",
              "    <tr>\n",
              "      <th>1</th>\n",
              "      <td>AnakBai36994926</td>\n",
              "      <td>@amazoght @idextratime Bukan hanya dari piala ...</td>\n",
              "    </tr>\n",
              "    <tr>\n",
              "      <th>2</th>\n",
              "      <td>ArdanNews</td>\n",
              "      <td>Jadwal Liga Spanyol usai Piala Dunia 2022, Mis...</td>\n",
              "    </tr>\n",
              "    <tr>\n",
              "      <th>3</th>\n",
              "      <td>ArdanNews</td>\n",
              "      <td>Prediksi Skor Brentford vs Tottenham Hotspurs ...</td>\n",
              "    </tr>\n",
              "    <tr>\n",
              "      <th>4</th>\n",
              "      <td>bukanwarini</td>\n",
              "      <td>Lawan @xel_ad, di piala dunia kalah sih kemari...</td>\n",
              "    </tr>\n",
              "  </tbody>\n",
              "</table>\n",
              "</div>\n",
              "      <button class=\"colab-df-convert\" onclick=\"convertToInteractive('df-c9aa9b08-617a-459d-9339-ab2cfca0938e')\"\n",
              "              title=\"Convert this dataframe to an interactive table.\"\n",
              "              style=\"display:none;\">\n",
              "        \n",
              "  <svg xmlns=\"http://www.w3.org/2000/svg\" height=\"24px\"viewBox=\"0 0 24 24\"\n",
              "       width=\"24px\">\n",
              "    <path d=\"M0 0h24v24H0V0z\" fill=\"none\"/>\n",
              "    <path d=\"M18.56 5.44l.94 2.06.94-2.06 2.06-.94-2.06-.94-.94-2.06-.94 2.06-2.06.94zm-11 1L8.5 8.5l.94-2.06 2.06-.94-2.06-.94L8.5 2.5l-.94 2.06-2.06.94zm10 10l.94 2.06.94-2.06 2.06-.94-2.06-.94-.94-2.06-.94 2.06-2.06.94z\"/><path d=\"M17.41 7.96l-1.37-1.37c-.4-.4-.92-.59-1.43-.59-.52 0-1.04.2-1.43.59L10.3 9.45l-7.72 7.72c-.78.78-.78 2.05 0 2.83L4 21.41c.39.39.9.59 1.41.59.51 0 1.02-.2 1.41-.59l7.78-7.78 2.81-2.81c.8-.78.8-2.07 0-2.86zM5.41 20L4 18.59l7.72-7.72 1.47 1.35L5.41 20z\"/>\n",
              "  </svg>\n",
              "      </button>\n",
              "      \n",
              "  <style>\n",
              "    .colab-df-container {\n",
              "      display:flex;\n",
              "      flex-wrap:wrap;\n",
              "      gap: 12px;\n",
              "    }\n",
              "\n",
              "    .colab-df-convert {\n",
              "      background-color: #E8F0FE;\n",
              "      border: none;\n",
              "      border-radius: 50%;\n",
              "      cursor: pointer;\n",
              "      display: none;\n",
              "      fill: #1967D2;\n",
              "      height: 32px;\n",
              "      padding: 0 0 0 0;\n",
              "      width: 32px;\n",
              "    }\n",
              "\n",
              "    .colab-df-convert:hover {\n",
              "      background-color: #E2EBFA;\n",
              "      box-shadow: 0px 1px 2px rgba(60, 64, 67, 0.3), 0px 1px 3px 1px rgba(60, 64, 67, 0.15);\n",
              "      fill: #174EA6;\n",
              "    }\n",
              "\n",
              "    [theme=dark] .colab-df-convert {\n",
              "      background-color: #3B4455;\n",
              "      fill: #D2E3FC;\n",
              "    }\n",
              "\n",
              "    [theme=dark] .colab-df-convert:hover {\n",
              "      background-color: #434B5C;\n",
              "      box-shadow: 0px 1px 3px 1px rgba(0, 0, 0, 0.15);\n",
              "      filter: drop-shadow(0px 1px 2px rgba(0, 0, 0, 0.3));\n",
              "      fill: #FFFFFF;\n",
              "    }\n",
              "  </style>\n",
              "\n",
              "      <script>\n",
              "        const buttonEl =\n",
              "          document.querySelector('#df-c9aa9b08-617a-459d-9339-ab2cfca0938e button.colab-df-convert');\n",
              "        buttonEl.style.display =\n",
              "          google.colab.kernel.accessAllowed ? 'block' : 'none';\n",
              "\n",
              "        async function convertToInteractive(key) {\n",
              "          const element = document.querySelector('#df-c9aa9b08-617a-459d-9339-ab2cfca0938e');\n",
              "          const dataTable =\n",
              "            await google.colab.kernel.invokeFunction('convertToInteractive',\n",
              "                                                     [key], {});\n",
              "          if (!dataTable) return;\n",
              "\n",
              "          const docLinkHtml = 'Like what you see? Visit the ' +\n",
              "            '<a target=\"_blank\" href=https://colab.research.google.com/notebooks/data_table.ipynb>data table notebook</a>'\n",
              "            + ' to learn more about interactive tables.';\n",
              "          element.innerHTML = '';\n",
              "          dataTable['output_type'] = 'display_data';\n",
              "          await google.colab.output.renderOutput(dataTable, element);\n",
              "          const docLink = document.createElement('div');\n",
              "          docLink.innerHTML = docLinkHtml;\n",
              "          element.appendChild(docLink);\n",
              "        }\n",
              "      </script>\n",
              "    </div>\n",
              "  </div>\n",
              "  "
            ]
          },
          "metadata": {},
          "execution_count": 14
        }
      ],
      "source": [
        "### Membuat dataframe baru yang hanya berisi kolom \"username\" & \"tweet\"\n",
        "\n",
        "df_mention = df[['username', 'tweet']]\n",
        "df_mention.rename({'username': 'user'}, axis=1, inplace=True)\n",
        "df_mention.head()"
      ]
    },
    {
      "cell_type": "code",
      "execution_count": null,
      "metadata": {
        "id": "YZMf3sv6DjR-"
      },
      "outputs": [],
      "source": [
        "### Menjadikan data \"user\" & \"tweet\" ke dalam bentuk list\n",
        "\n",
        "user = df_mention['user'].to_list()\n",
        "tweet = df_mention['tweet'].to_list()"
      ]
    },
    {
      "cell_type": "code",
      "execution_count": null,
      "metadata": {
        "colab": {
          "base_uri": "https://localhost:8080/"
        },
        "id": "mJUHMiYzDuQa",
        "outputId": "1dd7ba70-2f46-400e-937b-0c0796d5d9e4"
      },
      "outputs": [
        {
          "output_type": "stream",
          "name": "stdout",
          "text": [
            "Banyak nodes =  5454\n",
            "Banyak edges =  0\n"
          ]
        }
      ],
      "source": [
        "### Membuat graf kosong & menambahkan user-user yang ada menjadi nodes/vertex\n",
        "\n",
        "graf = nx.Graph()\n",
        "graf.add_nodes_from(user)\n",
        "\n",
        "print('Banyak nodes = ', graf.number_of_nodes())\n",
        "print('Banyak edges = ', graf.number_of_edges())"
      ]
    },
    {
      "cell_type": "code",
      "execution_count": null,
      "metadata": {
        "colab": {
          "base_uri": "https://localhost:8080/"
        },
        "id": "2dlUrsAlEFp6",
        "outputId": "a4c291f7-19c3-443a-836d-227c4f80eba0"
      },
      "outputs": [
        {
          "output_type": "stream",
          "name": "stdout",
          "text": [
            "Banyak vertex =  7177\n",
            "Banyak Edges =  4584\n"
          ]
        }
      ],
      "source": [
        "### Menggunakan for loop untuk menemukan siapa saja user yang dimention oleh user lain\n",
        "\n",
        "for u, t in zip(user, tweet):\n",
        "    mentions =  re.findall(\"@([a-zA-Z0-9]{1,15})\", t)\n",
        "    for mention in mentions:\n",
        "        if \".\" not in mention: #skip email\n",
        "            graf.add_edge(u, mention)\n",
        "\n",
        "print('Banyak vertex = ', graf.number_of_nodes())\n",
        "print('Banyak Edges = ', graf.number_of_edges())"
      ]
    },
    {
      "cell_type": "code",
      "execution_count": null,
      "metadata": {
        "id": "bM3NlK2AEknv"
      },
      "outputs": [],
      "source": [
        "### Save hasilnya menjadi file Gephi\n",
        "\n",
        "nx.write_gexf(graf, \"pildun_20-25 Desember_2022.gexf\")"
      ]
    },
    {
      "cell_type": "markdown",
      "source": [
        "Tipe graf yang dihasilkan oleh Python dengan menggunakan bantuan library NetworkX ini adalah undirected dimana hubungan atau koneksi antara satu node ke node lain tidak satu arah tetapi dua arah."
      ],
      "metadata": {
        "id": "93APiDwssmCq"
      }
    },
    {
      "cell_type": "markdown",
      "source": [
        "## Membuat Graf SNA dengan Menggunakan Gephi"
      ],
      "metadata": {
        "id": "k9mv7EZzi9iR"
      }
    },
    {
      "cell_type": "markdown",
      "source": [
        "Pada bagian ini akan dilakukan proses pembentukan graf dengan menggunakan nodes berupa username twitter serta edges berupa mention yang telah dibuat pada bagian sebelumnya. Berikut adalah step pengerjaannya."
      ],
      "metadata": {
        "id": "-o-AIJ6qp0VT"
      }
    },
    {
      "cell_type": "markdown",
      "source": [
        "Pertama-tama file \".gexf\" yang telah dihasilkan pada bagian sebelumnya akan diimport ke dalam gephi sebagai berikut."
      ],
      "metadata": {
        "id": "dfjBSV0iqQhp"
      }
    },
    {
      "cell_type": "markdown",
      "source": [
        "![picture](https://drive.google.com/uc?export=view&id=11-0PKbZ7bbcl0R-1brFuLcWncMa63eup)"
      ],
      "metadata": {
        "id": "LovQgx77tLo_"
      }
    },
    {
      "cell_type": "markdown",
      "source": [
        "Kemudian pada bagian \"Statistics\" akan dirun \"Modularity Report\" untuk mendapatkan skor serta hasil modularitynya sebagai berikut."
      ],
      "metadata": {
        "id": "jsk5UptPtfy7"
      }
    },
    {
      "cell_type": "markdown",
      "source": [
        "![picture](https://drive.google.com/uc?export=view&id=1Nh6bJbNE9mfsm_pxEJENNTFm6QF0PnWI)"
      ],
      "metadata": {
        "id": "1P_HyGTUtzCB"
      }
    },
    {
      "cell_type": "markdown",
      "source": [
        "Dari hasil modularity report di atas, didapatkan nilai modularity sebesar 0.877. Nilai ini mengindikasikan bahwa pada network yang akan dibentuk nantinya terdapat kecenderungan yang kuat setiap node untuk membentuk suatu kluster atau kelompok."
      ],
      "metadata": {
        "id": "LAo_R3sAt8qY"
      }
    },
    {
      "cell_type": "markdown",
      "source": [
        "Selanjutnya kembali pada bagian \"Statistics\" akan dirun \"Network Diameter Report\" untuk mendapatkan beberapa skor seperti Betweenness Centrality dan  Closeness Centrality sebagai berikut."
      ],
      "metadata": {
        "id": "JFFX98FzutSF"
      }
    },
    {
      "cell_type": "markdown",
      "source": [
        "![picture](https://drive.google.com/uc?export=view&id=1NSzaZqvz2HaCWiZ6rj5_6HcIZc7UtbHd)"
      ],
      "metadata": {
        "id": "eeqo_YUSvKii"
      }
    },
    {
      "cell_type": "markdown",
      "source": [
        "Kemudian akan dipilih layout untuk membentuk network grafnya. Pertama kami menerapkan layout bernama Force Atlas 2 sebagai berikut."
      ],
      "metadata": {
        "id": "BnlYnPOOdvcH"
      }
    },
    {
      "cell_type": "markdown",
      "source": [
        "![picture](https://drive.google.com/uc?export=view&id=1mYuK1ChC56cphVwUN-8cWJVcZKOPj-TT)"
      ],
      "metadata": {
        "id": "D_XaNxCFedfa"
      }
    },
    {
      "cell_type": "markdown",
      "source": [
        "Selanjutnya kami menerapkan layout bernama Yifan Hu Proportional sebagai berikut."
      ],
      "metadata": {
        "id": "6cu5d6BselxP"
      }
    },
    {
      "cell_type": "markdown",
      "source": [
        "![picture](https://drive.google.com/uc?export=view&id=1rTzUPA3mfW1GCc1BXTUNqV8K4jzpnz_O)"
      ],
      "metadata": {
        "id": "REzJJ3yFesvl"
      }
    },
    {
      "cell_type": "markdown",
      "source": [
        "Kemudian warna dari setiap nodes akan dipartisi berdasarkan hasil modularitynya sebagai berikut."
      ],
      "metadata": {
        "id": "QxqbBl3kvX2l"
      }
    },
    {
      "cell_type": "markdown",
      "source": [
        "![picture](https://drive.google.com/uc?export=view&id=1_5iowFjBsX2jupN_AvM8qn9Imgt4TuDX)"
      ],
      "metadata": {
        "id": "p6T3NA70vkay"
      }
    },
    {
      "cell_type": "markdown",
      "source": [
        "Selanjutnya ukuran dari setiap nodes akan dipartisi berdasarkan degree centralitynya sebagai berikut."
      ],
      "metadata": {
        "id": "TVYhBHrPwi5A"
      }
    },
    {
      "cell_type": "markdown",
      "source": [
        "![picture](https://drive.google.com/uc?export=view&id=1yWWGFDEH7u2VZ4PXWUEWF0_zJIELaMyh)"
      ],
      "metadata": {
        "id": "UOW6uISRwwZn"
      }
    },
    {
      "cell_type": "markdown",
      "source": [
        "Selanjutnya ukuran dari teks untuk setiap nodes pun akan dipartisi berdasarkan degree centralitynya sebagai berikut."
      ],
      "metadata": {
        "id": "dWm0JBuPw7Uc"
      }
    },
    {
      "cell_type": "markdown",
      "source": [
        "![picture](https://drive.google.com/uc?export=view&id=1FlRgNuT6I4E-DMGm7lgQNsXUM22O16PD)"
      ],
      "metadata": {
        "id": "YIhLdl7VxKB3"
      }
    },
    {
      "cell_type": "markdown",
      "source": [
        "Kemudian hasil dari graf network degree centrality yang telah dilakukan pada step-step di atas akan disave sebagai file \".png\"."
      ],
      "metadata": {
        "id": "yB5z9K21xn86"
      }
    },
    {
      "cell_type": "markdown",
      "source": [
        "Selanjutnya ukuran dari setiap nodes serta ukuran teks dari setiap nodes akan dipartisi berdasarkan eigenvector centralitynya sebagai berikut."
      ],
      "metadata": {
        "id": "VLpI04Uo6T_0"
      }
    },
    {
      "cell_type": "markdown",
      "source": [
        "![picture](https://drive.google.com/uc?export=view&id=1yUw6udc-scxwD1Lwm-4xbJCvli_lsu4W)"
      ],
      "metadata": {
        "id": "CBhHeG_c6hfY"
      }
    },
    {
      "cell_type": "markdown",
      "source": [
        "![picture](https://drive.google.com/uc?export=view&id=1-_kLRF3Hy6WXDMnNAuKqHoTDbdQsS1Gy)"
      ],
      "metadata": {
        "id": "fksDsW9N7OG_"
      }
    },
    {
      "cell_type": "markdown",
      "source": [
        "Kemudian hasil dari graf network eigenvector centrality yang telah dilakukan pada step-step di atas akan disave sebagai file \".png\"."
      ],
      "metadata": {
        "id": "B8zy3OOR7ZRS"
      }
    },
    {
      "cell_type": "markdown",
      "source": [
        "> Berikut adalah hasil graf network dengan menggunakan **degree centrality**.\n",
        "\n"
      ],
      "metadata": {
        "id": "npQE5ixw7diI"
      }
    },
    {
      "cell_type": "markdown",
      "source": [
        "![picture](https://drive.google.com/uc?export=view&id=1j88_hQg0PgPDSqAOwV3vU9vxFT3S415e)"
      ],
      "metadata": {
        "id": "i8z75CWUoSWM"
      }
    },
    {
      "cell_type": "markdown",
      "source": [
        "\n",
        "\n",
        "> Berikut adalah hasil graf network dengan menggunakan **eigenvector centrality**.\n",
        "\n"
      ],
      "metadata": {
        "id": "n4dDnxxL7_Pe"
      }
    },
    {
      "cell_type": "markdown",
      "source": [
        "![picture](https://drive.google.com/uc?export=view&id=1OpO-GlNCZzn9gtOs86gJUR6vQUmZlm_w)"
      ],
      "metadata": {
        "id": "tNSvuC-D7_Ye"
      }
    },
    {
      "cell_type": "markdown",
      "source": [
        "## Insight atau Informasi yang Dapat Diambil"
      ],
      "metadata": {
        "id": "QGox5XMe2bVG"
      }
    },
    {
      "cell_type": "markdown",
      "source": [
        "### Dari Segi *Centrality Analysis*"
      ],
      "metadata": {
        "id": "BE5YmvPz2iit"
      }
    },
    {
      "cell_type": "markdown",
      "source": [
        "*Centrality Analysis* yang kami gunakan pada graf network kami adalah degree centrality dan eigenvector centrality. Degree centrality adalah centrality yang menunjukkan jumlah koneksi atau interaksi secara langsung (direct) yang dimiliki suatu node atau vertices. Semakin besar nilai centrality ini, maka menunjukkan semakin banyak pula koneksi atau interaksi langsung yang dimiliki sautu node atau vertices terhadap node lain sehingga jumlah node yang dapat digapai secara langsung akan semakin banyak. Nilai centrality ini dapat digunakan untuk menentukan node mana yang memiliki pengaruh terbesar dalam suatu jaringan/network. Sedangkan eigenvector centrality adalah centrality yang menunjukkan seberapa banyak koneksi atau interaksi secara langsung yang dimiliki suatu node terhadap node lain yang juga memiliki konektivitas yang tinggi. Nilai centrality ini dapat digunakan untuk menentukan node mana yang mempunyai koneksi terbanyak dengan node lain yang juga *well-connected*.\n",
        "\n",
        "Berdasarkan graf network degree centrality di atas, dapat terlihat bahwa user \"idextratime\" mempunyai nilai degree centrality yang sangat tinggi dalam network dan diikuti dengan user \"SiaranBolaLive\". Terdapat indikasi bahwa user \"idextratime\" mempunyai frekuensi yang tinggi dalam melakukan mention secara langsung terhadap user lain ataupun bisa saja terdapat banyak user yang melakukan mention secara langsung terhadap \"idextratime\" dalam tweet mereka. Hal ini juga dapat menjadi indikasi bahwa user \"idextratime\" merupakan user yang paling berpengaruh dalam topik seputar Piala Dunia 2022 di Qatar dalam tempo waktu 20 Desember 2022 hingga 25 Desember 2022 di twitter berdasarkan mention.\n",
        "\n",
        "Kemudian berdasarkan graf network eigenvector centrality di atas, dapat terlihat kembali bahwa user \"idextratime\" mempunyai nilai eigenvector centrality yang sangat tinggi. Hal ini dapat menjadi indikasi bahwa user \"idextratime\" sering melakukan mention terhadap user lain yang juga sering melakukan mention terhadap user-user lainnya dalam topik seputar Piala Dunia 2022 di Qatar dalam tempo waktu 20 Desember 2022 hingga 25 Desember 2022 di twitter.\n",
        "\n",
        "Berdasarkan beberapa penjelasan di atas, berikut adalah beberapa insight/informasi yang dapat kami berikan:\n",
        "\n",
        "1. Karena user \"idextratime\" mempunyai nilai degree centrality serta eigenvector centrality yang tinggi yang mengindikasikan user tersebut sering melakukan mention terhadap user lain atau dimention, maka bisa saja user \"idextratime\" mempunyai kemampuan yang tinggi dalam mempengaruhi user-user lain untuk berinteraksi dengannya. Hal ini bisa saja disebabkan karena kemampuan user \"idextratime\" untuk membuat berbagai macam jenis tweet yang menarik serta mudah untuk diterima user-user lain seputar Piala Dunia 2022 di Qatar.\n",
        "2. Kemampuan di atas dapat dimanfaatkan oleh user \"idextratime\" itu sendiri, misalnya untuk menjual berbagai jenis merchandise yang berhubungan dengan Piala Dunia Qatar 2022 seperti jersey bola, sepatu bola, dan lain-lain. User \"idextratime\" juga dapat memanfaatkan kemampuan ini untuk membuka jasa iklan dalam laman akun twitternya yang masih memiliki hubungan erat dengan topik Piala Dunia Qatar 2022. User-user lain pun dapat menjalin kolaborasi dengan user \"idextratime\" untuk misalnya memasarkan barang/bisnis yang mereka punya."
      ],
      "metadata": {
        "id": "ix7MhqKs4CVM"
      }
    },
    {
      "cell_type": "markdown",
      "source": [
        "### Dari Segi *Community Detection*"
      ],
      "metadata": {
        "id": "hd6nzbF6HBVr"
      }
    },
    {
      "cell_type": "markdown",
      "source": [
        "*Community Detection* adalah suatu teknik yang dapat digunakan untuk menemukan sebuah komunitas pada network dengan melakukan pemisahan. Dalam graf network di atas, baik graf untuk degree centrality maupun eigenvector centrality, dapat terlihat terdapat tujuh kluster/komunitas utama. Ketujuh kluster/komunitas tersebut adalah kluster/komunitas dengan warna pink, hijau muda, hitam, oranye, merah, biru muda, dan hijau tua. Kemudian untuk melihat topik tweet apa yang mewakili masing-masing komunitas tersebut akan dilihat dari tweet atau mention user yang mempunyai degree centrality tertinggi dari masing-masing komunitas. Berikut adalah user dengan degree centrality tertinggi untuk masing-masing komunitas:\n",
        "\n",
        "1. Komunitas pink: \"idextratime\"\n",
        "2. Komunitas hijau muda: \"SiaranBolaLive\"\n",
        "3. Komunitas hitam: \"FaktaSepakbola\"\n",
        "4. Komunitas oranye: \"GOAL\"\n",
        "5. Komunitas merah: \"PSSI\"\n",
        "6. Komunitas biru muda: \"registaco\"\n",
        "7. Komunitas hijau tua: \"indosat\"\n",
        "\n",
        "Kemudian berikut adalah beberapa tweet dari user-user di atas."
      ],
      "metadata": {
        "id": "e7o1YiO2HLN0"
      }
    },
    {
      "cell_type": "code",
      "source": [
        "### Komunitas pink\n",
        "\n",
        "display(df[df['username'].str.contains('idextratime')].loc[:, ['tweet']])"
      ],
      "metadata": {
        "colab": {
          "base_uri": "https://localhost:8080/",
          "height": 457
        },
        "id": "oi0zSVjZKMfP",
        "outputId": "7a44d0b6-627f-41de-d0c2-9b408f3c4a80"
      },
      "execution_count": null,
      "outputs": [
        {
          "output_type": "display_data",
          "data": {
            "text/plain": [
              "                                                  tweet\n",
              "1473  Weekend ini tanpa Piala Dunia dan 5 liga top E...\n",
              "1777  Sebuah petisi online yang ditujukan kepada FIF...\n",
              "1867  RESMI : Goal sepeda Richarlison ke gawang Serb...\n",
              "1869  RESMI : Andre Onana (26) mengumumkan pensiun d...\n",
              "3401  Ahmed Al Barwani, (mantan anggota dewan penase...\n",
              "3828  🚨 BREAKING: Cristiano Ronaldo telah mencapai k...\n",
              "4380  Hanya Pele, Lionel Messi, dan Ronaldo Nazario ...\n",
              "5076  Daily reminder,  Lionel Messi adalah juara Pia...\n",
              "5124                                 Kangen Piala Dunia\n",
              "5208  🚨 BREAKING: Di antara banyak klub yang bermina...\n",
              "5236  Hanya 3 hari setelah final Piala Dunia, Kylian...\n",
              "7029  Diperkirakan 4 juta warga Argentina hadir di B...\n",
              "7184  Entah kenapa perasaan gue masih bahagia tiap l..."
            ],
            "text/html": [
              "\n",
              "  <div id=\"df-af710bf2-2895-455f-9781-062ce88bf641\">\n",
              "    <div class=\"colab-df-container\">\n",
              "      <div>\n",
              "<style scoped>\n",
              "    .dataframe tbody tr th:only-of-type {\n",
              "        vertical-align: middle;\n",
              "    }\n",
              "\n",
              "    .dataframe tbody tr th {\n",
              "        vertical-align: top;\n",
              "    }\n",
              "\n",
              "    .dataframe thead th {\n",
              "        text-align: right;\n",
              "    }\n",
              "</style>\n",
              "<table border=\"1\" class=\"dataframe\">\n",
              "  <thead>\n",
              "    <tr style=\"text-align: right;\">\n",
              "      <th></th>\n",
              "      <th>tweet</th>\n",
              "    </tr>\n",
              "  </thead>\n",
              "  <tbody>\n",
              "    <tr>\n",
              "      <th>1473</th>\n",
              "      <td>Weekend ini tanpa Piala Dunia dan 5 liga top E...</td>\n",
              "    </tr>\n",
              "    <tr>\n",
              "      <th>1777</th>\n",
              "      <td>Sebuah petisi online yang ditujukan kepada FIF...</td>\n",
              "    </tr>\n",
              "    <tr>\n",
              "      <th>1867</th>\n",
              "      <td>RESMI : Goal sepeda Richarlison ke gawang Serb...</td>\n",
              "    </tr>\n",
              "    <tr>\n",
              "      <th>1869</th>\n",
              "      <td>RESMI : Andre Onana (26) mengumumkan pensiun d...</td>\n",
              "    </tr>\n",
              "    <tr>\n",
              "      <th>3401</th>\n",
              "      <td>Ahmed Al Barwani, (mantan anggota dewan penase...</td>\n",
              "    </tr>\n",
              "    <tr>\n",
              "      <th>3828</th>\n",
              "      <td>🚨 BREAKING: Cristiano Ronaldo telah mencapai k...</td>\n",
              "    </tr>\n",
              "    <tr>\n",
              "      <th>4380</th>\n",
              "      <td>Hanya Pele, Lionel Messi, dan Ronaldo Nazario ...</td>\n",
              "    </tr>\n",
              "    <tr>\n",
              "      <th>5076</th>\n",
              "      <td>Daily reminder,  Lionel Messi adalah juara Pia...</td>\n",
              "    </tr>\n",
              "    <tr>\n",
              "      <th>5124</th>\n",
              "      <td>Kangen Piala Dunia</td>\n",
              "    </tr>\n",
              "    <tr>\n",
              "      <th>5208</th>\n",
              "      <td>🚨 BREAKING: Di antara banyak klub yang bermina...</td>\n",
              "    </tr>\n",
              "    <tr>\n",
              "      <th>5236</th>\n",
              "      <td>Hanya 3 hari setelah final Piala Dunia, Kylian...</td>\n",
              "    </tr>\n",
              "    <tr>\n",
              "      <th>7029</th>\n",
              "      <td>Diperkirakan 4 juta warga Argentina hadir di B...</td>\n",
              "    </tr>\n",
              "    <tr>\n",
              "      <th>7184</th>\n",
              "      <td>Entah kenapa perasaan gue masih bahagia tiap l...</td>\n",
              "    </tr>\n",
              "  </tbody>\n",
              "</table>\n",
              "</div>\n",
              "      <button class=\"colab-df-convert\" onclick=\"convertToInteractive('df-af710bf2-2895-455f-9781-062ce88bf641')\"\n",
              "              title=\"Convert this dataframe to an interactive table.\"\n",
              "              style=\"display:none;\">\n",
              "        \n",
              "  <svg xmlns=\"http://www.w3.org/2000/svg\" height=\"24px\"viewBox=\"0 0 24 24\"\n",
              "       width=\"24px\">\n",
              "    <path d=\"M0 0h24v24H0V0z\" fill=\"none\"/>\n",
              "    <path d=\"M18.56 5.44l.94 2.06.94-2.06 2.06-.94-2.06-.94-.94-2.06-.94 2.06-2.06.94zm-11 1L8.5 8.5l.94-2.06 2.06-.94-2.06-.94L8.5 2.5l-.94 2.06-2.06.94zm10 10l.94 2.06.94-2.06 2.06-.94-2.06-.94-.94-2.06-.94 2.06-2.06.94z\"/><path d=\"M17.41 7.96l-1.37-1.37c-.4-.4-.92-.59-1.43-.59-.52 0-1.04.2-1.43.59L10.3 9.45l-7.72 7.72c-.78.78-.78 2.05 0 2.83L4 21.41c.39.39.9.59 1.41.59.51 0 1.02-.2 1.41-.59l7.78-7.78 2.81-2.81c.8-.78.8-2.07 0-2.86zM5.41 20L4 18.59l7.72-7.72 1.47 1.35L5.41 20z\"/>\n",
              "  </svg>\n",
              "      </button>\n",
              "      \n",
              "  <style>\n",
              "    .colab-df-container {\n",
              "      display:flex;\n",
              "      flex-wrap:wrap;\n",
              "      gap: 12px;\n",
              "    }\n",
              "\n",
              "    .colab-df-convert {\n",
              "      background-color: #E8F0FE;\n",
              "      border: none;\n",
              "      border-radius: 50%;\n",
              "      cursor: pointer;\n",
              "      display: none;\n",
              "      fill: #1967D2;\n",
              "      height: 32px;\n",
              "      padding: 0 0 0 0;\n",
              "      width: 32px;\n",
              "    }\n",
              "\n",
              "    .colab-df-convert:hover {\n",
              "      background-color: #E2EBFA;\n",
              "      box-shadow: 0px 1px 2px rgba(60, 64, 67, 0.3), 0px 1px 3px 1px rgba(60, 64, 67, 0.15);\n",
              "      fill: #174EA6;\n",
              "    }\n",
              "\n",
              "    [theme=dark] .colab-df-convert {\n",
              "      background-color: #3B4455;\n",
              "      fill: #D2E3FC;\n",
              "    }\n",
              "\n",
              "    [theme=dark] .colab-df-convert:hover {\n",
              "      background-color: #434B5C;\n",
              "      box-shadow: 0px 1px 3px 1px rgba(0, 0, 0, 0.15);\n",
              "      filter: drop-shadow(0px 1px 2px rgba(0, 0, 0, 0.3));\n",
              "      fill: #FFFFFF;\n",
              "    }\n",
              "  </style>\n",
              "\n",
              "      <script>\n",
              "        const buttonEl =\n",
              "          document.querySelector('#df-af710bf2-2895-455f-9781-062ce88bf641 button.colab-df-convert');\n",
              "        buttonEl.style.display =\n",
              "          google.colab.kernel.accessAllowed ? 'block' : 'none';\n",
              "\n",
              "        async function convertToInteractive(key) {\n",
              "          const element = document.querySelector('#df-af710bf2-2895-455f-9781-062ce88bf641');\n",
              "          const dataTable =\n",
              "            await google.colab.kernel.invokeFunction('convertToInteractive',\n",
              "                                                     [key], {});\n",
              "          if (!dataTable) return;\n",
              "\n",
              "          const docLinkHtml = 'Like what you see? Visit the ' +\n",
              "            '<a target=\"_blank\" href=https://colab.research.google.com/notebooks/data_table.ipynb>data table notebook</a>'\n",
              "            + ' to learn more about interactive tables.';\n",
              "          element.innerHTML = '';\n",
              "          dataTable['output_type'] = 'display_data';\n",
              "          await google.colab.output.renderOutput(dataTable, element);\n",
              "          const docLink = document.createElement('div');\n",
              "          docLink.innerHTML = docLinkHtml;\n",
              "          element.appendChild(docLink);\n",
              "        }\n",
              "      </script>\n",
              "    </div>\n",
              "  </div>\n",
              "  "
            ]
          },
          "metadata": {}
        }
      ]
    },
    {
      "cell_type": "code",
      "source": [
        "### Komunitas hijau muda\n",
        "\n",
        "display(df[df['username'].str.contains('SiaranBolaLive')].loc[:, ['tweet']])"
      ],
      "metadata": {
        "colab": {
          "base_uri": "https://localhost:8080/",
          "height": 143
        },
        "id": "gx4Mf2qqKlxM",
        "outputId": "c6d5cce0-a5c2-4c13-9bb4-25c759f908a3"
      },
      "execution_count": null,
      "outputs": [
        {
          "output_type": "display_data",
          "data": {
            "text/plain": [
              "                                                  tweet\n",
              "186   #FIFAWorldCupQatar2022 👍✊ Thanks Qatar 🇶🇦 PIAL...\n",
              "1153  Pep Guardiola:\"Kalvin Phillips overweight sete...\n",
              "2930  FIFA sedang melakukan investigasi lantaran Sal..."
            ],
            "text/html": [
              "\n",
              "  <div id=\"df-33540f33-7870-487c-8a73-06d2450f2fbf\">\n",
              "    <div class=\"colab-df-container\">\n",
              "      <div>\n",
              "<style scoped>\n",
              "    .dataframe tbody tr th:only-of-type {\n",
              "        vertical-align: middle;\n",
              "    }\n",
              "\n",
              "    .dataframe tbody tr th {\n",
              "        vertical-align: top;\n",
              "    }\n",
              "\n",
              "    .dataframe thead th {\n",
              "        text-align: right;\n",
              "    }\n",
              "</style>\n",
              "<table border=\"1\" class=\"dataframe\">\n",
              "  <thead>\n",
              "    <tr style=\"text-align: right;\">\n",
              "      <th></th>\n",
              "      <th>tweet</th>\n",
              "    </tr>\n",
              "  </thead>\n",
              "  <tbody>\n",
              "    <tr>\n",
              "      <th>186</th>\n",
              "      <td>#FIFAWorldCupQatar2022 👍✊ Thanks Qatar 🇶🇦 PIAL...</td>\n",
              "    </tr>\n",
              "    <tr>\n",
              "      <th>1153</th>\n",
              "      <td>Pep Guardiola:\"Kalvin Phillips overweight sete...</td>\n",
              "    </tr>\n",
              "    <tr>\n",
              "      <th>2930</th>\n",
              "      <td>FIFA sedang melakukan investigasi lantaran Sal...</td>\n",
              "    </tr>\n",
              "  </tbody>\n",
              "</table>\n",
              "</div>\n",
              "      <button class=\"colab-df-convert\" onclick=\"convertToInteractive('df-33540f33-7870-487c-8a73-06d2450f2fbf')\"\n",
              "              title=\"Convert this dataframe to an interactive table.\"\n",
              "              style=\"display:none;\">\n",
              "        \n",
              "  <svg xmlns=\"http://www.w3.org/2000/svg\" height=\"24px\"viewBox=\"0 0 24 24\"\n",
              "       width=\"24px\">\n",
              "    <path d=\"M0 0h24v24H0V0z\" fill=\"none\"/>\n",
              "    <path d=\"M18.56 5.44l.94 2.06.94-2.06 2.06-.94-2.06-.94-.94-2.06-.94 2.06-2.06.94zm-11 1L8.5 8.5l.94-2.06 2.06-.94-2.06-.94L8.5 2.5l-.94 2.06-2.06.94zm10 10l.94 2.06.94-2.06 2.06-.94-2.06-.94-.94-2.06-.94 2.06-2.06.94z\"/><path d=\"M17.41 7.96l-1.37-1.37c-.4-.4-.92-.59-1.43-.59-.52 0-1.04.2-1.43.59L10.3 9.45l-7.72 7.72c-.78.78-.78 2.05 0 2.83L4 21.41c.39.39.9.59 1.41.59.51 0 1.02-.2 1.41-.59l7.78-7.78 2.81-2.81c.8-.78.8-2.07 0-2.86zM5.41 20L4 18.59l7.72-7.72 1.47 1.35L5.41 20z\"/>\n",
              "  </svg>\n",
              "      </button>\n",
              "      \n",
              "  <style>\n",
              "    .colab-df-container {\n",
              "      display:flex;\n",
              "      flex-wrap:wrap;\n",
              "      gap: 12px;\n",
              "    }\n",
              "\n",
              "    .colab-df-convert {\n",
              "      background-color: #E8F0FE;\n",
              "      border: none;\n",
              "      border-radius: 50%;\n",
              "      cursor: pointer;\n",
              "      display: none;\n",
              "      fill: #1967D2;\n",
              "      height: 32px;\n",
              "      padding: 0 0 0 0;\n",
              "      width: 32px;\n",
              "    }\n",
              "\n",
              "    .colab-df-convert:hover {\n",
              "      background-color: #E2EBFA;\n",
              "      box-shadow: 0px 1px 2px rgba(60, 64, 67, 0.3), 0px 1px 3px 1px rgba(60, 64, 67, 0.15);\n",
              "      fill: #174EA6;\n",
              "    }\n",
              "\n",
              "    [theme=dark] .colab-df-convert {\n",
              "      background-color: #3B4455;\n",
              "      fill: #D2E3FC;\n",
              "    }\n",
              "\n",
              "    [theme=dark] .colab-df-convert:hover {\n",
              "      background-color: #434B5C;\n",
              "      box-shadow: 0px 1px 3px 1px rgba(0, 0, 0, 0.15);\n",
              "      filter: drop-shadow(0px 1px 2px rgba(0, 0, 0, 0.3));\n",
              "      fill: #FFFFFF;\n",
              "    }\n",
              "  </style>\n",
              "\n",
              "      <script>\n",
              "        const buttonEl =\n",
              "          document.querySelector('#df-33540f33-7870-487c-8a73-06d2450f2fbf button.colab-df-convert');\n",
              "        buttonEl.style.display =\n",
              "          google.colab.kernel.accessAllowed ? 'block' : 'none';\n",
              "\n",
              "        async function convertToInteractive(key) {\n",
              "          const element = document.querySelector('#df-33540f33-7870-487c-8a73-06d2450f2fbf');\n",
              "          const dataTable =\n",
              "            await google.colab.kernel.invokeFunction('convertToInteractive',\n",
              "                                                     [key], {});\n",
              "          if (!dataTable) return;\n",
              "\n",
              "          const docLinkHtml = 'Like what you see? Visit the ' +\n",
              "            '<a target=\"_blank\" href=https://colab.research.google.com/notebooks/data_table.ipynb>data table notebook</a>'\n",
              "            + ' to learn more about interactive tables.';\n",
              "          element.innerHTML = '';\n",
              "          dataTable['output_type'] = 'display_data';\n",
              "          await google.colab.output.renderOutput(dataTable, element);\n",
              "          const docLink = document.createElement('div');\n",
              "          docLink.innerHTML = docLinkHtml;\n",
              "          element.appendChild(docLink);\n",
              "        }\n",
              "      </script>\n",
              "    </div>\n",
              "  </div>\n",
              "  "
            ]
          },
          "metadata": {}
        }
      ]
    },
    {
      "cell_type": "code",
      "source": [
        "### Komunitas hitam\n",
        "\n",
        "display(df[df['username'].str.contains('FaktaSepakbola')].loc[:, ['tweet']])"
      ],
      "metadata": {
        "colab": {
          "base_uri": "https://localhost:8080/",
          "height": 520
        },
        "id": "kzece_WmK27O",
        "outputId": "1f9beed4-424c-40d6-ccf2-7894c5b7e37a"
      },
      "execution_count": null,
      "outputs": [
        {
          "output_type": "display_data",
          "data": {
            "text/plain": [
              "                                                   tweet\n",
              "98     Beberapa Rekor di #FIFAWorldCup yang berhasil ...\n",
              "1895   Gol akrobatik Richarlison ke gawang Serbia, be...\n",
              "3405   Kondisi di Qatar kembali normal, sudah tidak s...\n",
              "5582   Starting XI laga persahabatan PSG vs Quevilly-...\n",
              "5598   Baru beberapa hari saja setelah Kylian Mbappe ...\n",
              "6071   Parade Juara Piala Dunia 2022 Timnas Argentina...\n",
              "6656   Emiliano Martinez terlihat memegang sebuah bon...\n",
              "6879   Sambutan Masyarakat untuk Timnas Maroko hari i...\n",
              "7190   Panas terik saat parade trofi Piala Dunia, bia...\n",
              "8043   Malam pertama Lionel Messi dengan trofi Piala ...\n",
              "8340   Postingan Instagram Lionel Messi juara Piala D...\n",
              "8536   Sayang sekali lagu nya tidak bisa dirilis seca...\n",
              "8673   Wow the power of data. Simulasi atau prediksny...\n",
              "9053   Sang Juara Dunia, Timnas Argentina telah tiba ...\n",
              "10350  Usai menjuarai Piala Dunia 2022, pemerintahan ..."
            ],
            "text/html": [
              "\n",
              "  <div id=\"df-5f33837f-d055-4dd2-800c-55ea2ea01e93\">\n",
              "    <div class=\"colab-df-container\">\n",
              "      <div>\n",
              "<style scoped>\n",
              "    .dataframe tbody tr th:only-of-type {\n",
              "        vertical-align: middle;\n",
              "    }\n",
              "\n",
              "    .dataframe tbody tr th {\n",
              "        vertical-align: top;\n",
              "    }\n",
              "\n",
              "    .dataframe thead th {\n",
              "        text-align: right;\n",
              "    }\n",
              "</style>\n",
              "<table border=\"1\" class=\"dataframe\">\n",
              "  <thead>\n",
              "    <tr style=\"text-align: right;\">\n",
              "      <th></th>\n",
              "      <th>tweet</th>\n",
              "    </tr>\n",
              "  </thead>\n",
              "  <tbody>\n",
              "    <tr>\n",
              "      <th>98</th>\n",
              "      <td>Beberapa Rekor di #FIFAWorldCup yang berhasil ...</td>\n",
              "    </tr>\n",
              "    <tr>\n",
              "      <th>1895</th>\n",
              "      <td>Gol akrobatik Richarlison ke gawang Serbia, be...</td>\n",
              "    </tr>\n",
              "    <tr>\n",
              "      <th>3405</th>\n",
              "      <td>Kondisi di Qatar kembali normal, sudah tidak s...</td>\n",
              "    </tr>\n",
              "    <tr>\n",
              "      <th>5582</th>\n",
              "      <td>Starting XI laga persahabatan PSG vs Quevilly-...</td>\n",
              "    </tr>\n",
              "    <tr>\n",
              "      <th>5598</th>\n",
              "      <td>Baru beberapa hari saja setelah Kylian Mbappe ...</td>\n",
              "    </tr>\n",
              "    <tr>\n",
              "      <th>6071</th>\n",
              "      <td>Parade Juara Piala Dunia 2022 Timnas Argentina...</td>\n",
              "    </tr>\n",
              "    <tr>\n",
              "      <th>6656</th>\n",
              "      <td>Emiliano Martinez terlihat memegang sebuah bon...</td>\n",
              "    </tr>\n",
              "    <tr>\n",
              "      <th>6879</th>\n",
              "      <td>Sambutan Masyarakat untuk Timnas Maroko hari i...</td>\n",
              "    </tr>\n",
              "    <tr>\n",
              "      <th>7190</th>\n",
              "      <td>Panas terik saat parade trofi Piala Dunia, bia...</td>\n",
              "    </tr>\n",
              "    <tr>\n",
              "      <th>8043</th>\n",
              "      <td>Malam pertama Lionel Messi dengan trofi Piala ...</td>\n",
              "    </tr>\n",
              "    <tr>\n",
              "      <th>8340</th>\n",
              "      <td>Postingan Instagram Lionel Messi juara Piala D...</td>\n",
              "    </tr>\n",
              "    <tr>\n",
              "      <th>8536</th>\n",
              "      <td>Sayang sekali lagu nya tidak bisa dirilis seca...</td>\n",
              "    </tr>\n",
              "    <tr>\n",
              "      <th>8673</th>\n",
              "      <td>Wow the power of data. Simulasi atau prediksny...</td>\n",
              "    </tr>\n",
              "    <tr>\n",
              "      <th>9053</th>\n",
              "      <td>Sang Juara Dunia, Timnas Argentina telah tiba ...</td>\n",
              "    </tr>\n",
              "    <tr>\n",
              "      <th>10350</th>\n",
              "      <td>Usai menjuarai Piala Dunia 2022, pemerintahan ...</td>\n",
              "    </tr>\n",
              "  </tbody>\n",
              "</table>\n",
              "</div>\n",
              "      <button class=\"colab-df-convert\" onclick=\"convertToInteractive('df-5f33837f-d055-4dd2-800c-55ea2ea01e93')\"\n",
              "              title=\"Convert this dataframe to an interactive table.\"\n",
              "              style=\"display:none;\">\n",
              "        \n",
              "  <svg xmlns=\"http://www.w3.org/2000/svg\" height=\"24px\"viewBox=\"0 0 24 24\"\n",
              "       width=\"24px\">\n",
              "    <path d=\"M0 0h24v24H0V0z\" fill=\"none\"/>\n",
              "    <path d=\"M18.56 5.44l.94 2.06.94-2.06 2.06-.94-2.06-.94-.94-2.06-.94 2.06-2.06.94zm-11 1L8.5 8.5l.94-2.06 2.06-.94-2.06-.94L8.5 2.5l-.94 2.06-2.06.94zm10 10l.94 2.06.94-2.06 2.06-.94-2.06-.94-.94-2.06-.94 2.06-2.06.94z\"/><path d=\"M17.41 7.96l-1.37-1.37c-.4-.4-.92-.59-1.43-.59-.52 0-1.04.2-1.43.59L10.3 9.45l-7.72 7.72c-.78.78-.78 2.05 0 2.83L4 21.41c.39.39.9.59 1.41.59.51 0 1.02-.2 1.41-.59l7.78-7.78 2.81-2.81c.8-.78.8-2.07 0-2.86zM5.41 20L4 18.59l7.72-7.72 1.47 1.35L5.41 20z\"/>\n",
              "  </svg>\n",
              "      </button>\n",
              "      \n",
              "  <style>\n",
              "    .colab-df-container {\n",
              "      display:flex;\n",
              "      flex-wrap:wrap;\n",
              "      gap: 12px;\n",
              "    }\n",
              "\n",
              "    .colab-df-convert {\n",
              "      background-color: #E8F0FE;\n",
              "      border: none;\n",
              "      border-radius: 50%;\n",
              "      cursor: pointer;\n",
              "      display: none;\n",
              "      fill: #1967D2;\n",
              "      height: 32px;\n",
              "      padding: 0 0 0 0;\n",
              "      width: 32px;\n",
              "    }\n",
              "\n",
              "    .colab-df-convert:hover {\n",
              "      background-color: #E2EBFA;\n",
              "      box-shadow: 0px 1px 2px rgba(60, 64, 67, 0.3), 0px 1px 3px 1px rgba(60, 64, 67, 0.15);\n",
              "      fill: #174EA6;\n",
              "    }\n",
              "\n",
              "    [theme=dark] .colab-df-convert {\n",
              "      background-color: #3B4455;\n",
              "      fill: #D2E3FC;\n",
              "    }\n",
              "\n",
              "    [theme=dark] .colab-df-convert:hover {\n",
              "      background-color: #434B5C;\n",
              "      box-shadow: 0px 1px 3px 1px rgba(0, 0, 0, 0.15);\n",
              "      filter: drop-shadow(0px 1px 2px rgba(0, 0, 0, 0.3));\n",
              "      fill: #FFFFFF;\n",
              "    }\n",
              "  </style>\n",
              "\n",
              "      <script>\n",
              "        const buttonEl =\n",
              "          document.querySelector('#df-5f33837f-d055-4dd2-800c-55ea2ea01e93 button.colab-df-convert');\n",
              "        buttonEl.style.display =\n",
              "          google.colab.kernel.accessAllowed ? 'block' : 'none';\n",
              "\n",
              "        async function convertToInteractive(key) {\n",
              "          const element = document.querySelector('#df-5f33837f-d055-4dd2-800c-55ea2ea01e93');\n",
              "          const dataTable =\n",
              "            await google.colab.kernel.invokeFunction('convertToInteractive',\n",
              "                                                     [key], {});\n",
              "          if (!dataTable) return;\n",
              "\n",
              "          const docLinkHtml = 'Like what you see? Visit the ' +\n",
              "            '<a target=\"_blank\" href=https://colab.research.google.com/notebooks/data_table.ipynb>data table notebook</a>'\n",
              "            + ' to learn more about interactive tables.';\n",
              "          element.innerHTML = '';\n",
              "          dataTable['output_type'] = 'display_data';\n",
              "          await google.colab.output.renderOutput(dataTable, element);\n",
              "          const docLink = document.createElement('div');\n",
              "          docLink.innerHTML = docLinkHtml;\n",
              "          element.appendChild(docLink);\n",
              "        }\n",
              "      </script>\n",
              "    </div>\n",
              "  </div>\n",
              "  "
            ]
          },
          "metadata": {}
        }
      ]
    },
    {
      "cell_type": "code",
      "source": [
        "### Komunitas oranye\n",
        "\n",
        "display(df[df['username'].str.contains('GOAL')].loc[:, ['tweet']])"
      ],
      "metadata": {
        "colab": {
          "base_uri": "https://localhost:8080/",
          "height": 424
        },
        "id": "3leeHfpyLFV4",
        "outputId": "26d5815e-46d5-4694-e1ac-32e41c9588c7"
      },
      "execution_count": null,
      "outputs": [
        {
          "output_type": "display_data",
          "data": {
            "text/plain": [
              "                                                   tweet\n",
              "26     Drama Baru Karim Benzema:  Unfollow mayoritas ...\n",
              "287    🗣️ \"Terima kasih telah memberikan saya Piala D...\n",
              "464    Tak terasa sudah tujuh hari berlalu sejak kita...\n",
              "568    💬 \"Kami melawan tim terbaik di dunia, saya bis...\n",
              "700    Seorang fans Argentina meluncurkan petisi onli...\n",
              "...                                                  ...\n",
              "8625   Penampilan Emiliano Martinez selama Piala Duni...\n",
              "8693   Lionel Messi pamer keberhasilan dirinya dengan...\n",
              "9056   Performa Cristiano Ronaldo di Piala Dunia 2022...\n",
              "9198   ✅ Sportivitas tanpa batas ✅ Fans &amp; pemain ...\n",
              "10197  Mantan bintang Jerman, Mesut Ozil, menyatakan ...\n",
              "\n",
              "[63 rows x 1 columns]"
            ],
            "text/html": [
              "\n",
              "  <div id=\"df-e8bec2f8-f679-4600-a83f-996656d42628\">\n",
              "    <div class=\"colab-df-container\">\n",
              "      <div>\n",
              "<style scoped>\n",
              "    .dataframe tbody tr th:only-of-type {\n",
              "        vertical-align: middle;\n",
              "    }\n",
              "\n",
              "    .dataframe tbody tr th {\n",
              "        vertical-align: top;\n",
              "    }\n",
              "\n",
              "    .dataframe thead th {\n",
              "        text-align: right;\n",
              "    }\n",
              "</style>\n",
              "<table border=\"1\" class=\"dataframe\">\n",
              "  <thead>\n",
              "    <tr style=\"text-align: right;\">\n",
              "      <th></th>\n",
              "      <th>tweet</th>\n",
              "    </tr>\n",
              "  </thead>\n",
              "  <tbody>\n",
              "    <tr>\n",
              "      <th>26</th>\n",
              "      <td>Drama Baru Karim Benzema:  Unfollow mayoritas ...</td>\n",
              "    </tr>\n",
              "    <tr>\n",
              "      <th>287</th>\n",
              "      <td>🗣️ \"Terima kasih telah memberikan saya Piala D...</td>\n",
              "    </tr>\n",
              "    <tr>\n",
              "      <th>464</th>\n",
              "      <td>Tak terasa sudah tujuh hari berlalu sejak kita...</td>\n",
              "    </tr>\n",
              "    <tr>\n",
              "      <th>568</th>\n",
              "      <td>💬 \"Kami melawan tim terbaik di dunia, saya bis...</td>\n",
              "    </tr>\n",
              "    <tr>\n",
              "      <th>700</th>\n",
              "      <td>Seorang fans Argentina meluncurkan petisi onli...</td>\n",
              "    </tr>\n",
              "    <tr>\n",
              "      <th>...</th>\n",
              "      <td>...</td>\n",
              "    </tr>\n",
              "    <tr>\n",
              "      <th>8625</th>\n",
              "      <td>Penampilan Emiliano Martinez selama Piala Duni...</td>\n",
              "    </tr>\n",
              "    <tr>\n",
              "      <th>8693</th>\n",
              "      <td>Lionel Messi pamer keberhasilan dirinya dengan...</td>\n",
              "    </tr>\n",
              "    <tr>\n",
              "      <th>9056</th>\n",
              "      <td>Performa Cristiano Ronaldo di Piala Dunia 2022...</td>\n",
              "    </tr>\n",
              "    <tr>\n",
              "      <th>9198</th>\n",
              "      <td>✅ Sportivitas tanpa batas ✅ Fans &amp;amp; pemain ...</td>\n",
              "    </tr>\n",
              "    <tr>\n",
              "      <th>10197</th>\n",
              "      <td>Mantan bintang Jerman, Mesut Ozil, menyatakan ...</td>\n",
              "    </tr>\n",
              "  </tbody>\n",
              "</table>\n",
              "<p>63 rows × 1 columns</p>\n",
              "</div>\n",
              "      <button class=\"colab-df-convert\" onclick=\"convertToInteractive('df-e8bec2f8-f679-4600-a83f-996656d42628')\"\n",
              "              title=\"Convert this dataframe to an interactive table.\"\n",
              "              style=\"display:none;\">\n",
              "        \n",
              "  <svg xmlns=\"http://www.w3.org/2000/svg\" height=\"24px\"viewBox=\"0 0 24 24\"\n",
              "       width=\"24px\">\n",
              "    <path d=\"M0 0h24v24H0V0z\" fill=\"none\"/>\n",
              "    <path d=\"M18.56 5.44l.94 2.06.94-2.06 2.06-.94-2.06-.94-.94-2.06-.94 2.06-2.06.94zm-11 1L8.5 8.5l.94-2.06 2.06-.94-2.06-.94L8.5 2.5l-.94 2.06-2.06.94zm10 10l.94 2.06.94-2.06 2.06-.94-2.06-.94-.94-2.06-.94 2.06-2.06.94z\"/><path d=\"M17.41 7.96l-1.37-1.37c-.4-.4-.92-.59-1.43-.59-.52 0-1.04.2-1.43.59L10.3 9.45l-7.72 7.72c-.78.78-.78 2.05 0 2.83L4 21.41c.39.39.9.59 1.41.59.51 0 1.02-.2 1.41-.59l7.78-7.78 2.81-2.81c.8-.78.8-2.07 0-2.86zM5.41 20L4 18.59l7.72-7.72 1.47 1.35L5.41 20z\"/>\n",
              "  </svg>\n",
              "      </button>\n",
              "      \n",
              "  <style>\n",
              "    .colab-df-container {\n",
              "      display:flex;\n",
              "      flex-wrap:wrap;\n",
              "      gap: 12px;\n",
              "    }\n",
              "\n",
              "    .colab-df-convert {\n",
              "      background-color: #E8F0FE;\n",
              "      border: none;\n",
              "      border-radius: 50%;\n",
              "      cursor: pointer;\n",
              "      display: none;\n",
              "      fill: #1967D2;\n",
              "      height: 32px;\n",
              "      padding: 0 0 0 0;\n",
              "      width: 32px;\n",
              "    }\n",
              "\n",
              "    .colab-df-convert:hover {\n",
              "      background-color: #E2EBFA;\n",
              "      box-shadow: 0px 1px 2px rgba(60, 64, 67, 0.3), 0px 1px 3px 1px rgba(60, 64, 67, 0.15);\n",
              "      fill: #174EA6;\n",
              "    }\n",
              "\n",
              "    [theme=dark] .colab-df-convert {\n",
              "      background-color: #3B4455;\n",
              "      fill: #D2E3FC;\n",
              "    }\n",
              "\n",
              "    [theme=dark] .colab-df-convert:hover {\n",
              "      background-color: #434B5C;\n",
              "      box-shadow: 0px 1px 3px 1px rgba(0, 0, 0, 0.15);\n",
              "      filter: drop-shadow(0px 1px 2px rgba(0, 0, 0, 0.3));\n",
              "      fill: #FFFFFF;\n",
              "    }\n",
              "  </style>\n",
              "\n",
              "      <script>\n",
              "        const buttonEl =\n",
              "          document.querySelector('#df-e8bec2f8-f679-4600-a83f-996656d42628 button.colab-df-convert');\n",
              "        buttonEl.style.display =\n",
              "          google.colab.kernel.accessAllowed ? 'block' : 'none';\n",
              "\n",
              "        async function convertToInteractive(key) {\n",
              "          const element = document.querySelector('#df-e8bec2f8-f679-4600-a83f-996656d42628');\n",
              "          const dataTable =\n",
              "            await google.colab.kernel.invokeFunction('convertToInteractive',\n",
              "                                                     [key], {});\n",
              "          if (!dataTable) return;\n",
              "\n",
              "          const docLinkHtml = 'Like what you see? Visit the ' +\n",
              "            '<a target=\"_blank\" href=https://colab.research.google.com/notebooks/data_table.ipynb>data table notebook</a>'\n",
              "            + ' to learn more about interactive tables.';\n",
              "          element.innerHTML = '';\n",
              "          dataTable['output_type'] = 'display_data';\n",
              "          await google.colab.output.renderOutput(dataTable, element);\n",
              "          const docLink = document.createElement('div');\n",
              "          docLink.innerHTML = docLinkHtml;\n",
              "          element.appendChild(docLink);\n",
              "        }\n",
              "      </script>\n",
              "    </div>\n",
              "  </div>\n",
              "  "
            ]
          },
          "metadata": {}
        }
      ]
    },
    {
      "cell_type": "code",
      "source": [
        "### Komunitas merah\n",
        "\n",
        "display(df[df['tweet'].str.contains('@PSSI')].loc[:, ['tweet']])"
      ],
      "metadata": {
        "colab": {
          "base_uri": "https://localhost:8080/",
          "height": 1000
        },
        "id": "iy6WICOWLRM6",
        "outputId": "d3895cc5-e424-44fc-ae8b-a0366a065204"
      },
      "execution_count": null,
      "outputs": [
        {
          "output_type": "display_data",
          "data": {
            "text/plain": [
              "                                                  tweet\n",
              "367   @detiksport @AremafcOfficial @PSSI @premierlea...\n",
              "961   @akbarfaizal68 @PSSI Indonesia nggak bisa lolo...\n",
              "984   #GelanggangTanya Jaman ketum Edy Rahmayadi &am...\n",
              "1188  @PSSI Semakin Optimis Kita bisa masuk piala du...\n",
              "1493  @PSSI Efek piala dunia masih terasa, maka nya ...\n",
              "1619  @GIBOLofficial Mungkin ketika hujan lebat,sist...\n",
              "1621  @akbarfaizal68 @PSSI Timnas itu q yakin bisa m...\n",
              "1622  @MuchammadArifS2 @ahmadarief5150 @Persija_Jkt ...\n",
              "1663  @BroadcastBola @PSSI @Liga1Match @KEMENPORA_RI...\n",
              "1715  @PSSI Salam hormat terhadap Timnas Garuda dan ...\n",
              "1723  @akbarfaizal68 @PSSI 😮 Lha? Menuju Piala Dunia...\n",
              "1817  @akbarfaizal68 @PSSI Sebagai warna negara haru...\n",
              "1840  @PSSI Stadion Piala Dunia U-20 Banjir... Pinda...\n",
              "1880  @cak_sol @PSSI Mimpi masuk piala dunia. Ngisin...\n",
              "1883  @Persija_Jkt Stadionyaa udah bagus tapi di geb...\n",
              "1940  @PSSI Kok beda y rasanya. Kurang greget lihat ...\n",
              "1957  @akbarfaizal68 @PSSI bang akbar sebulan kemari...\n",
              "1963  @faridl_pratama @PSSI Kalau karna alasan gak b...\n",
              "1984  Begini modal @PSSI menuju Piala Dunia U-20. Ya...\n",
              "1997  @PSSI Habis nonton piala dunia, nonton beginia...\n",
              "2090  @PSSI Penyakitga pernah hilang, SALAH PASSING ...\n",
              "2189  @PSSI Habis liat piala dunia lalu liat timnas ...\n",
              "2193  Yakin Ini stadion bisa buat piala dunia? @PSSI...\n",
              "2229   @PSSI Yo Kalah Yo percuma ga masuk piala dunia 😂\n",
              "2283   @PSSI Stadion Piala Dunia standar PSI banjir 🤭🤭🤭\n",
              "2311  Salah satu stadion piala dunia u20 😂😂😂 @PSSI @...\n",
              "2326  Stadion buat Piala Dunia kok bisa banjir 🤣 dra...\n",
              "2471  @PSSI Piala Dunia Qatar aman,  Di indo sik pro...\n",
              "2786  @PSSI Piala dunia sudh tdk pake masker om...ay...\n",
              "2975  Piala dunia selesai, sekarang waktunya dukung ...\n",
              "3334  @PSSI berharap ,timnas indonesia kedepannya bi...\n",
              "5357  @PSSI kemarin bela negara orang di Piala Dunia...\n",
              "7016  @jalangpulang @PSSI Piala dunia qatar makan ko...\n",
              "8175  @alifrosli14 @PSSI Kroasia penduduknya gak sam...\n",
              "9022  Negara yang sedang krisis dan masyarakat nya m...\n",
              "9400  @PSSI Ga dulu, Min. Ngeri kalo ke stadion, apa..."
            ],
            "text/html": [
              "\n",
              "  <div id=\"df-5b783043-d024-411d-9dcd-1a863c0ce67e\">\n",
              "    <div class=\"colab-df-container\">\n",
              "      <div>\n",
              "<style scoped>\n",
              "    .dataframe tbody tr th:only-of-type {\n",
              "        vertical-align: middle;\n",
              "    }\n",
              "\n",
              "    .dataframe tbody tr th {\n",
              "        vertical-align: top;\n",
              "    }\n",
              "\n",
              "    .dataframe thead th {\n",
              "        text-align: right;\n",
              "    }\n",
              "</style>\n",
              "<table border=\"1\" class=\"dataframe\">\n",
              "  <thead>\n",
              "    <tr style=\"text-align: right;\">\n",
              "      <th></th>\n",
              "      <th>tweet</th>\n",
              "    </tr>\n",
              "  </thead>\n",
              "  <tbody>\n",
              "    <tr>\n",
              "      <th>367</th>\n",
              "      <td>@detiksport @AremafcOfficial @PSSI @premierlea...</td>\n",
              "    </tr>\n",
              "    <tr>\n",
              "      <th>961</th>\n",
              "      <td>@akbarfaizal68 @PSSI Indonesia nggak bisa lolo...</td>\n",
              "    </tr>\n",
              "    <tr>\n",
              "      <th>984</th>\n",
              "      <td>#GelanggangTanya Jaman ketum Edy Rahmayadi &amp;am...</td>\n",
              "    </tr>\n",
              "    <tr>\n",
              "      <th>1188</th>\n",
              "      <td>@PSSI Semakin Optimis Kita bisa masuk piala du...</td>\n",
              "    </tr>\n",
              "    <tr>\n",
              "      <th>1493</th>\n",
              "      <td>@PSSI Efek piala dunia masih terasa, maka nya ...</td>\n",
              "    </tr>\n",
              "    <tr>\n",
              "      <th>1619</th>\n",
              "      <td>@GIBOLofficial Mungkin ketika hujan lebat,sist...</td>\n",
              "    </tr>\n",
              "    <tr>\n",
              "      <th>1621</th>\n",
              "      <td>@akbarfaizal68 @PSSI Timnas itu q yakin bisa m...</td>\n",
              "    </tr>\n",
              "    <tr>\n",
              "      <th>1622</th>\n",
              "      <td>@MuchammadArifS2 @ahmadarief5150 @Persija_Jkt ...</td>\n",
              "    </tr>\n",
              "    <tr>\n",
              "      <th>1663</th>\n",
              "      <td>@BroadcastBola @PSSI @Liga1Match @KEMENPORA_RI...</td>\n",
              "    </tr>\n",
              "    <tr>\n",
              "      <th>1715</th>\n",
              "      <td>@PSSI Salam hormat terhadap Timnas Garuda dan ...</td>\n",
              "    </tr>\n",
              "    <tr>\n",
              "      <th>1723</th>\n",
              "      <td>@akbarfaizal68 @PSSI 😮 Lha? Menuju Piala Dunia...</td>\n",
              "    </tr>\n",
              "    <tr>\n",
              "      <th>1817</th>\n",
              "      <td>@akbarfaizal68 @PSSI Sebagai warna negara haru...</td>\n",
              "    </tr>\n",
              "    <tr>\n",
              "      <th>1840</th>\n",
              "      <td>@PSSI Stadion Piala Dunia U-20 Banjir... Pinda...</td>\n",
              "    </tr>\n",
              "    <tr>\n",
              "      <th>1880</th>\n",
              "      <td>@cak_sol @PSSI Mimpi masuk piala dunia. Ngisin...</td>\n",
              "    </tr>\n",
              "    <tr>\n",
              "      <th>1883</th>\n",
              "      <td>@Persija_Jkt Stadionyaa udah bagus tapi di geb...</td>\n",
              "    </tr>\n",
              "    <tr>\n",
              "      <th>1940</th>\n",
              "      <td>@PSSI Kok beda y rasanya. Kurang greget lihat ...</td>\n",
              "    </tr>\n",
              "    <tr>\n",
              "      <th>1957</th>\n",
              "      <td>@akbarfaizal68 @PSSI bang akbar sebulan kemari...</td>\n",
              "    </tr>\n",
              "    <tr>\n",
              "      <th>1963</th>\n",
              "      <td>@faridl_pratama @PSSI Kalau karna alasan gak b...</td>\n",
              "    </tr>\n",
              "    <tr>\n",
              "      <th>1984</th>\n",
              "      <td>Begini modal @PSSI menuju Piala Dunia U-20. Ya...</td>\n",
              "    </tr>\n",
              "    <tr>\n",
              "      <th>1997</th>\n",
              "      <td>@PSSI Habis nonton piala dunia, nonton beginia...</td>\n",
              "    </tr>\n",
              "    <tr>\n",
              "      <th>2090</th>\n",
              "      <td>@PSSI Penyakitga pernah hilang, SALAH PASSING ...</td>\n",
              "    </tr>\n",
              "    <tr>\n",
              "      <th>2189</th>\n",
              "      <td>@PSSI Habis liat piala dunia lalu liat timnas ...</td>\n",
              "    </tr>\n",
              "    <tr>\n",
              "      <th>2193</th>\n",
              "      <td>Yakin Ini stadion bisa buat piala dunia? @PSSI...</td>\n",
              "    </tr>\n",
              "    <tr>\n",
              "      <th>2229</th>\n",
              "      <td>@PSSI Yo Kalah Yo percuma ga masuk piala dunia 😂</td>\n",
              "    </tr>\n",
              "    <tr>\n",
              "      <th>2283</th>\n",
              "      <td>@PSSI Stadion Piala Dunia standar PSI banjir 🤭🤭🤭</td>\n",
              "    </tr>\n",
              "    <tr>\n",
              "      <th>2311</th>\n",
              "      <td>Salah satu stadion piala dunia u20 😂😂😂 @PSSI @...</td>\n",
              "    </tr>\n",
              "    <tr>\n",
              "      <th>2326</th>\n",
              "      <td>Stadion buat Piala Dunia kok bisa banjir 🤣 dra...</td>\n",
              "    </tr>\n",
              "    <tr>\n",
              "      <th>2471</th>\n",
              "      <td>@PSSI Piala Dunia Qatar aman,  Di indo sik pro...</td>\n",
              "    </tr>\n",
              "    <tr>\n",
              "      <th>2786</th>\n",
              "      <td>@PSSI Piala dunia sudh tdk pake masker om...ay...</td>\n",
              "    </tr>\n",
              "    <tr>\n",
              "      <th>2975</th>\n",
              "      <td>Piala dunia selesai, sekarang waktunya dukung ...</td>\n",
              "    </tr>\n",
              "    <tr>\n",
              "      <th>3334</th>\n",
              "      <td>@PSSI berharap ,timnas indonesia kedepannya bi...</td>\n",
              "    </tr>\n",
              "    <tr>\n",
              "      <th>5357</th>\n",
              "      <td>@PSSI kemarin bela negara orang di Piala Dunia...</td>\n",
              "    </tr>\n",
              "    <tr>\n",
              "      <th>7016</th>\n",
              "      <td>@jalangpulang @PSSI Piala dunia qatar makan ko...</td>\n",
              "    </tr>\n",
              "    <tr>\n",
              "      <th>8175</th>\n",
              "      <td>@alifrosli14 @PSSI Kroasia penduduknya gak sam...</td>\n",
              "    </tr>\n",
              "    <tr>\n",
              "      <th>9022</th>\n",
              "      <td>Negara yang sedang krisis dan masyarakat nya m...</td>\n",
              "    </tr>\n",
              "    <tr>\n",
              "      <th>9400</th>\n",
              "      <td>@PSSI Ga dulu, Min. Ngeri kalo ke stadion, apa...</td>\n",
              "    </tr>\n",
              "  </tbody>\n",
              "</table>\n",
              "</div>\n",
              "      <button class=\"colab-df-convert\" onclick=\"convertToInteractive('df-5b783043-d024-411d-9dcd-1a863c0ce67e')\"\n",
              "              title=\"Convert this dataframe to an interactive table.\"\n",
              "              style=\"display:none;\">\n",
              "        \n",
              "  <svg xmlns=\"http://www.w3.org/2000/svg\" height=\"24px\"viewBox=\"0 0 24 24\"\n",
              "       width=\"24px\">\n",
              "    <path d=\"M0 0h24v24H0V0z\" fill=\"none\"/>\n",
              "    <path d=\"M18.56 5.44l.94 2.06.94-2.06 2.06-.94-2.06-.94-.94-2.06-.94 2.06-2.06.94zm-11 1L8.5 8.5l.94-2.06 2.06-.94-2.06-.94L8.5 2.5l-.94 2.06-2.06.94zm10 10l.94 2.06.94-2.06 2.06-.94-2.06-.94-.94-2.06-.94 2.06-2.06.94z\"/><path d=\"M17.41 7.96l-1.37-1.37c-.4-.4-.92-.59-1.43-.59-.52 0-1.04.2-1.43.59L10.3 9.45l-7.72 7.72c-.78.78-.78 2.05 0 2.83L4 21.41c.39.39.9.59 1.41.59.51 0 1.02-.2 1.41-.59l7.78-7.78 2.81-2.81c.8-.78.8-2.07 0-2.86zM5.41 20L4 18.59l7.72-7.72 1.47 1.35L5.41 20z\"/>\n",
              "  </svg>\n",
              "      </button>\n",
              "      \n",
              "  <style>\n",
              "    .colab-df-container {\n",
              "      display:flex;\n",
              "      flex-wrap:wrap;\n",
              "      gap: 12px;\n",
              "    }\n",
              "\n",
              "    .colab-df-convert {\n",
              "      background-color: #E8F0FE;\n",
              "      border: none;\n",
              "      border-radius: 50%;\n",
              "      cursor: pointer;\n",
              "      display: none;\n",
              "      fill: #1967D2;\n",
              "      height: 32px;\n",
              "      padding: 0 0 0 0;\n",
              "      width: 32px;\n",
              "    }\n",
              "\n",
              "    .colab-df-convert:hover {\n",
              "      background-color: #E2EBFA;\n",
              "      box-shadow: 0px 1px 2px rgba(60, 64, 67, 0.3), 0px 1px 3px 1px rgba(60, 64, 67, 0.15);\n",
              "      fill: #174EA6;\n",
              "    }\n",
              "\n",
              "    [theme=dark] .colab-df-convert {\n",
              "      background-color: #3B4455;\n",
              "      fill: #D2E3FC;\n",
              "    }\n",
              "\n",
              "    [theme=dark] .colab-df-convert:hover {\n",
              "      background-color: #434B5C;\n",
              "      box-shadow: 0px 1px 3px 1px rgba(0, 0, 0, 0.15);\n",
              "      filter: drop-shadow(0px 1px 2px rgba(0, 0, 0, 0.3));\n",
              "      fill: #FFFFFF;\n",
              "    }\n",
              "  </style>\n",
              "\n",
              "      <script>\n",
              "        const buttonEl =\n",
              "          document.querySelector('#df-5b783043-d024-411d-9dcd-1a863c0ce67e button.colab-df-convert');\n",
              "        buttonEl.style.display =\n",
              "          google.colab.kernel.accessAllowed ? 'block' : 'none';\n",
              "\n",
              "        async function convertToInteractive(key) {\n",
              "          const element = document.querySelector('#df-5b783043-d024-411d-9dcd-1a863c0ce67e');\n",
              "          const dataTable =\n",
              "            await google.colab.kernel.invokeFunction('convertToInteractive',\n",
              "                                                     [key], {});\n",
              "          if (!dataTable) return;\n",
              "\n",
              "          const docLinkHtml = 'Like what you see? Visit the ' +\n",
              "            '<a target=\"_blank\" href=https://colab.research.google.com/notebooks/data_table.ipynb>data table notebook</a>'\n",
              "            + ' to learn more about interactive tables.';\n",
              "          element.innerHTML = '';\n",
              "          dataTable['output_type'] = 'display_data';\n",
              "          await google.colab.output.renderOutput(dataTable, element);\n",
              "          const docLink = document.createElement('div');\n",
              "          docLink.innerHTML = docLinkHtml;\n",
              "          element.appendChild(docLink);\n",
              "        }\n",
              "      </script>\n",
              "    </div>\n",
              "  </div>\n",
              "  "
            ]
          },
          "metadata": {}
        }
      ]
    },
    {
      "cell_type": "code",
      "source": [
        "### Komunitas biru muda\n",
        "\n",
        "display(df[df['username'].str.contains('registaco')].loc[:, ['tweet']])"
      ],
      "metadata": {
        "colab": {
          "base_uri": "https://localhost:8080/",
          "height": 143
        },
        "id": "w4o-ecMELbhQ",
        "outputId": "4073ffc2-af4f-4f71-cc3c-0761a9143366"
      },
      "execution_count": null,
      "outputs": [
        {
          "output_type": "display_data",
          "data": {
            "text/plain": [
              "                                                  tweet\n",
              "748   Tato baru Di Maria adalah trofi Piala Dunia 🥶 ...\n",
              "3206  Gak sabar Piala Dunia 2026, deh.   Liat Mbappe...\n",
              "7332  Apa mimpinya Messi bersama dengan trofi Piala ..."
            ],
            "text/html": [
              "\n",
              "  <div id=\"df-788c6d5d-a938-4249-a702-c238415896cb\">\n",
              "    <div class=\"colab-df-container\">\n",
              "      <div>\n",
              "<style scoped>\n",
              "    .dataframe tbody tr th:only-of-type {\n",
              "        vertical-align: middle;\n",
              "    }\n",
              "\n",
              "    .dataframe tbody tr th {\n",
              "        vertical-align: top;\n",
              "    }\n",
              "\n",
              "    .dataframe thead th {\n",
              "        text-align: right;\n",
              "    }\n",
              "</style>\n",
              "<table border=\"1\" class=\"dataframe\">\n",
              "  <thead>\n",
              "    <tr style=\"text-align: right;\">\n",
              "      <th></th>\n",
              "      <th>tweet</th>\n",
              "    </tr>\n",
              "  </thead>\n",
              "  <tbody>\n",
              "    <tr>\n",
              "      <th>748</th>\n",
              "      <td>Tato baru Di Maria adalah trofi Piala Dunia 🥶 ...</td>\n",
              "    </tr>\n",
              "    <tr>\n",
              "      <th>3206</th>\n",
              "      <td>Gak sabar Piala Dunia 2026, deh.   Liat Mbappe...</td>\n",
              "    </tr>\n",
              "    <tr>\n",
              "      <th>7332</th>\n",
              "      <td>Apa mimpinya Messi bersama dengan trofi Piala ...</td>\n",
              "    </tr>\n",
              "  </tbody>\n",
              "</table>\n",
              "</div>\n",
              "      <button class=\"colab-df-convert\" onclick=\"convertToInteractive('df-788c6d5d-a938-4249-a702-c238415896cb')\"\n",
              "              title=\"Convert this dataframe to an interactive table.\"\n",
              "              style=\"display:none;\">\n",
              "        \n",
              "  <svg xmlns=\"http://www.w3.org/2000/svg\" height=\"24px\"viewBox=\"0 0 24 24\"\n",
              "       width=\"24px\">\n",
              "    <path d=\"M0 0h24v24H0V0z\" fill=\"none\"/>\n",
              "    <path d=\"M18.56 5.44l.94 2.06.94-2.06 2.06-.94-2.06-.94-.94-2.06-.94 2.06-2.06.94zm-11 1L8.5 8.5l.94-2.06 2.06-.94-2.06-.94L8.5 2.5l-.94 2.06-2.06.94zm10 10l.94 2.06.94-2.06 2.06-.94-2.06-.94-.94-2.06-.94 2.06-2.06.94z\"/><path d=\"M17.41 7.96l-1.37-1.37c-.4-.4-.92-.59-1.43-.59-.52 0-1.04.2-1.43.59L10.3 9.45l-7.72 7.72c-.78.78-.78 2.05 0 2.83L4 21.41c.39.39.9.59 1.41.59.51 0 1.02-.2 1.41-.59l7.78-7.78 2.81-2.81c.8-.78.8-2.07 0-2.86zM5.41 20L4 18.59l7.72-7.72 1.47 1.35L5.41 20z\"/>\n",
              "  </svg>\n",
              "      </button>\n",
              "      \n",
              "  <style>\n",
              "    .colab-df-container {\n",
              "      display:flex;\n",
              "      flex-wrap:wrap;\n",
              "      gap: 12px;\n",
              "    }\n",
              "\n",
              "    .colab-df-convert {\n",
              "      background-color: #E8F0FE;\n",
              "      border: none;\n",
              "      border-radius: 50%;\n",
              "      cursor: pointer;\n",
              "      display: none;\n",
              "      fill: #1967D2;\n",
              "      height: 32px;\n",
              "      padding: 0 0 0 0;\n",
              "      width: 32px;\n",
              "    }\n",
              "\n",
              "    .colab-df-convert:hover {\n",
              "      background-color: #E2EBFA;\n",
              "      box-shadow: 0px 1px 2px rgba(60, 64, 67, 0.3), 0px 1px 3px 1px rgba(60, 64, 67, 0.15);\n",
              "      fill: #174EA6;\n",
              "    }\n",
              "\n",
              "    [theme=dark] .colab-df-convert {\n",
              "      background-color: #3B4455;\n",
              "      fill: #D2E3FC;\n",
              "    }\n",
              "\n",
              "    [theme=dark] .colab-df-convert:hover {\n",
              "      background-color: #434B5C;\n",
              "      box-shadow: 0px 1px 3px 1px rgba(0, 0, 0, 0.15);\n",
              "      filter: drop-shadow(0px 1px 2px rgba(0, 0, 0, 0.3));\n",
              "      fill: #FFFFFF;\n",
              "    }\n",
              "  </style>\n",
              "\n",
              "      <script>\n",
              "        const buttonEl =\n",
              "          document.querySelector('#df-788c6d5d-a938-4249-a702-c238415896cb button.colab-df-convert');\n",
              "        buttonEl.style.display =\n",
              "          google.colab.kernel.accessAllowed ? 'block' : 'none';\n",
              "\n",
              "        async function convertToInteractive(key) {\n",
              "          const element = document.querySelector('#df-788c6d5d-a938-4249-a702-c238415896cb');\n",
              "          const dataTable =\n",
              "            await google.colab.kernel.invokeFunction('convertToInteractive',\n",
              "                                                     [key], {});\n",
              "          if (!dataTable) return;\n",
              "\n",
              "          const docLinkHtml = 'Like what you see? Visit the ' +\n",
              "            '<a target=\"_blank\" href=https://colab.research.google.com/notebooks/data_table.ipynb>data table notebook</a>'\n",
              "            + ' to learn more about interactive tables.';\n",
              "          element.innerHTML = '';\n",
              "          dataTable['output_type'] = 'display_data';\n",
              "          await google.colab.output.renderOutput(dataTable, element);\n",
              "          const docLink = document.createElement('div');\n",
              "          docLink.innerHTML = docLinkHtml;\n",
              "          element.appendChild(docLink);\n",
              "        }\n",
              "      </script>\n",
              "    </div>\n",
              "  </div>\n",
              "  "
            ]
          },
          "metadata": {}
        }
      ]
    },
    {
      "cell_type": "code",
      "source": [
        "### Komunitas hijau tua\n",
        "\n",
        "display(df[df['tweet'].str.contains('@indosat')].loc[:, ['tweet']])"
      ],
      "metadata": {
        "colab": {
          "base_uri": "https://localhost:8080/",
          "height": 771
        },
        "id": "22RvmDOPL3IH",
        "outputId": "80a38763-3aca-45ed-ac76-0ae1ee8acd4a"
      },
      "execution_count": null,
      "outputs": [
        {
          "output_type": "display_data",
          "data": {
            "text/plain": [
              "                                                   tweet\n",
              "5143   Dan Final ini mempertemukan dua bintang terbai...\n",
              "6241   @idextratime ✅Pencetak gol Prancis pd final Pi...\n",
              "6249   ✅Pencetak gol Prancis pd final Piala Dunia 199...\n",
              "7150   Pencetak gol Prancis pada final Piala Dunia 19...\n",
              "7307   Pencetak gol Prancis di final Piala Dunia 1998...\n",
              "7407   Pencetak Gol Prancis Di Final Piala Dunia 1998...\n",
              "7434   pencetak gol prancis di final piala dunia 1998...\n",
              "7450   Pencetak gol Prancis di final Piala Dunia 1998...\n",
              "7497   Pencetak gol Prancis pada final Piala Dunia 19...\n",
              "7576   @idextratime Pencetak gol di Piala Dunia tahun...\n",
              "7747   Jawaban Pencetak Gol Prancis di final Piala Du...\n",
              "7817   @idextratime Yang pencetak gol prancis 1998 ad...\n",
              "8357   Pencetak Gol Prancis Pada Piala Dunia 1998 ada...\n",
              "8465   Pencetak gol Prancis pada final Piala Dunia 19...\n",
              "9087   Pencetak gol Final Piala Dunia 1998:   Zinedin...\n",
              "9271   Hai @indosat @idextratime  Pencetak gol Pranci...\n",
              "9636   Haloo @indosat @idextratime  ⚽ Pertandingan Fi...\n",
              "9960   Pencetak Gol Final Piala Dunia 1998 adalah Zin...\n",
              "10043  Pertandingan Final Piala Dunia Tahun 1998 yang...\n",
              "10052  Pertandingan Final Piala Dunia Tahun 1998 yang...\n",
              "10116  Pencetak gol Prancis di final Piala Dunia 1998...\n",
              "10121  Pencetak gol Prancis di final Piala Dunia 1998...\n",
              "10129  Pencetak gol Prancis di final Piala Dunia 1998..."
            ],
            "text/html": [
              "\n",
              "  <div id=\"df-71d2ff81-e176-48b2-9840-2999cdec341a\">\n",
              "    <div class=\"colab-df-container\">\n",
              "      <div>\n",
              "<style scoped>\n",
              "    .dataframe tbody tr th:only-of-type {\n",
              "        vertical-align: middle;\n",
              "    }\n",
              "\n",
              "    .dataframe tbody tr th {\n",
              "        vertical-align: top;\n",
              "    }\n",
              "\n",
              "    .dataframe thead th {\n",
              "        text-align: right;\n",
              "    }\n",
              "</style>\n",
              "<table border=\"1\" class=\"dataframe\">\n",
              "  <thead>\n",
              "    <tr style=\"text-align: right;\">\n",
              "      <th></th>\n",
              "      <th>tweet</th>\n",
              "    </tr>\n",
              "  </thead>\n",
              "  <tbody>\n",
              "    <tr>\n",
              "      <th>5143</th>\n",
              "      <td>Dan Final ini mempertemukan dua bintang terbai...</td>\n",
              "    </tr>\n",
              "    <tr>\n",
              "      <th>6241</th>\n",
              "      <td>@idextratime ✅Pencetak gol Prancis pd final Pi...</td>\n",
              "    </tr>\n",
              "    <tr>\n",
              "      <th>6249</th>\n",
              "      <td>✅Pencetak gol Prancis pd final Piala Dunia 199...</td>\n",
              "    </tr>\n",
              "    <tr>\n",
              "      <th>7150</th>\n",
              "      <td>Pencetak gol Prancis pada final Piala Dunia 19...</td>\n",
              "    </tr>\n",
              "    <tr>\n",
              "      <th>7307</th>\n",
              "      <td>Pencetak gol Prancis di final Piala Dunia 1998...</td>\n",
              "    </tr>\n",
              "    <tr>\n",
              "      <th>7407</th>\n",
              "      <td>Pencetak Gol Prancis Di Final Piala Dunia 1998...</td>\n",
              "    </tr>\n",
              "    <tr>\n",
              "      <th>7434</th>\n",
              "      <td>pencetak gol prancis di final piala dunia 1998...</td>\n",
              "    </tr>\n",
              "    <tr>\n",
              "      <th>7450</th>\n",
              "      <td>Pencetak gol Prancis di final Piala Dunia 1998...</td>\n",
              "    </tr>\n",
              "    <tr>\n",
              "      <th>7497</th>\n",
              "      <td>Pencetak gol Prancis pada final Piala Dunia 19...</td>\n",
              "    </tr>\n",
              "    <tr>\n",
              "      <th>7576</th>\n",
              "      <td>@idextratime Pencetak gol di Piala Dunia tahun...</td>\n",
              "    </tr>\n",
              "    <tr>\n",
              "      <th>7747</th>\n",
              "      <td>Jawaban Pencetak Gol Prancis di final Piala Du...</td>\n",
              "    </tr>\n",
              "    <tr>\n",
              "      <th>7817</th>\n",
              "      <td>@idextratime Yang pencetak gol prancis 1998 ad...</td>\n",
              "    </tr>\n",
              "    <tr>\n",
              "      <th>8357</th>\n",
              "      <td>Pencetak Gol Prancis Pada Piala Dunia 1998 ada...</td>\n",
              "    </tr>\n",
              "    <tr>\n",
              "      <th>8465</th>\n",
              "      <td>Pencetak gol Prancis pada final Piala Dunia 19...</td>\n",
              "    </tr>\n",
              "    <tr>\n",
              "      <th>9087</th>\n",
              "      <td>Pencetak gol Final Piala Dunia 1998:   Zinedin...</td>\n",
              "    </tr>\n",
              "    <tr>\n",
              "      <th>9271</th>\n",
              "      <td>Hai @indosat @idextratime  Pencetak gol Pranci...</td>\n",
              "    </tr>\n",
              "    <tr>\n",
              "      <th>9636</th>\n",
              "      <td>Haloo @indosat @idextratime  ⚽ Pertandingan Fi...</td>\n",
              "    </tr>\n",
              "    <tr>\n",
              "      <th>9960</th>\n",
              "      <td>Pencetak Gol Final Piala Dunia 1998 adalah Zin...</td>\n",
              "    </tr>\n",
              "    <tr>\n",
              "      <th>10043</th>\n",
              "      <td>Pertandingan Final Piala Dunia Tahun 1998 yang...</td>\n",
              "    </tr>\n",
              "    <tr>\n",
              "      <th>10052</th>\n",
              "      <td>Pertandingan Final Piala Dunia Tahun 1998 yang...</td>\n",
              "    </tr>\n",
              "    <tr>\n",
              "      <th>10116</th>\n",
              "      <td>Pencetak gol Prancis di final Piala Dunia 1998...</td>\n",
              "    </tr>\n",
              "    <tr>\n",
              "      <th>10121</th>\n",
              "      <td>Pencetak gol Prancis di final Piala Dunia 1998...</td>\n",
              "    </tr>\n",
              "    <tr>\n",
              "      <th>10129</th>\n",
              "      <td>Pencetak gol Prancis di final Piala Dunia 1998...</td>\n",
              "    </tr>\n",
              "  </tbody>\n",
              "</table>\n",
              "</div>\n",
              "      <button class=\"colab-df-convert\" onclick=\"convertToInteractive('df-71d2ff81-e176-48b2-9840-2999cdec341a')\"\n",
              "              title=\"Convert this dataframe to an interactive table.\"\n",
              "              style=\"display:none;\">\n",
              "        \n",
              "  <svg xmlns=\"http://www.w3.org/2000/svg\" height=\"24px\"viewBox=\"0 0 24 24\"\n",
              "       width=\"24px\">\n",
              "    <path d=\"M0 0h24v24H0V0z\" fill=\"none\"/>\n",
              "    <path d=\"M18.56 5.44l.94 2.06.94-2.06 2.06-.94-2.06-.94-.94-2.06-.94 2.06-2.06.94zm-11 1L8.5 8.5l.94-2.06 2.06-.94-2.06-.94L8.5 2.5l-.94 2.06-2.06.94zm10 10l.94 2.06.94-2.06 2.06-.94-2.06-.94-.94-2.06-.94 2.06-2.06.94z\"/><path d=\"M17.41 7.96l-1.37-1.37c-.4-.4-.92-.59-1.43-.59-.52 0-1.04.2-1.43.59L10.3 9.45l-7.72 7.72c-.78.78-.78 2.05 0 2.83L4 21.41c.39.39.9.59 1.41.59.51 0 1.02-.2 1.41-.59l7.78-7.78 2.81-2.81c.8-.78.8-2.07 0-2.86zM5.41 20L4 18.59l7.72-7.72 1.47 1.35L5.41 20z\"/>\n",
              "  </svg>\n",
              "      </button>\n",
              "      \n",
              "  <style>\n",
              "    .colab-df-container {\n",
              "      display:flex;\n",
              "      flex-wrap:wrap;\n",
              "      gap: 12px;\n",
              "    }\n",
              "\n",
              "    .colab-df-convert {\n",
              "      background-color: #E8F0FE;\n",
              "      border: none;\n",
              "      border-radius: 50%;\n",
              "      cursor: pointer;\n",
              "      display: none;\n",
              "      fill: #1967D2;\n",
              "      height: 32px;\n",
              "      padding: 0 0 0 0;\n",
              "      width: 32px;\n",
              "    }\n",
              "\n",
              "    .colab-df-convert:hover {\n",
              "      background-color: #E2EBFA;\n",
              "      box-shadow: 0px 1px 2px rgba(60, 64, 67, 0.3), 0px 1px 3px 1px rgba(60, 64, 67, 0.15);\n",
              "      fill: #174EA6;\n",
              "    }\n",
              "\n",
              "    [theme=dark] .colab-df-convert {\n",
              "      background-color: #3B4455;\n",
              "      fill: #D2E3FC;\n",
              "    }\n",
              "\n",
              "    [theme=dark] .colab-df-convert:hover {\n",
              "      background-color: #434B5C;\n",
              "      box-shadow: 0px 1px 3px 1px rgba(0, 0, 0, 0.15);\n",
              "      filter: drop-shadow(0px 1px 2px rgba(0, 0, 0, 0.3));\n",
              "      fill: #FFFFFF;\n",
              "    }\n",
              "  </style>\n",
              "\n",
              "      <script>\n",
              "        const buttonEl =\n",
              "          document.querySelector('#df-71d2ff81-e176-48b2-9840-2999cdec341a button.colab-df-convert');\n",
              "        buttonEl.style.display =\n",
              "          google.colab.kernel.accessAllowed ? 'block' : 'none';\n",
              "\n",
              "        async function convertToInteractive(key) {\n",
              "          const element = document.querySelector('#df-71d2ff81-e176-48b2-9840-2999cdec341a');\n",
              "          const dataTable =\n",
              "            await google.colab.kernel.invokeFunction('convertToInteractive',\n",
              "                                                     [key], {});\n",
              "          if (!dataTable) return;\n",
              "\n",
              "          const docLinkHtml = 'Like what you see? Visit the ' +\n",
              "            '<a target=\"_blank\" href=https://colab.research.google.com/notebooks/data_table.ipynb>data table notebook</a>'\n",
              "            + ' to learn more about interactive tables.';\n",
              "          element.innerHTML = '';\n",
              "          dataTable['output_type'] = 'display_data';\n",
              "          await google.colab.output.renderOutput(dataTable, element);\n",
              "          const docLink = document.createElement('div');\n",
              "          docLink.innerHTML = docLinkHtml;\n",
              "          element.appendChild(docLink);\n",
              "        }\n",
              "      </script>\n",
              "    </div>\n",
              "  </div>\n",
              "  "
            ]
          },
          "metadata": {}
        }
      ]
    },
    {
      "cell_type": "markdown",
      "source": [
        "Dari hasil kode-kode di atas, berikut adalah beberapa insight/informasi yang dapat diambil dari masing-masing komunitas:\n",
        "\n",
        "1. Komunitas pink berisikan tweet dengan topik seputar berita transfer pemain, berita kejadian-kejadian setelah Piala Dunia Qatar 2022, serta tweet jenaka tentang sepak bola dari user \"idextratime\".\n",
        "2. Komunitas hijau muda berisikan tweet dengan topik seputar beberapa kejadian setelah Piala Dunia Qatar 2022 usai.\n",
        "3. Komunitas hitam berisikan tweet dengan topik seputar beberapa pencapaian pemain setelah Piala Dunia usai serta kemenangan Argentina pada Piala Dunia Qatar 2022.\n",
        "4. Komunitas oranye berisikan tweet dengan topik yang lebih banyak membahas berita Piala Dunia Qatar 2022 yang jauh lebih lengkap dan bervariasi.\n",
        "5. Komunitas merah berisikan tweet dengan topik seputar opini user twitter Indonesia terhadap PSSI.\n",
        "6. Komunitas biru muda berisikan tweet dengan topik seputar opini tentang Mbappe dan Messi.\n",
        "7. Komunitas hijau tua berisikan tweet dengan topik seputar kuis berhadiah yang diselenggarakan oleh Indosat dan user \"idextratime\"."
      ],
      "metadata": {
        "id": "vyEhX2SMFyTC"
      }
    },
    {
      "cell_type": "markdown",
      "metadata": {
        "id": "USWFWKrj2_x5"
      },
      "source": [
        "# Sentiment Analysis"
      ]
    },
    {
      "cell_type": "markdown",
      "metadata": {
        "id": "n8twALRf2r1h"
      },
      "source": [
        "Analisis sentimen merupakan salah satu bidang dari *Natural Languange Processing* (NLP) yang membangun sistem untuk mengenali dan mengekstraksi opini dalam bentuk teks. Informasi berbentuk teks saat ini banyak terdapat di internet dalam format forum, blog, media sosial, serta situs berisi review. Dengan bantuan analisis sentimen, informasi yang tadinya tidak terstruktur dapat diubah menjadi data yang lebih terstruktur. Metode analisis sentimen kami gunakan dengan tujuan utama untuk mengetahui distribusi sentimen user twitter Indonesia terhadap pergelaran Piala Dunia 2022 Qatar pada rentang waktu 20 Desember 2022 hingga 25 Desember 2022. Teknik analisis sentimen yang kami gunakan adalah sebagai berikut,\n",
        "\n",
        "1. Menggunakan library textblob serta proses manual untuk menghasilkan sentimen.\n",
        "2. Menggunakan metode supervised untuk analisis sentimen.\n",
        "\n",
        "Berikut adalah step pengerjaannya."
      ]
    },
    {
      "cell_type": "markdown",
      "metadata": {
        "id": "E8kjTi-agDSw"
      },
      "source": [
        "## Menggunakan Library textblob serta Proses Manual untuk Mendapatkan Sentimen"
      ]
    },
    {
      "cell_type": "markdown",
      "source": [
        "Pada bagian ini kami akan menggunakan bantuan dari library \"textblob\" untuk menghasilkan sentimen dari setiap tweet yang telah dibersihkan serta dipreprocess pada bagian sebelumnya. Tetapi akan ada beberapa tweet yang kami berikan sentimen secara manual karena tidak dapat diproses oleh library \"textblob\". Berikut adalah tahapan pengerjaannya."
      ],
      "metadata": {
        "id": "Cdb50G14ni8L"
      }
    },
    {
      "cell_type": "code",
      "execution_count": null,
      "metadata": {
        "id": "7SIS7RKjCO2d"
      },
      "outputs": [],
      "source": [
        "### Membuat fungsi untuk mencari skor polarity dengan library \"textblob\"\n",
        "def Score_Pol_Sub(text):\n",
        "  blob = TextBlob(text)\n",
        "  analysis = blob.translate(from_lang='id', to='en')\n",
        "  return analysis.sentiment"
      ]
    },
    {
      "cell_type": "code",
      "source": [
        "### Membuat beberapa dataframe awal untuk analisis sentimen\n",
        "df_sentimen1 = df[['cleaned_tweet']].iloc[:500, [0]]\n",
        "df_sentimen2 = df[['cleaned_tweet']].iloc[500:1000, [0]]\n",
        "df_sentimen3 = df[['cleaned_tweet']].iloc[1000:1500, [0]]\n",
        "df_sentimen4 = df[['cleaned_tweet']].iloc[1500:2000, [0]]\n",
        "df_sentimen5 = df[['cleaned_tweet']].iloc[2000:2500, [0]]\n",
        "df_sentimen6 = df[['cleaned_tweet']].iloc[2500:3000, [0]]\n",
        "df_sentimen7 = df[['cleaned_tweet']].iloc[3000:3510, [0]]\n",
        "df_sentimen8 = df[['cleaned_tweet']].iloc[3510:3515, [0]]   # dataframe ini yang akan diberikan sentimen secara manual dengan bantuan excel\n",
        "df_sentimen9 = df[['cleaned_tweet']].iloc[3515:4500, [0]]\n",
        "df_sentimen10 = df[['cleaned_tweet']].iloc[4500:5000, [0]]\n",
        "df_sentimen11 = df[['cleaned_tweet']].iloc[5000:5500, [0]]\n",
        "df_sentimen12 = df[['cleaned_tweet']].iloc[5500:6000, [0]]\n",
        "df_sentimen13 = df[['cleaned_tweet']].iloc[6000:6500, [0]]\n",
        "df_sentimen14 = df[['cleaned_tweet']].iloc[6500:7000, [0]]\n",
        "df_sentimen15 = df[['cleaned_tweet']].iloc[7000:7500, [0]]\n",
        "df_sentimen16 = df[['cleaned_tweet']].iloc[7500:8000, [0]]\n",
        "df_sentimen17 = df[['cleaned_tweet']].iloc[8000:8500, [0]]\n",
        "df_sentimen18 = df[['cleaned_tweet']].iloc[8500:9000, [0]]\n",
        "df_sentimen19 = df[['cleaned_tweet']].iloc[9000:9500, [0]]\n",
        "df_sentimen20 = df[['cleaned_tweet']].iloc[9500:10000, [0]]\n",
        "df_sentimen21 = df[['cleaned_tweet']].iloc[10000:, [0]]"
      ],
      "metadata": {
        "id": "KYrX0be9_wNb"
      },
      "execution_count": null,
      "outputs": []
    },
    {
      "cell_type": "markdown",
      "source": [
        "**NOTES:**\n",
        "\n",
        "Dalam proses penghasilan sentimen dengan menggunakan \"textblob\", bisa saja terjadi kendala, namun kendala ini belum tentu akan terjadi. Contoh kendalanya misalkan \"textblob\" masih akan bisa memproses sentimen untuk data tweet dari baris pertama hingga baris ke-3000. Namun mulai baris ke-3001 \"textblob\" tidak mampu lagi untuk memproses sentimennya karena terdapat limit. Jika kendala ini terjadi, kami akan mengimport dan save data hasil sentimen baris pertama hingga 3000 ke dalam file excel terlebih dahulu. Kemudian kami melakukan restart runtime pada Google Colab ini dan melanjutkan proses penghasilan sentimen dengan menggunakan \"textblob\" mulai dari baris ke-3001 hingga seterusnya. Selanjutnya data hasil sentimen mulai dari baris ke-3001 tersebut kami import dan save ke dalam file excel untuk kemudian kami gabungkan dengan file excel baris-baris sebelumnya."
      ],
      "metadata": {
        "id": "ceSc6Ce-oh4j"
      }
    },
    {
      "cell_type": "code",
      "execution_count": null,
      "metadata": {
        "id": "Y9uvcRncndh3"
      },
      "outputs": [],
      "source": [
        "### Mencari skor polarity dari setiap tweet yang ada\n",
        "df_sentimen1['polarity'] = df_sentimen1['cleaned_tweet'].apply(lambda x: Score_Pol_Sub(x)[0])"
      ]
    },
    {
      "cell_type": "code",
      "execution_count": null,
      "metadata": {
        "id": "sN8gzVmOuAww"
      },
      "outputs": [],
      "source": [
        "### Mencari skor polarity dari setiap tweet yang ada\n",
        "df_sentimen2['polarity'] = df_sentimen2['cleaned_tweet'].apply(lambda x: Score_Pol_Sub(x)[0])"
      ]
    },
    {
      "cell_type": "code",
      "execution_count": null,
      "metadata": {
        "id": "rDmnatvvuG4z"
      },
      "outputs": [],
      "source": [
        "### Mencari skor polarity dari setiap tweet yang ada\n",
        "df_sentimen3['polarity'] = df_sentimen3['cleaned_tweet'].apply(lambda x: Score_Pol_Sub(x)[0])"
      ]
    },
    {
      "cell_type": "code",
      "execution_count": null,
      "metadata": {
        "id": "sOWvw6XLtNkW"
      },
      "outputs": [],
      "source": [
        "### Mencari skor polarity dari setiap tweet yang ada\n",
        "df_sentimen4['polarity'] = df_sentimen4['cleaned_tweet'].apply(lambda x: Score_Pol_Sub(x)[0])"
      ]
    },
    {
      "cell_type": "code",
      "execution_count": null,
      "metadata": {
        "id": "s9KlXE7dnyEk"
      },
      "outputs": [],
      "source": [
        "### Mencari skor polarity dari setiap tweet yang ada\n",
        "df_sentimen5['polarity'] = df_sentimen5['cleaned_tweet'].apply(lambda x: Score_Pol_Sub(x)[0])"
      ]
    },
    {
      "cell_type": "code",
      "execution_count": null,
      "metadata": {
        "id": "2R8yLr8Cw5Ve"
      },
      "outputs": [],
      "source": [
        "### Mencari skor polarity dari setiap tweet yang ada\n",
        "df_sentimen6['polarity'] = df_sentimen6['cleaned_tweet'].apply(lambda x: Score_Pol_Sub(x)[0])"
      ]
    },
    {
      "cell_type": "code",
      "execution_count": null,
      "metadata": {
        "id": "OASlpgOUw5qK"
      },
      "outputs": [],
      "source": [
        "### Mencari skor polarity dari setiap tweet yang ada\n",
        "df_sentimen7['polarity'] = df_sentimen7['cleaned_tweet'].apply(lambda x: Score_Pol_Sub(x)[0])"
      ]
    },
    {
      "cell_type": "code",
      "execution_count": null,
      "metadata": {
        "id": "B0ufine7lj_Q"
      },
      "outputs": [],
      "source": [
        "### Mencari skor polarity dari setiap tweet yang ada\n",
        "df_sentimen9['polarity'] = df_sentimen9['cleaned_tweet'].apply(lambda x: Score_Pol_Sub(x)[0])"
      ]
    },
    {
      "cell_type": "code",
      "execution_count": null,
      "metadata": {
        "id": "UnePR6Uoc1Ke"
      },
      "outputs": [],
      "source": [
        "### Mencari skor polarity dari setiap tweet yang ada\n",
        "df_sentimen10['polarity'] = df_sentimen10['cleaned_tweet'].apply(lambda x: Score_Pol_Sub(x)[0])"
      ]
    },
    {
      "cell_type": "code",
      "execution_count": null,
      "metadata": {
        "id": "RONJZwmGdkyi"
      },
      "outputs": [],
      "source": [
        "### Mencari skor polarity dari setiap tweet yang ada\n",
        "df_sentimen11['polarity'] = df_sentimen11['cleaned_tweet'].apply(lambda x: Score_Pol_Sub(x)[0])"
      ]
    },
    {
      "cell_type": "code",
      "execution_count": null,
      "metadata": {
        "id": "kqobdqvrdmjG"
      },
      "outputs": [],
      "source": [
        "### Mencari skor polarity dari setiap tweet yang ada\n",
        "df_sentimen12['polarity'] = df_sentimen12['cleaned_tweet'].apply(lambda x: Score_Pol_Sub(x)[0])"
      ]
    },
    {
      "cell_type": "code",
      "execution_count": null,
      "metadata": {
        "id": "y70wloG2doOf"
      },
      "outputs": [],
      "source": [
        "### Mencari skor polarity dari setiap tweet yang ada\n",
        "df_sentimen13['polarity'] = df_sentimen13['cleaned_tweet'].apply(lambda x: Score_Pol_Sub(x)[0])"
      ]
    },
    {
      "cell_type": "code",
      "execution_count": null,
      "metadata": {
        "id": "qM2ltU5idp9Y"
      },
      "outputs": [],
      "source": [
        "### Mencari skor polarity dari setiap tweet yang ada\n",
        "df_sentimen14['polarity'] = df_sentimen14['cleaned_tweet'].apply(lambda x: Score_Pol_Sub(x)[0])"
      ]
    },
    {
      "cell_type": "code",
      "execution_count": null,
      "metadata": {
        "id": "BdmRGoXsikRV"
      },
      "outputs": [],
      "source": [
        "### Mencari skor polarity dari setiap tweet yang ada\n",
        "df_sentimen15['polarity'] = df_sentimen15['cleaned_tweet'].apply(lambda x: Score_Pol_Sub(x)[0])"
      ]
    },
    {
      "cell_type": "code",
      "execution_count": null,
      "metadata": {
        "id": "fi2ezxMkimLk"
      },
      "outputs": [],
      "source": [
        "### Mencari skor polarity dari setiap tweet yang ada\n",
        "df_sentimen16['polarity'] = df_sentimen16['cleaned_tweet'].apply(lambda x: Score_Pol_Sub(x)[0])"
      ]
    },
    {
      "cell_type": "code",
      "execution_count": null,
      "metadata": {
        "id": "zT4SFAcsio8s"
      },
      "outputs": [],
      "source": [
        "### Mencari skor polarity dari setiap tweet yang ada\n",
        "df_sentimen17['polarity'] = df_sentimen17['cleaned_tweet'].apply(lambda x: Score_Pol_Sub(x)[0])"
      ]
    },
    {
      "cell_type": "code",
      "execution_count": null,
      "metadata": {
        "id": "HhFJIRsomHwE"
      },
      "outputs": [],
      "source": [
        "### Mencari skor polarity dari setiap tweet yang ada\n",
        "df_sentimen18['polarity'] = df_sentimen18['cleaned_tweet'].apply(lambda x: Score_Pol_Sub(x)[0])"
      ]
    },
    {
      "cell_type": "code",
      "execution_count": null,
      "metadata": {
        "id": "-Rszf_65n4mZ"
      },
      "outputs": [],
      "source": [
        "### Mencari skor polarity dari setiap tweet yang ada\n",
        "df_sentimen19['polarity'] = df_sentimen19['cleaned_tweet'].apply(lambda x: Score_Pol_Sub(x)[0])"
      ]
    },
    {
      "cell_type": "code",
      "execution_count": null,
      "metadata": {
        "id": "QQV3fSS5n68W"
      },
      "outputs": [],
      "source": [
        "### Mencari skor polarity dari setiap tweet yang ada\n",
        "df_sentimen20['polarity'] = df_sentimen20['cleaned_tweet'].apply(lambda x: Score_Pol_Sub(x)[0])"
      ]
    },
    {
      "cell_type": "code",
      "execution_count": null,
      "metadata": {
        "id": "G5jPgV2pn8ip"
      },
      "outputs": [],
      "source": [
        "### Mencari skor polarity dari setiap tweet yang ada\n",
        "df_sentimen21['polarity'] = df_sentimen21['cleaned_tweet'].apply(lambda x: Score_Pol_Sub(x)[0])"
      ]
    },
    {
      "cell_type": "code",
      "execution_count": null,
      "metadata": {
        "id": "_mpkMZ-Cb7N2"
      },
      "outputs": [],
      "source": [
        "### Menggabungkan semua hasil sentimen ke dalam satu dataframe\n",
        "\n",
        "df_sentimen_all = pd.concat([df_sentimen1, df_sentimen2, df_sentimen3, df_sentimen4, df_sentimen5,\n",
        "                             df_sentimen6, df_sentimen7, df_sentimen8, df_sentimen9, df_sentimen10,\n",
        "                             df_sentimen11, df_sentimen12, df_sentimen13, df_sentimen14, df_sentimen15,\n",
        "                             df_sentimen16, df_sentimen17, df_sentimen18, df_sentimen19, df_sentimen20,\n",
        "                             df_sentimen21])"
      ]
    },
    {
      "cell_type": "code",
      "execution_count": null,
      "metadata": {
        "id": "FST3marpKzQ6"
      },
      "outputs": [],
      "source": [
        "### Export menjadi file excel\n",
        "\n",
        "df_sentimen_all.to_excel('pildun-sentimen-results.xlsx')"
      ]
    },
    {
      "cell_type": "markdown",
      "source": [
        "Setelah proses-proses di atas selesai, dengan menggunakan bantuan excel, kami akan mengkategorikan setiap tweet ke dalam tiga kategori. Kategori pertama adalah sentimen positif (1) yang akan diberikan kepada tweet yang mempunyai nilai polarity > 0. Kategori kedua adalah sentimen netral (0) yang akan diberikan kepada tweet yang mempunyai nilai polarity = 0. Kategori ketiga adalah sentimen negatif (-1) yang akan diberikan kepada tweet yang mempunyai nilai polarity < 0. Kemudian hasilnya akan kami save as \".csv\" dan kami masukkan ke github untuk nantinya diimport kembali ke dalam Google Colab ini."
      ],
      "metadata": {
        "id": "Fk4hudj-rLmu"
      }
    },
    {
      "cell_type": "markdown",
      "metadata": {
        "id": "OlrVpQmJgNjw"
      },
      "source": [
        "## Import Kembali Data Hasil Sentimen ke Google Colab"
      ]
    },
    {
      "cell_type": "code",
      "execution_count": null,
      "metadata": {
        "colab": {
          "base_uri": "https://localhost:8080/",
          "height": 438
        },
        "id": "fg7wQvh-gRoC",
        "outputId": "aa7c54ed-a5d1-4c0f-e1db-905bbc2d966b"
      },
      "outputs": [
        {
          "output_type": "stream",
          "name": "stdout",
          "text": [
            "<class 'pandas.core.frame.DataFrame'>\n",
            "RangeIndex: 10430 entries, 0 to 10429\n",
            "Data columns (total 3 columns):\n",
            " #   Column         Non-Null Count  Dtype  \n",
            "---  ------         --------------  -----  \n",
            " 0   cleaned_tweet  10430 non-null  object \n",
            " 1   polarity       10430 non-null  float64\n",
            " 2   sentimen       10430 non-null  int64  \n",
            "dtypes: float64(1), int64(1), object(1)\n",
            "memory usage: 244.6+ KB\n",
            "None\n",
            "\n",
            "\n"
          ]
        },
        {
          "output_type": "display_data",
          "data": {
            "text/plain": [
              "                                       cleaned_tweet  polarity  sentimen\n",
              "0  cnnindonesia kerja bodoh dan gk masuk akal ema... -0.493750        -1\n",
              "1  amazoght idextratime bukan hanya dari piala du... -0.016667        -1\n",
              "2  jadwal liga spanyol usai piala dunia 2022 misi...  0.333333         1\n",
              "3  prediksi skor brentford vs tottenham hotspurs ...  0.325000         1\n",
              "4  lawan xel ada di piala dunia kalah sih kemarin...  0.000000         0"
            ],
            "text/html": [
              "\n",
              "  <div id=\"df-c4e7731f-5b47-41c9-bbb2-cbe77e4d543e\">\n",
              "    <div class=\"colab-df-container\">\n",
              "      <div>\n",
              "<style scoped>\n",
              "    .dataframe tbody tr th:only-of-type {\n",
              "        vertical-align: middle;\n",
              "    }\n",
              "\n",
              "    .dataframe tbody tr th {\n",
              "        vertical-align: top;\n",
              "    }\n",
              "\n",
              "    .dataframe thead th {\n",
              "        text-align: right;\n",
              "    }\n",
              "</style>\n",
              "<table border=\"1\" class=\"dataframe\">\n",
              "  <thead>\n",
              "    <tr style=\"text-align: right;\">\n",
              "      <th></th>\n",
              "      <th>cleaned_tweet</th>\n",
              "      <th>polarity</th>\n",
              "      <th>sentimen</th>\n",
              "    </tr>\n",
              "  </thead>\n",
              "  <tbody>\n",
              "    <tr>\n",
              "      <th>0</th>\n",
              "      <td>cnnindonesia kerja bodoh dan gk masuk akal ema...</td>\n",
              "      <td>-0.493750</td>\n",
              "      <td>-1</td>\n",
              "    </tr>\n",
              "    <tr>\n",
              "      <th>1</th>\n",
              "      <td>amazoght idextratime bukan hanya dari piala du...</td>\n",
              "      <td>-0.016667</td>\n",
              "      <td>-1</td>\n",
              "    </tr>\n",
              "    <tr>\n",
              "      <th>2</th>\n",
              "      <td>jadwal liga spanyol usai piala dunia 2022 misi...</td>\n",
              "      <td>0.333333</td>\n",
              "      <td>1</td>\n",
              "    </tr>\n",
              "    <tr>\n",
              "      <th>3</th>\n",
              "      <td>prediksi skor brentford vs tottenham hotspurs ...</td>\n",
              "      <td>0.325000</td>\n",
              "      <td>1</td>\n",
              "    </tr>\n",
              "    <tr>\n",
              "      <th>4</th>\n",
              "      <td>lawan xel ada di piala dunia kalah sih kemarin...</td>\n",
              "      <td>0.000000</td>\n",
              "      <td>0</td>\n",
              "    </tr>\n",
              "  </tbody>\n",
              "</table>\n",
              "</div>\n",
              "      <button class=\"colab-df-convert\" onclick=\"convertToInteractive('df-c4e7731f-5b47-41c9-bbb2-cbe77e4d543e')\"\n",
              "              title=\"Convert this dataframe to an interactive table.\"\n",
              "              style=\"display:none;\">\n",
              "        \n",
              "  <svg xmlns=\"http://www.w3.org/2000/svg\" height=\"24px\"viewBox=\"0 0 24 24\"\n",
              "       width=\"24px\">\n",
              "    <path d=\"M0 0h24v24H0V0z\" fill=\"none\"/>\n",
              "    <path d=\"M18.56 5.44l.94 2.06.94-2.06 2.06-.94-2.06-.94-.94-2.06-.94 2.06-2.06.94zm-11 1L8.5 8.5l.94-2.06 2.06-.94-2.06-.94L8.5 2.5l-.94 2.06-2.06.94zm10 10l.94 2.06.94-2.06 2.06-.94-2.06-.94-.94-2.06-.94 2.06-2.06.94z\"/><path d=\"M17.41 7.96l-1.37-1.37c-.4-.4-.92-.59-1.43-.59-.52 0-1.04.2-1.43.59L10.3 9.45l-7.72 7.72c-.78.78-.78 2.05 0 2.83L4 21.41c.39.39.9.59 1.41.59.51 0 1.02-.2 1.41-.59l7.78-7.78 2.81-2.81c.8-.78.8-2.07 0-2.86zM5.41 20L4 18.59l7.72-7.72 1.47 1.35L5.41 20z\"/>\n",
              "  </svg>\n",
              "      </button>\n",
              "      \n",
              "  <style>\n",
              "    .colab-df-container {\n",
              "      display:flex;\n",
              "      flex-wrap:wrap;\n",
              "      gap: 12px;\n",
              "    }\n",
              "\n",
              "    .colab-df-convert {\n",
              "      background-color: #E8F0FE;\n",
              "      border: none;\n",
              "      border-radius: 50%;\n",
              "      cursor: pointer;\n",
              "      display: none;\n",
              "      fill: #1967D2;\n",
              "      height: 32px;\n",
              "      padding: 0 0 0 0;\n",
              "      width: 32px;\n",
              "    }\n",
              "\n",
              "    .colab-df-convert:hover {\n",
              "      background-color: #E2EBFA;\n",
              "      box-shadow: 0px 1px 2px rgba(60, 64, 67, 0.3), 0px 1px 3px 1px rgba(60, 64, 67, 0.15);\n",
              "      fill: #174EA6;\n",
              "    }\n",
              "\n",
              "    [theme=dark] .colab-df-convert {\n",
              "      background-color: #3B4455;\n",
              "      fill: #D2E3FC;\n",
              "    }\n",
              "\n",
              "    [theme=dark] .colab-df-convert:hover {\n",
              "      background-color: #434B5C;\n",
              "      box-shadow: 0px 1px 3px 1px rgba(0, 0, 0, 0.15);\n",
              "      filter: drop-shadow(0px 1px 2px rgba(0, 0, 0, 0.3));\n",
              "      fill: #FFFFFF;\n",
              "    }\n",
              "  </style>\n",
              "\n",
              "      <script>\n",
              "        const buttonEl =\n",
              "          document.querySelector('#df-c4e7731f-5b47-41c9-bbb2-cbe77e4d543e button.colab-df-convert');\n",
              "        buttonEl.style.display =\n",
              "          google.colab.kernel.accessAllowed ? 'block' : 'none';\n",
              "\n",
              "        async function convertToInteractive(key) {\n",
              "          const element = document.querySelector('#df-c4e7731f-5b47-41c9-bbb2-cbe77e4d543e');\n",
              "          const dataTable =\n",
              "            await google.colab.kernel.invokeFunction('convertToInteractive',\n",
              "                                                     [key], {});\n",
              "          if (!dataTable) return;\n",
              "\n",
              "          const docLinkHtml = 'Like what you see? Visit the ' +\n",
              "            '<a target=\"_blank\" href=https://colab.research.google.com/notebooks/data_table.ipynb>data table notebook</a>'\n",
              "            + ' to learn more about interactive tables.';\n",
              "          element.innerHTML = '';\n",
              "          dataTable['output_type'] = 'display_data';\n",
              "          await google.colab.output.renderOutput(dataTable, element);\n",
              "          const docLink = document.createElement('div');\n",
              "          docLink.innerHTML = docLinkHtml;\n",
              "          element.appendChild(docLink);\n",
              "        }\n",
              "      </script>\n",
              "    </div>\n",
              "  </div>\n",
              "  "
            ]
          },
          "metadata": {}
        }
      ],
      "source": [
        "df_sa = pd.read_csv('https://raw.githubusercontent.com/mo-lanang/Sumber_Data_Final_Project_Data_Mining/main/pildun-sentimen-results.csv')\n",
        "\n",
        "print(df_sa.info())\n",
        "print('\\n')\n",
        "display(df_sa.head())"
      ]
    },
    {
      "cell_type": "markdown",
      "metadata": {
        "id": "64ZPnRbCt60l"
      },
      "source": [
        "## Hasil Analytics untuk Data Hasil Sentimen"
      ]
    },
    {
      "cell_type": "markdown",
      "metadata": {
        "id": "dI3zICVVvban"
      },
      "source": [
        "Pada bagian ini akan dicari beberapa insight/informasi yang dapat diambil dari data *tweet* yang telah berhasil didapatkan hasil sentimennya."
      ]
    },
    {
      "cell_type": "code",
      "execution_count": null,
      "metadata": {
        "colab": {
          "base_uri": "https://localhost:8080/",
          "height": 317
        },
        "id": "gV4T-YDnuc71",
        "outputId": "1053d615-f836-4ddc-831c-7c36d15fb9c6"
      },
      "outputs": [
        {
          "output_type": "display_data",
          "data": {
            "text/plain": [
              "<Figure size 432x288 with 1 Axes>"
            ],
            "image/png": "[encoded data removed]"
          },
          "metadata": {
            "needs_background": "light"
          }
        }
      ],
      "source": [
        "### Distribusi sentimen tweet masyarakat Indonesia terhadap topik Piala Dunia 2022 di Qatar\n",
        "\n",
        "fig, ax = plt.subplots()\n",
        "\n",
        "ax = sns.countplot(y=df_sa['sentimen'])\n",
        "ax.set_ylabel('sentimen cat')\n",
        "ax.set_title('Distribusi Sentimen Masyarakat Indonesia terhadap Topik Piala Dunia 2022', y=1.1)\n",
        "\n",
        "plt.show()"
      ]
    },
    {
      "cell_type": "code",
      "source": [
        "display(df_sa['sentimen'].value_counts(sort=True).to_frame().rename(columns={'sentimen': 'jumlah'}))"
      ],
      "metadata": {
        "colab": {
          "base_uri": "https://localhost:8080/",
          "height": 143
        },
        "id": "U8i40oHESHyz",
        "outputId": "dadbddc7-f3c5-4705-cf17-96536594323d"
      },
      "execution_count": null,
      "outputs": [
        {
          "output_type": "display_data",
          "data": {
            "text/plain": [
              "    jumlah\n",
              " 1    4867\n",
              " 0    4124\n",
              "-1    1439"
            ],
            "text/html": [
              "\n",
              "  <div id=\"df-0514d80e-7a72-4da9-a8ae-c7c9a9dfb11e\">\n",
              "    <div class=\"colab-df-container\">\n",
              "      <div>\n",
              "<style scoped>\n",
              "    .dataframe tbody tr th:only-of-type {\n",
              "        vertical-align: middle;\n",
              "    }\n",
              "\n",
              "    .dataframe tbody tr th {\n",
              "        vertical-align: top;\n",
              "    }\n",
              "\n",
              "    .dataframe thead th {\n",
              "        text-align: right;\n",
              "    }\n",
              "</style>\n",
              "<table border=\"1\" class=\"dataframe\">\n",
              "  <thead>\n",
              "    <tr style=\"text-align: right;\">\n",
              "      <th></th>\n",
              "      <th>jumlah</th>\n",
              "    </tr>\n",
              "  </thead>\n",
              "  <tbody>\n",
              "    <tr>\n",
              "      <th>1</th>\n",
              "      <td>4867</td>\n",
              "    </tr>\n",
              "    <tr>\n",
              "      <th>0</th>\n",
              "      <td>4124</td>\n",
              "    </tr>\n",
              "    <tr>\n",
              "      <th>-1</th>\n",
              "      <td>1439</td>\n",
              "    </tr>\n",
              "  </tbody>\n",
              "</table>\n",
              "</div>\n",
              "      <button class=\"colab-df-convert\" onclick=\"convertToInteractive('df-0514d80e-7a72-4da9-a8ae-c7c9a9dfb11e')\"\n",
              "              title=\"Convert this dataframe to an interactive table.\"\n",
              "              style=\"display:none;\">\n",
              "        \n",
              "  <svg xmlns=\"http://www.w3.org/2000/svg\" height=\"24px\"viewBox=\"0 0 24 24\"\n",
              "       width=\"24px\">\n",
              "    <path d=\"M0 0h24v24H0V0z\" fill=\"none\"/>\n",
              "    <path d=\"M18.56 5.44l.94 2.06.94-2.06 2.06-.94-2.06-.94-.94-2.06-.94 2.06-2.06.94zm-11 1L8.5 8.5l.94-2.06 2.06-.94-2.06-.94L8.5 2.5l-.94 2.06-2.06.94zm10 10l.94 2.06.94-2.06 2.06-.94-2.06-.94-.94-2.06-.94 2.06-2.06.94z\"/><path d=\"M17.41 7.96l-1.37-1.37c-.4-.4-.92-.59-1.43-.59-.52 0-1.04.2-1.43.59L10.3 9.45l-7.72 7.72c-.78.78-.78 2.05 0 2.83L4 21.41c.39.39.9.59 1.41.59.51 0 1.02-.2 1.41-.59l7.78-7.78 2.81-2.81c.8-.78.8-2.07 0-2.86zM5.41 20L4 18.59l7.72-7.72 1.47 1.35L5.41 20z\"/>\n",
              "  </svg>\n",
              "      </button>\n",
              "      \n",
              "  <style>\n",
              "    .colab-df-container {\n",
              "      display:flex;\n",
              "      flex-wrap:wrap;\n",
              "      gap: 12px;\n",
              "    }\n",
              "\n",
              "    .colab-df-convert {\n",
              "      background-color: #E8F0FE;\n",
              "      border: none;\n",
              "      border-radius: 50%;\n",
              "      cursor: pointer;\n",
              "      display: none;\n",
              "      fill: #1967D2;\n",
              "      height: 32px;\n",
              "      padding: 0 0 0 0;\n",
              "      width: 32px;\n",
              "    }\n",
              "\n",
              "    .colab-df-convert:hover {\n",
              "      background-color: #E2EBFA;\n",
              "      box-shadow: 0px 1px 2px rgba(60, 64, 67, 0.3), 0px 1px 3px 1px rgba(60, 64, 67, 0.15);\n",
              "      fill: #174EA6;\n",
              "    }\n",
              "\n",
              "    [theme=dark] .colab-df-convert {\n",
              "      background-color: #3B4455;\n",
              "      fill: #D2E3FC;\n",
              "    }\n",
              "\n",
              "    [theme=dark] .colab-df-convert:hover {\n",
              "      background-color: #434B5C;\n",
              "      box-shadow: 0px 1px 3px 1px rgba(0, 0, 0, 0.15);\n",
              "      filter: drop-shadow(0px 1px 2px rgba(0, 0, 0, 0.3));\n",
              "      fill: #FFFFFF;\n",
              "    }\n",
              "  </style>\n",
              "\n",
              "      <script>\n",
              "        const buttonEl =\n",
              "          document.querySelector('#df-0514d80e-7a72-4da9-a8ae-c7c9a9dfb11e button.colab-df-convert');\n",
              "        buttonEl.style.display =\n",
              "          google.colab.kernel.accessAllowed ? 'block' : 'none';\n",
              "\n",
              "        async function convertToInteractive(key) {\n",
              "          const element = document.querySelector('#df-0514d80e-7a72-4da9-a8ae-c7c9a9dfb11e');\n",
              "          const dataTable =\n",
              "            await google.colab.kernel.invokeFunction('convertToInteractive',\n",
              "                                                     [key], {});\n",
              "          if (!dataTable) return;\n",
              "\n",
              "          const docLinkHtml = 'Like what you see? Visit the ' +\n",
              "            '<a target=\"_blank\" href=https://colab.research.google.com/notebooks/data_table.ipynb>data table notebook</a>'\n",
              "            + ' to learn more about interactive tables.';\n",
              "          element.innerHTML = '';\n",
              "          dataTable['output_type'] = 'display_data';\n",
              "          await google.colab.output.renderOutput(dataTable, element);\n",
              "          const docLink = document.createElement('div');\n",
              "          docLink.innerHTML = docLinkHtml;\n",
              "          element.appendChild(docLink);\n",
              "        }\n",
              "      </script>\n",
              "    </div>\n",
              "  </div>\n",
              "  "
            ]
          },
          "metadata": {}
        }
      ]
    },
    {
      "cell_type": "markdown",
      "source": [
        "Dari kedua hasil di atas dapat terlihat bahwa jumlah sentimen positif (1) merupakan yang terbanyak dengan jumlah tweet sebesar 4867. Diikuti dengan sentimen netral (0) sebesar 4124 serta sentimen negatif (-1) sebesar 1439. Hal ini dapat menunjukkan bahwa setelah Piala Dunia 2022 di Qatar usai, mayoritas dari sampel user twitter Indonesia masih menunjukkan antusiasme serta respon yang positif terhadap pergelaran Piala Dunia 2022 di Qatar. Hal ini bisa saja dimanfaatkan oleh seseorang atau pelaku usaha dengan misalnya menjual beberapa merchandise atau barang-barang yang ada kaitannya dengan Piala Dunia 2022 di Qatar melalui media sosial twitter."
      ],
      "metadata": {
        "id": "VMYdL0g4RiXE"
      }
    },
    {
      "cell_type": "markdown",
      "source": [
        "### Wordclouds"
      ],
      "metadata": {
        "id": "Jp31JiIrWJpk"
      }
    },
    {
      "cell_type": "markdown",
      "source": [
        "#### Wordclouds untuk Sentimen Positif (1)"
      ],
      "metadata": {
        "id": "r41uliPjWehq"
      }
    },
    {
      "cell_type": "code",
      "execution_count": null,
      "metadata": {
        "id": "1Zb7ekKsudD-"
      },
      "outputs": [],
      "source": [
        "### Filter data tweet dengan sentimen positif\n",
        "\n",
        "word_pos = df_sa.query('sentimen == 1').iloc[:, [0]]\n",
        "\n",
        "word_pos.to_csv(\"positive_wordclouds.txt\", index=False, encoding='utf8', header=False)"
      ]
    },
    {
      "cell_type": "markdown",
      "source": [
        "![picture](https://drive.google.com/uc?export=view&id=1s4JmX8GQhj1Pv3zatEhU0G94ZVeFh9Z4)"
      ],
      "metadata": {
        "id": "cYTS88nMCDye"
      }
    },
    {
      "cell_type": "markdown",
      "source": [
        "#### Wordclouds untuk Sentimen Netral (0)"
      ],
      "metadata": {
        "id": "b9ppSDrQXxkD"
      }
    },
    {
      "cell_type": "code",
      "source": [
        "### Filter data tweet dengan sentimen netral\n",
        "\n",
        "word_neu = df_sa.query('sentimen == 0').iloc[:, [0]]\n",
        "\n",
        "word_neu.to_csv(\"neutral_wordclouds.txt\", index=False, encoding='utf8', header=False)"
      ],
      "metadata": {
        "id": "EHpkLDz8YJUr"
      },
      "execution_count": null,
      "outputs": []
    },
    {
      "cell_type": "markdown",
      "source": [
        "![picture](https://drive.google.com/uc?export=view&id=16wuC-VTDsBT5Z1jNrmxbsrARbBxjm56z)"
      ],
      "metadata": {
        "id": "AibC1LDgCzqJ"
      }
    },
    {
      "cell_type": "markdown",
      "source": [
        "#### Wordclouds untuk Sentimen Negatif (-1)"
      ],
      "metadata": {
        "id": "cT8wJgs0Y1EH"
      }
    },
    {
      "cell_type": "code",
      "source": [
        "### Filter data tweet dengan sentimen negatif\n",
        "\n",
        "word_neg = df_sa.query('sentimen == -1').iloc[:, [0]]\n",
        "\n",
        "word_neg.to_csv(\"negative_wordclouds.txt\", index=False, encoding='utf8', header=False)"
      ],
      "metadata": {
        "id": "h3KMOZTbY2vt"
      },
      "execution_count": null,
      "outputs": []
    },
    {
      "cell_type": "markdown",
      "source": [
        "![picture](https://drive.google.com/uc?export=view&id=1FgRyqFx-nmP8W52UuoHos_bhGv-gScbP)"
      ],
      "metadata": {
        "id": "SK6DmzGGDDx7"
      }
    },
    {
      "cell_type": "markdown",
      "source": [
        "Berdasarkan WordClouds dari ketiga sentimen di atas, terlihat bahwa setiap sentimen cenderung membicarakan topik yang sama, yaitu seputar keberhasilan Argentina dalam meraih gelar juara Piala Dunia 2022 dimana Messi sebagai kapten tim Argentina juga ikut menjadi salah satu topik pembicaraan yang paling sering menjadi bahan cuitan."
      ],
      "metadata": {
        "id": "IQff26U-DO5g"
      }
    },
    {
      "cell_type": "markdown",
      "metadata": {
        "id": "_4GMFpatgoT1"
      },
      "source": [
        "## Metode Supervised untuk Analisis Sentimen"
      ]
    },
    {
      "cell_type": "markdown",
      "metadata": {
        "id": "BniOlSMEgqm5"
      },
      "source": [
        "Metode *supervised learning* kami gunakan untuk dapat mencari model yang tidak hanya terbaik (mempunyai akurasi yang tinggi) namun juga model yang paling cocok untuk digunakan dalam memprediksi sentimen masyarakat Indonesia terhadap topik Piala Dunia 2022 di Qatar. Dimana model ini diharapkan dapat membantu suatu jenis bisnis tertentu dalam menentukan sentimen masyarakat Indonesia terhadap topik Piala Dunia Qatar 2022, dengan catatan data yang digunakan mempunyai karakteristik serta demografi yang mirip. Kami akan membandingkan beberapa metode *supervised learning* kemudian menentukan model terbaiknya.\n",
        "\n",
        "Berikut adalah langkah pengerjaannya."
      ]
    },
    {
      "cell_type": "markdown",
      "source": [
        "### Mengatasi Data Imbalance dengan menggunakan Oversampling"
      ],
      "metadata": {
        "id": "5SlLA2DP4dgE"
      }
    },
    {
      "cell_type": "markdown",
      "source": [
        "Dari hasil sentimen yang telah dilakukan pada bagian sebelumnya, dapat terlihat bahwa variabel yang akan digunakan sebagai labels (yaitu variabel sentimen) mempunyai jumlah yang tidak merata untuk setiap kategori sentimennya. Sentimen positif (1) mempunyai jumlah 4867, sentimen netral (0) mempunyai jumlah 4124, sedangkan sentimen negatif (-1) mempunyai jumlah 1439. Sentimen negatif mempunyai jumlah yang jauh lebih sedikit jika dibandingkan dengan kedua kategori sentimen lainnya. Hal ini dapat menimbulkan isu dimana model machine learning yang akan dibuat nantinya mempunyai kemampuan yang lebih baik dalam memprediksi kelas positif dan netral, namun sebaliknya untuk kelas negatif. Oleh karena hal itu, akan dilakukan over sampling dengan menggunakan fungsi RandomOverSampling() dari library \"imblearn\" sebagai berikut."
      ],
      "metadata": {
        "id": "Kp2CM-Wb4jzW"
      }
    },
    {
      "cell_type": "code",
      "source": [
        "ros = imblearn.over_sampling.RandomOverSampler(random_state=123)\n",
        "\n",
        "X_ros, y_ros = ros.fit_resample(df_sa[['cleaned_tweet']], df_sa[['sentimen']])\n",
        "\n",
        "print('Terdapat', X_ros.shape[0] - df_sa[['cleaned_tweet']].shape[0], 'data baru yang ditambahkan dari hasil over sampling')"
      ],
      "metadata": {
        "colab": {
          "base_uri": "https://localhost:8080/"
        },
        "id": "cO6WN-cS4jRX",
        "outputId": "3ddf6aba-e57d-4d1f-cb85-5ca5630fe3c1"
      },
      "execution_count": null,
      "outputs": [
        {
          "output_type": "stream",
          "name": "stdout",
          "text": [
            "Terdapat 4171 data baru yang ditambahkan dari hasil over sampling\n"
          ]
        }
      ]
    },
    {
      "cell_type": "markdown",
      "metadata": {
        "id": "OJLAMt_hnyky"
      },
      "source": [
        "### Split Menjadi Data Train & Test"
      ]
    },
    {
      "cell_type": "markdown",
      "metadata": {
        "id": "DGz2DgrSnzEJ"
      },
      "source": [
        "Kami melakukan split data train dan test dengan perbandingan 80% untuk data train dan 20% untuk data test."
      ]
    },
    {
      "cell_type": "code",
      "execution_count": null,
      "metadata": {
        "id": "Tbd1norriSCy",
        "colab": {
          "base_uri": "https://localhost:8080/"
        },
        "outputId": "db4027dc-4808-4dcf-c683-af88eb58719c"
      },
      "outputs": [
        {
          "output_type": "stream",
          "name": "stdout",
          "text": [
            "Bentuk data train X:  (11680,)\n",
            "Bentuk data train y:  (11680,)\n",
            "Bentuk data test X:  (2921,)\n",
            "Bentuk data test y:  (2921,)\n"
          ]
        }
      ],
      "source": [
        "X_train, X_test, y_train, y_test = train_test_split(X_ros, y_ros,\n",
        "                                                    test_size=0.2, random_state=123)\n",
        "\n",
        "X_train = X_train['cleaned_tweet']\n",
        "y_train = y_train['sentimen']\n",
        "X_test = X_test['cleaned_tweet']\n",
        "y_test = y_test['sentimen']\n",
        "\n",
        "print('Bentuk data train X: ', X_train.shape)\n",
        "print('Bentuk data train y: ', y_train.shape)\n",
        "print('Bentuk data test X: ', X_test.shape)\n",
        "print('Bentuk data test y: ', y_test.shape)"
      ]
    },
    {
      "cell_type": "markdown",
      "metadata": {
        "id": "cBo7E443sOt-"
      },
      "source": [
        "### Algoritma KNN"
      ]
    },
    {
      "cell_type": "markdown",
      "metadata": {
        "id": "ZabNPzhOvWBZ"
      },
      "source": [
        "#### Preprocess Data Teks dengan Teknik VSM TF-IDF Vectorizer dan Menentukan Parameter yang Optimal\n"
      ]
    },
    {
      "cell_type": "markdown",
      "metadata": {
        "id": "P5CKU92rvXD1"
      },
      "source": [
        "TF-IDF (*Term Frequency* - *Inverse Document Frequency*) adalah suatu metode algoritma yang berguna untuk menghitung bobot setiap kata yang umum digunakan. Metode ini akan menghitung nilai *Term Frequency* (TF) dan *Inverse Document Frequency* (IDF) pada setiap token (kata) di setiap dokumen dalam korpus. Secara sederhana, metode TF-IDF digunakan untuk mengetahui berapa sering suatu kata muncul di dalam dokumen.\n",
        "\n",
        "Kemudian untuk penentuan parameter yang optimal akan digunakan HalvingGridSearchCV dari library scikitlearn."
      ]
    },
    {
      "cell_type": "code",
      "execution_count": null,
      "metadata": {
        "colab": {
          "base_uri": "https://localhost:8080/"
        },
        "id": "_8m7Wj9GpbA9",
        "outputId": "42da19e7-6b3c-4185-b006-372bf5582eda"
      },
      "outputs": [
        {
          "output_type": "stream",
          "name": "stdout",
          "text": [
            "n_iterations: 5\n",
            "n_required_iterations: 5\n",
            "n_possible_iterations: 5\n",
            "min_resources_: 144\n",
            "max_resources_: 11680\n",
            "aggressive_elimination: False\n",
            "factor: 3\n",
            "----------\n",
            "iter: 0\n",
            "n_candidates: 162\n",
            "n_resources: 144\n",
            "Fitting 5 folds for each of 162 candidates, totalling 810 fits\n",
            "----------\n",
            "iter: 1\n",
            "n_candidates: 54\n",
            "n_resources: 432\n",
            "Fitting 5 folds for each of 54 candidates, totalling 270 fits\n",
            "----------\n",
            "iter: 2\n",
            "n_candidates: 18\n",
            "n_resources: 1296\n",
            "Fitting 5 folds for each of 18 candidates, totalling 90 fits\n",
            "----------\n",
            "iter: 3\n",
            "n_candidates: 6\n",
            "n_resources: 3888\n",
            "Fitting 5 folds for each of 6 candidates, totalling 30 fits\n",
            "----------\n",
            "iter: 4\n",
            "n_candidates: 2\n",
            "n_resources: 11664\n",
            "Fitting 5 folds for each of 2 candidates, totalling 10 fits\n",
            "\n",
            "\n",
            "Best score:  0.684648370497427\n",
            "Best params:  {'kneighborsclassifier__n_neighbors': 10, 'kneighborsclassifier__weights': 'distance', 'tfidfvectorizer__max_df': 0.95, 'tfidfvectorizer__min_df': 5, 'tfidfvectorizer__ngram_range': (1, 1), 'tfidfvectorizer__smooth_idf': True, 'tfidfvectorizer__sublinear_tf': True}\n"
          ]
        }
      ],
      "source": [
        "CV = 5\n",
        "metric = 'accuracy'\n",
        "params_knn = {}\n",
        "params_knn['tfidfvectorizer__min_df'] = [5, 10, 15]\n",
        "params_knn['tfidfvectorizer__max_df'] = [0.5, 0.75, 0.95]\n",
        "params_knn['tfidfvectorizer__smooth_idf'] = [True]\n",
        "params_knn['tfidfvectorizer__sublinear_tf'] = [True]\n",
        "params_knn['tfidfvectorizer__ngram_range'] = [(1, 1), (1, 2), (1,3)]\n",
        "params_knn['kneighborsclassifier__n_neighbors'] = [3, 5, 10]\n",
        "params_knn['kneighborsclassifier__weights'] = ('distance', 'uniform')\n",
        "\n",
        "pipe_knn = make_pipeline(TfidfVectorizer(), KNeighborsClassifier())\n",
        "HgridCV_knn = HalvingGridSearchCV(pipe_knn, params_knn, cv=CV, scoring=metric,\n",
        "                              verbose=1, return_train_score=True, random_state=123)\n",
        "HgridCV_knn.fit(X_train, y_train)\n",
        "\n",
        "print('\\n')\n",
        "print('Best score: ', HgridCV_knn.best_score_)\n",
        "print('Best params: ', HgridCV_knn.best_params_)"
      ]
    },
    {
      "cell_type": "markdown",
      "metadata": {
        "id": "qW-ukxjhBW6f"
      },
      "source": [
        "Setelah menemukan parameter terbaik untuk TF-IDF vectorizer dan algoritma KNN, akan dilakukan preprocessing data teks serta training model KNN dengan menggunakan parameter terbaik yang telah ditemukan di atas sebagai berikut."
      ]
    },
    {
      "cell_type": "code",
      "execution_count": null,
      "metadata": {
        "colab": {
          "base_uri": "https://localhost:8080/"
        },
        "id": "aw8xsF9H9bqZ",
        "outputId": "79842d6d-c485-4af7-c848-5f230ff24a1e"
      },
      "outputs": [
        {
          "output_type": "stream",
          "name": "stdout",
          "text": [
            "(11680, 3764) (2921, 3764)\n"
          ]
        }
      ],
      "source": [
        "### Preprocess data teks dengan parameter terbaik untuk TF-IDF\n",
        "\n",
        "vsm_knn = TfidfVectorizer(max_df = 0.95, min_df = 5, ngram_range= (1, 1), smooth_idf=True, sublinear_tf=True)\n",
        "\n",
        "X_train_knn = vsm_knn.fit_transform(X_train)\n",
        "X_test_knn = vsm_knn.transform(X_test)\n",
        "\n",
        "print(X_train_knn.shape, X_test_knn.shape)"
      ]
    },
    {
      "cell_type": "code",
      "execution_count": null,
      "metadata": {
        "colab": {
          "base_uri": "https://localhost:8080/"
        },
        "id": "4rSSuXeX9NPP",
        "outputId": "d741ee44-eb53-4252-dcaf-40fd64181a4b"
      },
      "outputs": [
        {
          "output_type": "execute_result",
          "data": {
            "text/plain": [
              "KNeighborsClassifier(n_neighbors=10, weights='distance')"
            ]
          },
          "metadata": {},
          "execution_count": 85
        }
      ],
      "source": [
        "### Train model\n",
        "\n",
        "knn_final = KNeighborsClassifier(n_neighbors=10, weights='distance')\n",
        "knn_final.fit(X_train_knn, y_train)"
      ]
    },
    {
      "cell_type": "markdown",
      "metadata": {
        "id": "Rh8MnTqk6ufv"
      },
      "source": [
        "#### Evaluasi Model"
      ]
    },
    {
      "cell_type": "markdown",
      "metadata": {
        "id": "WlMcKhrH62__"
      },
      "source": [
        "Pertama, akan dilakukan penilaian terhadap performa generalisasi model untuk mengecek apakah model yang ada mengalami overfit atau underfit. Akan dilakukan pembandingan nilai rata-rata train score terhadap test score. Bila nilai train score tinggi namun test score rendah maka terdapat indikasi bahwa model mengalami overfit. Bila nilai train score rendah dan nilai test score rendah maka terdapat indikasi model mengalami underfit."
      ]
    },
    {
      "cell_type": "code",
      "execution_count": null,
      "metadata": {
        "colab": {
          "base_uri": "https://localhost:8080/",
          "height": 81
        },
        "id": "KApAf3c9p6ek",
        "outputId": "256f4b68-3e21-4a13-c1a7-6adaa4907a2b"
      },
      "outputs": [
        {
          "output_type": "execute_result",
          "data": {
            "text/plain": [
              "     mean_train_score  mean_test_score\n",
              "240          0.999593         0.684648"
            ],
            "text/html": [
              "\n",
              "  <div id=\"df-217d17bf-3872-4a6e-b134-d11bcc903367\">\n",
              "    <div class=\"colab-df-container\">\n",
              "      <div>\n",
              "<style scoped>\n",
              "    .dataframe tbody tr th:only-of-type {\n",
              "        vertical-align: middle;\n",
              "    }\n",
              "\n",
              "    .dataframe tbody tr th {\n",
              "        vertical-align: top;\n",
              "    }\n",
              "\n",
              "    .dataframe thead th {\n",
              "        text-align: right;\n",
              "    }\n",
              "</style>\n",
              "<table border=\"1\" class=\"dataframe\">\n",
              "  <thead>\n",
              "    <tr style=\"text-align: right;\">\n",
              "      <th></th>\n",
              "      <th>mean_train_score</th>\n",
              "      <th>mean_test_score</th>\n",
              "    </tr>\n",
              "  </thead>\n",
              "  <tbody>\n",
              "    <tr>\n",
              "      <th>240</th>\n",
              "      <td>0.999593</td>\n",
              "      <td>0.684648</td>\n",
              "    </tr>\n",
              "  </tbody>\n",
              "</table>\n",
              "</div>\n",
              "      <button class=\"colab-df-convert\" onclick=\"convertToInteractive('df-217d17bf-3872-4a6e-b134-d11bcc903367')\"\n",
              "              title=\"Convert this dataframe to an interactive table.\"\n",
              "              style=\"display:none;\">\n",
              "        \n",
              "  <svg xmlns=\"http://www.w3.org/2000/svg\" height=\"24px\"viewBox=\"0 0 24 24\"\n",
              "       width=\"24px\">\n",
              "    <path d=\"M0 0h24v24H0V0z\" fill=\"none\"/>\n",
              "    <path d=\"M18.56 5.44l.94 2.06.94-2.06 2.06-.94-2.06-.94-.94-2.06-.94 2.06-2.06.94zm-11 1L8.5 8.5l.94-2.06 2.06-.94-2.06-.94L8.5 2.5l-.94 2.06-2.06.94zm10 10l.94 2.06.94-2.06 2.06-.94-2.06-.94-.94-2.06-.94 2.06-2.06.94z\"/><path d=\"M17.41 7.96l-1.37-1.37c-.4-.4-.92-.59-1.43-.59-.52 0-1.04.2-1.43.59L10.3 9.45l-7.72 7.72c-.78.78-.78 2.05 0 2.83L4 21.41c.39.39.9.59 1.41.59.51 0 1.02-.2 1.41-.59l7.78-7.78 2.81-2.81c.8-.78.8-2.07 0-2.86zM5.41 20L4 18.59l7.72-7.72 1.47 1.35L5.41 20z\"/>\n",
              "  </svg>\n",
              "      </button>\n",
              "      \n",
              "  <style>\n",
              "    .colab-df-container {\n",
              "      display:flex;\n",
              "      flex-wrap:wrap;\n",
              "      gap: 12px;\n",
              "    }\n",
              "\n",
              "    .colab-df-convert {\n",
              "      background-color: #E8F0FE;\n",
              "      border: none;\n",
              "      border-radius: 50%;\n",
              "      cursor: pointer;\n",
              "      display: none;\n",
              "      fill: #1967D2;\n",
              "      height: 32px;\n",
              "      padding: 0 0 0 0;\n",
              "      width: 32px;\n",
              "    }\n",
              "\n",
              "    .colab-df-convert:hover {\n",
              "      background-color: #E2EBFA;\n",
              "      box-shadow: 0px 1px 2px rgba(60, 64, 67, 0.3), 0px 1px 3px 1px rgba(60, 64, 67, 0.15);\n",
              "      fill: #174EA6;\n",
              "    }\n",
              "\n",
              "    [theme=dark] .colab-df-convert {\n",
              "      background-color: #3B4455;\n",
              "      fill: #D2E3FC;\n",
              "    }\n",
              "\n",
              "    [theme=dark] .colab-df-convert:hover {\n",
              "      background-color: #434B5C;\n",
              "      box-shadow: 0px 1px 3px 1px rgba(0, 0, 0, 0.15);\n",
              "      filter: drop-shadow(0px 1px 2px rgba(0, 0, 0, 0.3));\n",
              "      fill: #FFFFFF;\n",
              "    }\n",
              "  </style>\n",
              "\n",
              "      <script>\n",
              "        const buttonEl =\n",
              "          document.querySelector('#df-217d17bf-3872-4a6e-b134-d11bcc903367 button.colab-df-convert');\n",
              "        buttonEl.style.display =\n",
              "          google.colab.kernel.accessAllowed ? 'block' : 'none';\n",
              "\n",
              "        async function convertToInteractive(key) {\n",
              "          const element = document.querySelector('#df-217d17bf-3872-4a6e-b134-d11bcc903367');\n",
              "          const dataTable =\n",
              "            await google.colab.kernel.invokeFunction('convertToInteractive',\n",
              "                                                     [key], {});\n",
              "          if (!dataTable) return;\n",
              "\n",
              "          const docLinkHtml = 'Like what you see? Visit the ' +\n",
              "            '<a target=\"_blank\" href=https://colab.research.google.com/notebooks/data_table.ipynb>data table notebook</a>'\n",
              "            + ' to learn more about interactive tables.';\n",
              "          element.innerHTML = '';\n",
              "          dataTable['output_type'] = 'display_data';\n",
              "          await google.colab.output.renderOutput(dataTable, element);\n",
              "          const docLink = document.createElement('div');\n",
              "          docLink.innerHTML = docLinkHtml;\n",
              "          element.appendChild(docLink);\n",
              "        }\n",
              "      </script>\n",
              "    </div>\n",
              "  </div>\n",
              "  "
            ]
          },
          "metadata": {},
          "execution_count": 86
        }
      ],
      "source": [
        "gen_perf_knn = pd.DataFrame(HgridCV_knn.cv_results_)\n",
        "gen_perf_knn.query('rank_test_score == 1').loc[:, ['mean_train_score', 'mean_test_score']].drop_duplicates()"
      ]
    },
    {
      "cell_type": "markdown",
      "metadata": {
        "id": "D0SwPzP08mZN"
      },
      "source": [
        "Dari hasil di atas dapat terlihat bahwa berdasarkan hasil lima kali cross validasi nilai rata-rata test score mengalami penurunan yang signifikan jika dibandingkan dengan nilai rata-rata train scorenya. Penurunannya adalah sekitar 30%. Hal tersebut dapat menjadi indikasi bahwa model yang telah dibuat bisa saja mengalami overfit."
      ]
    },
    {
      "cell_type": "markdown",
      "metadata": {
        "id": "KVpAw-EN8Q-A"
      },
      "source": [
        "Kemudian akan dilakukan evaluasi terhadap model dengan menampilkan beberapa metrik evaluasi sebagai berikut."
      ]
    },
    {
      "cell_type": "code",
      "execution_count": null,
      "metadata": {
        "id": "8C5gCr8M9Dr1"
      },
      "outputs": [],
      "source": [
        "### Membuat prediksi dengan menggunakan model yang ada\n",
        "\n",
        "knn_pred = knn_final.predict(X_test_knn)"
      ]
    },
    {
      "cell_type": "code",
      "execution_count": null,
      "metadata": {
        "colab": {
          "base_uri": "https://localhost:8080/"
        },
        "id": "islP6MAb8-Ja",
        "outputId": "bc39fb1d-9898-42a1-ed10-a222ab9e2fde"
      },
      "outputs": [
        {
          "output_type": "stream",
          "name": "stdout",
          "text": [
            "              precision    recall  f1-score   support\n",
            "\n",
            "          -1       0.98      0.96      0.97       976\n",
            "           0       0.54      0.98      0.70       991\n",
            "           1       0.96      0.17      0.29       954\n",
            "\n",
            "    accuracy                           0.71      2921\n",
            "   macro avg       0.83      0.70      0.65      2921\n",
            "weighted avg       0.82      0.71      0.65      2921\n",
            "\n"
          ]
        }
      ],
      "source": [
        "print(classification_report(y_test, knn_pred))"
      ]
    },
    {
      "cell_type": "markdown",
      "metadata": {
        "id": "je4prMcSCno4"
      },
      "source": [
        "### Algoritma Decision Tree"
      ]
    },
    {
      "cell_type": "markdown",
      "metadata": {
        "id": "v0jipbdICrih"
      },
      "source": [
        "#### Preprocess Data Teks dengan Teknik VSM TF-IDF Vectorizer dan Menentukan Parameter yang Optimal\n"
      ]
    },
    {
      "cell_type": "markdown",
      "metadata": {
        "id": "dwPqMzQwCxbW"
      },
      "source": [
        "TF-IDF (*Term Frequency* - *Inverse Document Frequency*) adalah suatu metode algoritma yang berguna untuk menghitung bobot setiap kata yang umum digunakan. Metode ini akan menghitung nilai *Term Frequency* (TF) dan *Inverse Document Frequency* (IDF) pada setiap token (kata) di setiap dokumen dalam korpus. Secara sederhana, metode TF-IDF digunakan untuk mengetahui berapa sering suatu kata muncul di dalam dokumen.\n",
        "\n",
        "Kemudian untuk penentuan parameter yang optimal akan digunakan HalvingGridSearchCV dari library scikitlearn."
      ]
    },
    {
      "cell_type": "code",
      "execution_count": null,
      "metadata": {
        "colab": {
          "base_uri": "https://localhost:8080/"
        },
        "id": "0i2uvXO8CuSz",
        "outputId": "1c102ffb-a32f-4e1f-f82e-5d4c844e896b"
      },
      "outputs": [
        {
          "output_type": "stream",
          "name": "stdout",
          "text": [
            "n_iterations: 6\n",
            "n_required_iterations: 7\n",
            "n_possible_iterations: 6\n",
            "min_resources_: 30\n",
            "max_resources_: 11680\n",
            "aggressive_elimination: False\n",
            "factor: 3\n",
            "----------\n",
            "iter: 0\n",
            "n_candidates: 1458\n",
            "n_resources: 30\n",
            "Fitting 5 folds for each of 1458 candidates, totalling 7290 fits\n"
          ]
        },
        {
          "output_type": "stream",
          "name": "stderr",
          "text": [
            "/usr/local/lib/python3.8/dist-packages/sklearn/model_selection/_validation.py:372: FitFailedWarning: \n",
            "2430 fits failed out of a total of 7290.\n",
            "The score on these train-test partitions for these parameters will be set to nan.\n",
            "If these failures are not expected, you can try to debug them by setting error_score='raise'.\n",
            "\n",
            "Below are more details about the failures:\n",
            "--------------------------------------------------------------------------------\n",
            "2430 fits failed with the following error:\n",
            "Traceback (most recent call last):\n",
            "  File \"/usr/local/lib/python3.8/dist-packages/sklearn/model_selection/_validation.py\", line 680, in _fit_and_score\n",
            "    estimator.fit(X_train, y_train, **fit_params)\n",
            "  File \"/usr/local/lib/python3.8/dist-packages/sklearn/pipeline.py\", line 390, in fit\n",
            "    Xt = self._fit(X, y, **fit_params_steps)\n",
            "  File \"/usr/local/lib/python3.8/dist-packages/sklearn/pipeline.py\", line 348, in _fit\n",
            "    X, fitted_transformer = fit_transform_one_cached(\n",
            "  File \"/usr/local/lib/python3.8/dist-packages/joblib/memory.py\", line 349, in __call__\n",
            "    return self.func(*args, **kwargs)\n",
            "  File \"/usr/local/lib/python3.8/dist-packages/sklearn/pipeline.py\", line 893, in _fit_transform_one\n",
            "    res = transformer.fit_transform(X, y, **fit_params)\n",
            "  File \"/usr/local/lib/python3.8/dist-packages/sklearn/feature_extraction/text.py\", line 2077, in fit_transform\n",
            "    X = super().fit_transform(raw_documents)\n",
            "  File \"/usr/local/lib/python3.8/dist-packages/sklearn/feature_extraction/text.py\", line 1344, in fit_transform\n",
            "    raise ValueError(\"max_df corresponds to < documents than min_df\")\n",
            "ValueError: max_df corresponds to < documents than min_df\n",
            "\n",
            "  warnings.warn(some_fits_failed_message, FitFailedWarning)\n",
            "/usr/local/lib/python3.8/dist-packages/sklearn/model_selection/_search.py:969: UserWarning: One or more of the test scores are non-finite: [0.53333333 0.56666667 0.46666667 ...        nan        nan        nan]\n",
            "  warnings.warn(\n",
            "/usr/local/lib/python3.8/dist-packages/sklearn/model_selection/_search.py:969: UserWarning: One or more of the train scores are non-finite: [0.60833333 0.63333333 0.64166667 ...        nan        nan        nan]\n",
            "  warnings.warn(\n"
          ]
        },
        {
          "output_type": "stream",
          "name": "stdout",
          "text": [
            "----------\n",
            "iter: 1\n",
            "n_candidates: 486\n",
            "n_resources: 90\n",
            "Fitting 5 folds for each of 486 candidates, totalling 2430 fits\n"
          ]
        },
        {
          "output_type": "stream",
          "name": "stderr",
          "text": [
            "/usr/local/lib/python3.8/dist-packages/sklearn/model_selection/_validation.py:372: FitFailedWarning: \n",
            "2430 fits failed out of a total of 2430.\n",
            "The score on these train-test partitions for these parameters will be set to nan.\n",
            "If these failures are not expected, you can try to debug them by setting error_score='raise'.\n",
            "\n",
            "Below are more details about the failures:\n",
            "--------------------------------------------------------------------------------\n",
            "2430 fits failed with the following error:\n",
            "Traceback (most recent call last):\n",
            "  File \"/usr/local/lib/python3.8/dist-packages/sklearn/model_selection/_validation.py\", line 680, in _fit_and_score\n",
            "    estimator.fit(X_train, y_train, **fit_params)\n",
            "  File \"/usr/local/lib/python3.8/dist-packages/sklearn/pipeline.py\", line 390, in fit\n",
            "    Xt = self._fit(X, y, **fit_params_steps)\n",
            "  File \"/usr/local/lib/python3.8/dist-packages/sklearn/pipeline.py\", line 348, in _fit\n",
            "    X, fitted_transformer = fit_transform_one_cached(\n",
            "  File \"/usr/local/lib/python3.8/dist-packages/joblib/memory.py\", line 349, in __call__\n",
            "    return self.func(*args, **kwargs)\n",
            "  File \"/usr/local/lib/python3.8/dist-packages/sklearn/pipeline.py\", line 893, in _fit_transform_one\n",
            "    res = transformer.fit_transform(X, y, **fit_params)\n",
            "  File \"/usr/local/lib/python3.8/dist-packages/sklearn/feature_extraction/text.py\", line 2077, in fit_transform\n",
            "    X = super().fit_transform(raw_documents)\n",
            "  File \"/usr/local/lib/python3.8/dist-packages/sklearn/feature_extraction/text.py\", line 1347, in fit_transform\n",
            "    X, self.stop_words_ = self._limit_features(\n",
            "  File \"/usr/local/lib/python3.8/dist-packages/sklearn/feature_extraction/text.py\", line 1179, in _limit_features\n",
            "    raise ValueError(\n",
            "ValueError: After pruning, no terms remain. Try a lower min_df or a higher max_df.\n",
            "\n",
            "  warnings.warn(some_fits_failed_message, FitFailedWarning)\n",
            "/usr/local/lib/python3.8/dist-packages/sklearn/model_selection/_search.py:969: UserWarning: One or more of the test scores are non-finite: [0.53333333 0.56666667 0.46666667 ...        nan        nan        nan]\n",
            "  warnings.warn(\n",
            "/usr/local/lib/python3.8/dist-packages/sklearn/model_selection/_search.py:969: UserWarning: One or more of the train scores are non-finite: [0.60833333 0.63333333 0.64166667 ...        nan        nan        nan]\n",
            "  warnings.warn(\n"
          ]
        },
        {
          "output_type": "stream",
          "name": "stdout",
          "text": [
            "----------\n",
            "iter: 2\n",
            "n_candidates: 162\n",
            "n_resources: 270\n",
            "Fitting 5 folds for each of 162 candidates, totalling 810 fits\n"
          ]
        },
        {
          "output_type": "stream",
          "name": "stderr",
          "text": [
            "/usr/local/lib/python3.8/dist-packages/sklearn/model_selection/_search.py:969: UserWarning: One or more of the test scores are non-finite: [0.53333333 0.56666667 0.46666667 ... 0.35555556 0.35185185 0.34814815]\n",
            "  warnings.warn(\n",
            "/usr/local/lib/python3.8/dist-packages/sklearn/model_selection/_search.py:969: UserWarning: One or more of the train scores are non-finite: [0.60833333 0.63333333 0.64166667 ... 0.55277778 0.61666667 0.51111111]\n",
            "  warnings.warn(\n"
          ]
        },
        {
          "output_type": "stream",
          "name": "stdout",
          "text": [
            "----------\n",
            "iter: 3\n",
            "n_candidates: 54\n",
            "n_resources: 810\n",
            "Fitting 5 folds for each of 54 candidates, totalling 270 fits\n"
          ]
        },
        {
          "output_type": "stream",
          "name": "stderr",
          "text": [
            "/usr/local/lib/python3.8/dist-packages/sklearn/model_selection/_search.py:969: UserWarning: One or more of the test scores are non-finite: [0.53333333 0.56666667 0.46666667 ... 0.40864198 0.40617284 0.40617284]\n",
            "  warnings.warn(\n",
            "/usr/local/lib/python3.8/dist-packages/sklearn/model_selection/_search.py:969: UserWarning: One or more of the train scores are non-finite: [0.60833333 0.63333333 0.64166667 ... 0.47808642 0.47253086 0.47253086]\n",
            "  warnings.warn(\n"
          ]
        },
        {
          "output_type": "stream",
          "name": "stdout",
          "text": [
            "----------\n",
            "iter: 4\n",
            "n_candidates: 18\n",
            "n_resources: 2430\n",
            "Fitting 5 folds for each of 18 candidates, totalling 90 fits\n"
          ]
        },
        {
          "output_type": "stream",
          "name": "stderr",
          "text": [
            "/usr/local/lib/python3.8/dist-packages/sklearn/model_selection/_search.py:969: UserWarning: One or more of the test scores are non-finite: [0.53333333 0.56666667 0.46666667 ... 0.50740741 0.50740741 0.50740741]\n",
            "  warnings.warn(\n",
            "/usr/local/lib/python3.8/dist-packages/sklearn/model_selection/_search.py:969: UserWarning: One or more of the train scores are non-finite: [0.60833333 0.63333333 0.64166667 ... 0.54002058 0.54002058 0.54002058]\n",
            "  warnings.warn(\n"
          ]
        },
        {
          "output_type": "stream",
          "name": "stdout",
          "text": [
            "----------\n",
            "iter: 5\n",
            "n_candidates: 6\n",
            "n_resources: 7290\n",
            "Fitting 5 folds for each of 6 candidates, totalling 30 fits\n"
          ]
        },
        {
          "output_type": "stream",
          "name": "stderr",
          "text": [
            "/usr/local/lib/python3.8/dist-packages/sklearn/model_selection/_search.py:969: UserWarning: One or more of the test scores are non-finite: [0.53333333 0.56666667 0.46666667 ... 0.50644719 0.50644719 0.50644719]\n",
            "  warnings.warn(\n",
            "/usr/local/lib/python3.8/dist-packages/sklearn/model_selection/_search.py:969: UserWarning: One or more of the train scores are non-finite: [0.60833333 0.63333333 0.64166667 ... 0.53004115 0.53004115 0.53004115]\n",
            "  warnings.warn(\n"
          ]
        },
        {
          "output_type": "stream",
          "name": "stdout",
          "text": [
            "0.5065843621399176\n",
            "{'decisiontreeclassifier__criterion': 'entropy', 'decisiontreeclassifier__max_depth': 10, 'decisiontreeclassifier__min_samples_leaf': 7, 'decisiontreeclassifier__min_samples_split': 12, 'tfidfvectorizer__max_df': 0.95, 'tfidfvectorizer__min_df': 30, 'tfidfvectorizer__ngram_range': (1, 2), 'tfidfvectorizer__smooth_idf': True, 'tfidfvectorizer__sublinear_tf': True}\n"
          ]
        }
      ],
      "source": [
        "CV = 5\n",
        "metric = 'accuracy'\n",
        "params_dt = {}\n",
        "params_dt['tfidfvectorizer__min_df'] = [5, 10, 30]\n",
        "params_dt['tfidfvectorizer__max_df'] = [0.5, 0.75, 0.95]\n",
        "params_dt['tfidfvectorizer__smooth_idf'] = [True]\n",
        "params_dt['tfidfvectorizer__sublinear_tf'] = [True]\n",
        "params_dt['tfidfvectorizer__ngram_range'] = [(1, 1), (1, 2), (1,3)]\n",
        "params_dt['decisiontreeclassifier__criterion'] = ['gini', 'entropy']\n",
        "params_dt['decisiontreeclassifier__max_depth'] = [3, 5, 10]\n",
        "params_dt['decisiontreeclassifier__min_samples_split'] = [5, 8, 12]\n",
        "params_dt['decisiontreeclassifier__min_samples_leaf'] = [3, 7, 15]\n",
        "\n",
        "pipe_dt = make_pipeline(TfidfVectorizer(), DecisionTreeClassifier())\n",
        "HGridCV_dt = HalvingGridSearchCV(pipe_dt, params_dt, cv=CV, scoring=metric,\n",
        "                                  verbose=1, random_state=123, return_train_score=True)\n",
        "HGridCV_dt.fit(X_train, y_train)\n",
        "print(HGridCV_dt.best_score_)\n",
        "print(HGridCV_dt.best_params_)"
      ]
    },
    {
      "cell_type": "markdown",
      "metadata": {
        "id": "as4JB8FID6M0"
      },
      "source": [
        "Setelah menemukan parameter terbaik untuk TF-IDF vectorizer dan algoritma naive bayes, akan dilakukan preprocessing data teks serta training model naive bayes dengan menggunakan parameter terbaik yang telah ditemukan di atas sebagai berikut."
      ]
    },
    {
      "cell_type": "code",
      "execution_count": null,
      "metadata": {
        "colab": {
          "base_uri": "https://localhost:8080/"
        },
        "id": "v5nw-u2GD8s_",
        "outputId": "15f781a3-977b-4759-d75e-ddf3460fb561"
      },
      "outputs": [
        {
          "output_type": "stream",
          "name": "stdout",
          "text": [
            "(11680, 1437) (2921, 1437)\n"
          ]
        }
      ],
      "source": [
        "### Preprocess data teks dengan parameter terbaik untuk TF-IDF\n",
        "\n",
        "vsm_dt = TfidfVectorizer(max_df = 0.95, min_df = 30, ngram_range= (1, 2), smooth_idf=True, sublinear_tf=True)\n",
        "\n",
        "X_train_dt = vsm_dt.fit_transform(X_train)\n",
        "X_test_dt = vsm_dt.transform(X_test)\n",
        "\n",
        "print(X_train_dt.shape, X_test_dt.shape)"
      ]
    },
    {
      "cell_type": "code",
      "execution_count": null,
      "metadata": {
        "colab": {
          "base_uri": "https://localhost:8080/"
        },
        "id": "KD4afLGBD879",
        "outputId": "0457b00a-2585-4984-a5e4-b4e75ed29e00"
      },
      "outputs": [
        {
          "output_type": "execute_result",
          "data": {
            "text/plain": [
              "DecisionTreeClassifier(criterion='entropy', max_depth=10, min_samples_leaf=12,\n",
              "                       min_samples_split=7)"
            ]
          },
          "metadata": {},
          "execution_count": 79
        }
      ],
      "source": [
        "### Train model\n",
        "\n",
        "dt_final = DecisionTreeClassifier(criterion='entropy', max_depth=10, min_samples_split=7, min_samples_leaf=12)\n",
        "dt_final.fit(X_train_dt, y_train)"
      ]
    },
    {
      "cell_type": "markdown",
      "metadata": {
        "id": "LQ_RoX4zERmI"
      },
      "source": [
        "#### Evaluasi Model"
      ]
    },
    {
      "cell_type": "markdown",
      "metadata": {
        "id": "rQXCN9cCEUa4"
      },
      "source": [
        "Pertama, akan dilakukan penilaian terhadap performa generalisasi model untuk mengecek apakah model yang ada mengalami overfit atau underfit. Akan dilakukan pembandingan nilai rata-rata train score terhadap test score. Bila nilai train score tinggi namun test score rendah maka terdapat indikasi bahwa model mengalami overfit. Bila nilai train score rendah dan nilai test score rendah maka terdapat indikasi model mengalami underfit."
      ]
    },
    {
      "cell_type": "code",
      "execution_count": null,
      "metadata": {
        "colab": {
          "base_uri": "https://localhost:8080/",
          "height": 260
        },
        "id": "fNRCQBp-EXtE",
        "outputId": "44250040-23d3-41c9-fa83-9aa0858fe0d6"
      },
      "outputs": [
        {
          "output_type": "display_data",
          "data": {
            "text/plain": [
              "     mean_train_score  mean_test_score  difference\n",
              "9            0.608333              0.6    0.008333\n",
              "36           0.600000              0.6    0.000000\n",
              "270          0.633333              0.6    0.033333\n",
              "495          0.641667              0.6    0.041667\n",
              "540          0.625000              0.6    0.025000"
            ],
            "text/html": [
              "\n",
              "  <div id=\"df-5f9182a0-747d-405e-ab0d-41b61c6a6ca8\">\n",
              "    <div class=\"colab-df-container\">\n",
              "      <div>\n",
              "<style scoped>\n",
              "    .dataframe tbody tr th:only-of-type {\n",
              "        vertical-align: middle;\n",
              "    }\n",
              "\n",
              "    .dataframe tbody tr th {\n",
              "        vertical-align: top;\n",
              "    }\n",
              "\n",
              "    .dataframe thead th {\n",
              "        text-align: right;\n",
              "    }\n",
              "</style>\n",
              "<table border=\"1\" class=\"dataframe\">\n",
              "  <thead>\n",
              "    <tr style=\"text-align: right;\">\n",
              "      <th></th>\n",
              "      <th>mean_train_score</th>\n",
              "      <th>mean_test_score</th>\n",
              "      <th>difference</th>\n",
              "    </tr>\n",
              "  </thead>\n",
              "  <tbody>\n",
              "    <tr>\n",
              "      <th>9</th>\n",
              "      <td>0.608333</td>\n",
              "      <td>0.6</td>\n",
              "      <td>0.008333</td>\n",
              "    </tr>\n",
              "    <tr>\n",
              "      <th>36</th>\n",
              "      <td>0.600000</td>\n",
              "      <td>0.6</td>\n",
              "      <td>0.000000</td>\n",
              "    </tr>\n",
              "    <tr>\n",
              "      <th>270</th>\n",
              "      <td>0.633333</td>\n",
              "      <td>0.6</td>\n",
              "      <td>0.033333</td>\n",
              "    </tr>\n",
              "    <tr>\n",
              "      <th>495</th>\n",
              "      <td>0.641667</td>\n",
              "      <td>0.6</td>\n",
              "      <td>0.041667</td>\n",
              "    </tr>\n",
              "    <tr>\n",
              "      <th>540</th>\n",
              "      <td>0.625000</td>\n",
              "      <td>0.6</td>\n",
              "      <td>0.025000</td>\n",
              "    </tr>\n",
              "  </tbody>\n",
              "</table>\n",
              "</div>\n",
              "      <button class=\"colab-df-convert\" onclick=\"convertToInteractive('df-5f9182a0-747d-405e-ab0d-41b61c6a6ca8')\"\n",
              "              title=\"Convert this dataframe to an interactive table.\"\n",
              "              style=\"display:none;\">\n",
              "        \n",
              "  <svg xmlns=\"http://www.w3.org/2000/svg\" height=\"24px\"viewBox=\"0 0 24 24\"\n",
              "       width=\"24px\">\n",
              "    <path d=\"M0 0h24v24H0V0z\" fill=\"none\"/>\n",
              "    <path d=\"M18.56 5.44l.94 2.06.94-2.06 2.06-.94-2.06-.94-.94-2.06-.94 2.06-2.06.94zm-11 1L8.5 8.5l.94-2.06 2.06-.94-2.06-.94L8.5 2.5l-.94 2.06-2.06.94zm10 10l.94 2.06.94-2.06 2.06-.94-2.06-.94-.94-2.06-.94 2.06-2.06.94z\"/><path d=\"M17.41 7.96l-1.37-1.37c-.4-.4-.92-.59-1.43-.59-.52 0-1.04.2-1.43.59L10.3 9.45l-7.72 7.72c-.78.78-.78 2.05 0 2.83L4 21.41c.39.39.9.59 1.41.59.51 0 1.02-.2 1.41-.59l7.78-7.78 2.81-2.81c.8-.78.8-2.07 0-2.86zM5.41 20L4 18.59l7.72-7.72 1.47 1.35L5.41 20z\"/>\n",
              "  </svg>\n",
              "      </button>\n",
              "      \n",
              "  <style>\n",
              "    .colab-df-container {\n",
              "      display:flex;\n",
              "      flex-wrap:wrap;\n",
              "      gap: 12px;\n",
              "    }\n",
              "\n",
              "    .colab-df-convert {\n",
              "      background-color: #E8F0FE;\n",
              "      border: none;\n",
              "      border-radius: 50%;\n",
              "      cursor: pointer;\n",
              "      display: none;\n",
              "      fill: #1967D2;\n",
              "      height: 32px;\n",
              "      padding: 0 0 0 0;\n",
              "      width: 32px;\n",
              "    }\n",
              "\n",
              "    .colab-df-convert:hover {\n",
              "      background-color: #E2EBFA;\n",
              "      box-shadow: 0px 1px 2px rgba(60, 64, 67, 0.3), 0px 1px 3px 1px rgba(60, 64, 67, 0.15);\n",
              "      fill: #174EA6;\n",
              "    }\n",
              "\n",
              "    [theme=dark] .colab-df-convert {\n",
              "      background-color: #3B4455;\n",
              "      fill: #D2E3FC;\n",
              "    }\n",
              "\n",
              "    [theme=dark] .colab-df-convert:hover {\n",
              "      background-color: #434B5C;\n",
              "      box-shadow: 0px 1px 3px 1px rgba(0, 0, 0, 0.15);\n",
              "      filter: drop-shadow(0px 1px 2px rgba(0, 0, 0, 0.3));\n",
              "      fill: #FFFFFF;\n",
              "    }\n",
              "  </style>\n",
              "\n",
              "      <script>\n",
              "        const buttonEl =\n",
              "          document.querySelector('#df-5f9182a0-747d-405e-ab0d-41b61c6a6ca8 button.colab-df-convert');\n",
              "        buttonEl.style.display =\n",
              "          google.colab.kernel.accessAllowed ? 'block' : 'none';\n",
              "\n",
              "        async function convertToInteractive(key) {\n",
              "          const element = document.querySelector('#df-5f9182a0-747d-405e-ab0d-41b61c6a6ca8');\n",
              "          const dataTable =\n",
              "            await google.colab.kernel.invokeFunction('convertToInteractive',\n",
              "                                                     [key], {});\n",
              "          if (!dataTable) return;\n",
              "\n",
              "          const docLinkHtml = 'Like what you see? Visit the ' +\n",
              "            '<a target=\"_blank\" href=https://colab.research.google.com/notebooks/data_table.ipynb>data table notebook</a>'\n",
              "            + ' to learn more about interactive tables.';\n",
              "          element.innerHTML = '';\n",
              "          dataTable['output_type'] = 'display_data';\n",
              "          await google.colab.output.renderOutput(dataTable, element);\n",
              "          const docLink = document.createElement('div');\n",
              "          docLink.innerHTML = docLinkHtml;\n",
              "          element.appendChild(docLink);\n",
              "        }\n",
              "      </script>\n",
              "    </div>\n",
              "  </div>\n",
              "  "
            ]
          },
          "metadata": {}
        },
        {
          "output_type": "stream",
          "name": "stdout",
          "text": [
            "\n",
            "\n",
            "Rata-rata perbedaan train score test score:  2.0 %\n"
          ]
        }
      ],
      "source": [
        "gen_perf_dt = pd.DataFrame(HGridCV_dt.cv_results_)\n",
        "gen_perf_dt = gen_perf_dt.query('rank_test_score == 1').loc[:, ['mean_train_score', 'mean_test_score']].drop_duplicates()\n",
        "gen_perf_dt['difference'] = gen_perf_dt['mean_train_score'] - gen_perf_dt['mean_test_score']\n",
        "\n",
        "display(gen_perf_dt)\n",
        "print('\\n')\n",
        "print('Rata-rata perbedaan train score test score: ', round(gen_perf_dt['difference'].mean(), 2)*100, '%')"
      ]
    },
    {
      "cell_type": "markdown",
      "metadata": {
        "id": "p6QLcvRwEatQ"
      },
      "source": [
        "Dari hasil di atas dapat terlihat bahwa berdasarkan hasil lima kali cross validasi nilai rata-rata test score tidak mengalami penurunan yang signifikan jika dibandingkan dengan nilai rata-rata train scorenya. Rata-rata penurunannya hanya sekitar 2%. Hal tersebut dapat menjadi indikasi bahwa model yang telah dibuat tidak mengalami overfit ataupun underfit."
      ]
    },
    {
      "cell_type": "markdown",
      "metadata": {
        "id": "e2Zq3GYbIYXK"
      },
      "source": [
        "Kemudian akan dilakukan evaluasi terhadap model dengan menampilkan beberapa metrik evaluasi sebagai berikut."
      ]
    },
    {
      "cell_type": "code",
      "execution_count": null,
      "metadata": {
        "id": "NoBY1Z79EctS"
      },
      "outputs": [],
      "source": [
        "### Membuat prediksi dengan menggunakan model yang ada\n",
        "\n",
        "dt_pred = dt_final.predict(X_test_dt)"
      ]
    },
    {
      "cell_type": "code",
      "execution_count": null,
      "metadata": {
        "colab": {
          "base_uri": "https://localhost:8080/"
        },
        "id": "Gi-plCyKEcyJ",
        "outputId": "c7841587-e881-4d8c-eacd-12ecada4c674"
      },
      "outputs": [
        {
          "output_type": "stream",
          "name": "stdout",
          "text": [
            "              precision    recall  f1-score   support\n",
            "\n",
            "          -1       0.80      0.28      0.42       976\n",
            "           0       0.43      0.91      0.59       991\n",
            "           1       0.64      0.31      0.42       954\n",
            "\n",
            "    accuracy                           0.51      2921\n",
            "   macro avg       0.62      0.50      0.47      2921\n",
            "weighted avg       0.62      0.51      0.48      2921\n",
            "\n"
          ]
        }
      ],
      "source": [
        "print(classification_report(y_test, dt_pred))"
      ]
    },
    {
      "cell_type": "markdown",
      "metadata": {
        "id": "Q8CAMBPWE43z"
      },
      "source": [
        "### Algoritma Random Forest"
      ]
    },
    {
      "cell_type": "markdown",
      "metadata": {
        "id": "w1xuQ0nFE974"
      },
      "source": [
        "#### Preprocess Data Teks dengan Teknik VSM TF-IDF Vectorizer dan Menentukan Parameter yang Optimal\n"
      ]
    },
    {
      "cell_type": "markdown",
      "metadata": {
        "id": "uD-7S7K9E-ZO"
      },
      "source": [
        "TF-IDF (*Term Frequency* - *Inverse Document Frequency*) adalah suatu metode algoritma yang berguna untuk menghitung bobot setiap kata yang umum digunakan. Metode ini akan menghitung nilai *Term Frequency* (TF) dan *Inverse Document Frequency* (IDF) pada setiap token (kata) di setiap dokumen dalam korpus. Secara sederhana, metode TF-IDF digunakan untuk mengetahui berapa sering suatu kata muncul di dalam dokumen.\n",
        "\n",
        "Kemudian untuk penentuan parameter yang optimal akan digunakan HalvingGridSearchCV dari library scikitlearn."
      ]
    },
    {
      "cell_type": "code",
      "execution_count": null,
      "metadata": {
        "colab": {
          "base_uri": "https://localhost:8080/"
        },
        "id": "-3gmvXMSE6_7",
        "outputId": "ce73fb22-c761-4991-c117-ebf61f169d10"
      },
      "outputs": [
        {
          "output_type": "stream",
          "name": "stdout",
          "text": [
            "n_iterations: 5\n",
            "n_required_iterations: 5\n",
            "n_possible_iterations: 5\n",
            "min_resources_: 144\n",
            "max_resources_: 11680\n",
            "aggressive_elimination: False\n",
            "factor: 3\n",
            "----------\n",
            "iter: 0\n",
            "n_candidates: 162\n",
            "n_resources: 144\n",
            "Fitting 5 folds for each of 162 candidates, totalling 810 fits\n",
            "----------\n",
            "iter: 1\n",
            "n_candidates: 54\n",
            "n_resources: 432\n",
            "Fitting 5 folds for each of 54 candidates, totalling 270 fits\n",
            "----------\n",
            "iter: 2\n",
            "n_candidates: 18\n",
            "n_resources: 1296\n",
            "Fitting 5 folds for each of 18 candidates, totalling 90 fits\n",
            "----------\n",
            "iter: 3\n",
            "n_candidates: 6\n",
            "n_resources: 3888\n",
            "Fitting 5 folds for each of 6 candidates, totalling 30 fits\n",
            "----------\n",
            "iter: 4\n",
            "n_candidates: 2\n",
            "n_resources: 11664\n",
            "Fitting 5 folds for each of 2 candidates, totalling 10 fits\n",
            "\n",
            "\n",
            "Best score:  0.863893653516295\n",
            "Best params:  {'randomforestclassifier__criterion': 'gini', 'randomforestclassifier__n_estimators': 200, 'tfidfvectorizer__max_df': 0.5, 'tfidfvectorizer__min_df': 5, 'tfidfvectorizer__ngram_range': (1, 1), 'tfidfvectorizer__smooth_idf': True, 'tfidfvectorizer__sublinear_tf': True}\n"
          ]
        }
      ],
      "source": [
        "CV = 5\n",
        "metric = 'accuracy'\n",
        "params_rf = {}\n",
        "params_rf['tfidfvectorizer__min_df'] = [5, 10, 15]\n",
        "params_rf['tfidfvectorizer__max_df'] = [0.5, 0.75, 0.95]\n",
        "params_rf['tfidfvectorizer__smooth_idf'] = [True]\n",
        "params_rf['tfidfvectorizer__sublinear_tf'] = [True]\n",
        "params_rf['tfidfvectorizer__ngram_range'] = [(1, 1), (1, 2), (1,3)]\n",
        "params_rf['randomforestclassifier__n_estimators'] = [50, 100, 200]\n",
        "params_rf['randomforestclassifier__criterion'] = ('gini', 'entropy')\n",
        "\n",
        "pipe_rf = make_pipeline(TfidfVectorizer(), RandomForestClassifier())\n",
        "HgridCV_rf = HalvingGridSearchCV(pipe_rf, params_rf, cv=CV, scoring=metric,\n",
        "                              verbose=1, return_train_score=True, random_state=123)\n",
        "HgridCV_rf.fit(X_train, y_train)\n",
        "\n",
        "print('\\n')\n",
        "print('Best score: ', HgridCV_rf.best_score_)\n",
        "print('Best params: ', HgridCV_rf.best_params_)"
      ]
    },
    {
      "cell_type": "markdown",
      "metadata": {
        "id": "jg9LNNTtI3db"
      },
      "source": [
        "Setelah menemukan parameter terbaik untuk TF-IDF vectorizer dan algoritma random forest, akan dilakukan preprocessing data teks serta training model random forest dengan menggunakan parameter terbaik yang telah ditemukan di atas sebagai berikut."
      ]
    },
    {
      "cell_type": "code",
      "execution_count": null,
      "metadata": {
        "colab": {
          "base_uri": "https://localhost:8080/"
        },
        "id": "1be8WgJgI77R",
        "outputId": "f17c3762-e53e-46a9-fc51-2d2733b3b8df"
      },
      "outputs": [
        {
          "output_type": "stream",
          "name": "stdout",
          "text": [
            "(11680, 3764) (2921, 3764)\n"
          ]
        }
      ],
      "source": [
        "### Preprocess data teks dengan parameter terbaik untuk TF-IDF\n",
        "\n",
        "vsm_rf = TfidfVectorizer(max_df = 0.5, min_df = 5, ngram_range= (1, 1), smooth_idf=True, sublinear_tf=True)\n",
        "\n",
        "X_train_rf = vsm_rf.fit_transform(X_train)\n",
        "X_test_rf = vsm_rf.transform(X_test)\n",
        "\n",
        "print(X_train_rf.shape, X_test_rf.shape)"
      ]
    },
    {
      "cell_type": "code",
      "execution_count": null,
      "metadata": {
        "colab": {
          "base_uri": "https://localhost:8080/"
        },
        "id": "EaMAWjzfI9-X",
        "outputId": "efafd968-b715-4666-8f93-8b33bb3b8c4d"
      },
      "outputs": [
        {
          "output_type": "execute_result",
          "data": {
            "text/plain": [
              "RandomForestClassifier(n_estimators=200)"
            ]
          },
          "metadata": {},
          "execution_count": 78
        }
      ],
      "source": [
        "### Train model\n",
        "\n",
        "rf_final = RandomForestClassifier(criterion='gini', n_estimators=200)\n",
        "rf_final.fit(X_train_rf, y_train)"
      ]
    },
    {
      "cell_type": "markdown",
      "metadata": {
        "id": "e1u4f8yiJJz_"
      },
      "source": [
        "#### Evaluasi Model"
      ]
    },
    {
      "cell_type": "markdown",
      "metadata": {
        "id": "TMOTfKuiJL8U"
      },
      "source": [
        "Pertama, akan dilakukan penilaian terhadap performa generalisasi model untuk mengecek apakah model yang ada mengalami overfit atau underfit. Akan dilakukan pembandingan nilai rata-rata train score terhadap test score. Bila nilai train score tinggi namun test score rendah maka terdapat indikasi bahwa model mengalami overfit. Bila nilai train score rendah dan nilai test score rendah maka terdapat indikasi model mengalami underfit."
      ]
    },
    {
      "cell_type": "code",
      "execution_count": null,
      "metadata": {
        "colab": {
          "base_uri": "https://localhost:8080/",
          "height": 81
        },
        "id": "s2uGelc4JOFw",
        "outputId": "390b114d-7cbf-4c38-9af6-3282bacd619e"
      },
      "outputs": [
        {
          "output_type": "execute_result",
          "data": {
            "text/plain": [
              "     mean_train_score  mean_test_score\n",
              "241          0.999593         0.863894"
            ],
            "text/html": [
              "\n",
              "  <div id=\"df-551bdb3d-d56a-462f-9404-552a7c9c606e\">\n",
              "    <div class=\"colab-df-container\">\n",
              "      <div>\n",
              "<style scoped>\n",
              "    .dataframe tbody tr th:only-of-type {\n",
              "        vertical-align: middle;\n",
              "    }\n",
              "\n",
              "    .dataframe tbody tr th {\n",
              "        vertical-align: top;\n",
              "    }\n",
              "\n",
              "    .dataframe thead th {\n",
              "        text-align: right;\n",
              "    }\n",
              "</style>\n",
              "<table border=\"1\" class=\"dataframe\">\n",
              "  <thead>\n",
              "    <tr style=\"text-align: right;\">\n",
              "      <th></th>\n",
              "      <th>mean_train_score</th>\n",
              "      <th>mean_test_score</th>\n",
              "    </tr>\n",
              "  </thead>\n",
              "  <tbody>\n",
              "    <tr>\n",
              "      <th>241</th>\n",
              "      <td>0.999593</td>\n",
              "      <td>0.863894</td>\n",
              "    </tr>\n",
              "  </tbody>\n",
              "</table>\n",
              "</div>\n",
              "      <button class=\"colab-df-convert\" onclick=\"convertToInteractive('df-551bdb3d-d56a-462f-9404-552a7c9c606e')\"\n",
              "              title=\"Convert this dataframe to an interactive table.\"\n",
              "              style=\"display:none;\">\n",
              "        \n",
              "  <svg xmlns=\"http://www.w3.org/2000/svg\" height=\"24px\"viewBox=\"0 0 24 24\"\n",
              "       width=\"24px\">\n",
              "    <path d=\"M0 0h24v24H0V0z\" fill=\"none\"/>\n",
              "    <path d=\"M18.56 5.44l.94 2.06.94-2.06 2.06-.94-2.06-.94-.94-2.06-.94 2.06-2.06.94zm-11 1L8.5 8.5l.94-2.06 2.06-.94-2.06-.94L8.5 2.5l-.94 2.06-2.06.94zm10 10l.94 2.06.94-2.06 2.06-.94-2.06-.94-.94-2.06-.94 2.06-2.06.94z\"/><path d=\"M17.41 7.96l-1.37-1.37c-.4-.4-.92-.59-1.43-.59-.52 0-1.04.2-1.43.59L10.3 9.45l-7.72 7.72c-.78.78-.78 2.05 0 2.83L4 21.41c.39.39.9.59 1.41.59.51 0 1.02-.2 1.41-.59l7.78-7.78 2.81-2.81c.8-.78.8-2.07 0-2.86zM5.41 20L4 18.59l7.72-7.72 1.47 1.35L5.41 20z\"/>\n",
              "  </svg>\n",
              "      </button>\n",
              "      \n",
              "  <style>\n",
              "    .colab-df-container {\n",
              "      display:flex;\n",
              "      flex-wrap:wrap;\n",
              "      gap: 12px;\n",
              "    }\n",
              "\n",
              "    .colab-df-convert {\n",
              "      background-color: #E8F0FE;\n",
              "      border: none;\n",
              "      border-radius: 50%;\n",
              "      cursor: pointer;\n",
              "      display: none;\n",
              "      fill: #1967D2;\n",
              "      height: 32px;\n",
              "      padding: 0 0 0 0;\n",
              "      width: 32px;\n",
              "    }\n",
              "\n",
              "    .colab-df-convert:hover {\n",
              "      background-color: #E2EBFA;\n",
              "      box-shadow: 0px 1px 2px rgba(60, 64, 67, 0.3), 0px 1px 3px 1px rgba(60, 64, 67, 0.15);\n",
              "      fill: #174EA6;\n",
              "    }\n",
              "\n",
              "    [theme=dark] .colab-df-convert {\n",
              "      background-color: #3B4455;\n",
              "      fill: #D2E3FC;\n",
              "    }\n",
              "\n",
              "    [theme=dark] .colab-df-convert:hover {\n",
              "      background-color: #434B5C;\n",
              "      box-shadow: 0px 1px 3px 1px rgba(0, 0, 0, 0.15);\n",
              "      filter: drop-shadow(0px 1px 2px rgba(0, 0, 0, 0.3));\n",
              "      fill: #FFFFFF;\n",
              "    }\n",
              "  </style>\n",
              "\n",
              "      <script>\n",
              "        const buttonEl =\n",
              "          document.querySelector('#df-551bdb3d-d56a-462f-9404-552a7c9c606e button.colab-df-convert');\n",
              "        buttonEl.style.display =\n",
              "          google.colab.kernel.accessAllowed ? 'block' : 'none';\n",
              "\n",
              "        async function convertToInteractive(key) {\n",
              "          const element = document.querySelector('#df-551bdb3d-d56a-462f-9404-552a7c9c606e');\n",
              "          const dataTable =\n",
              "            await google.colab.kernel.invokeFunction('convertToInteractive',\n",
              "                                                     [key], {});\n",
              "          if (!dataTable) return;\n",
              "\n",
              "          const docLinkHtml = 'Like what you see? Visit the ' +\n",
              "            '<a target=\"_blank\" href=https://colab.research.google.com/notebooks/data_table.ipynb>data table notebook</a>'\n",
              "            + ' to learn more about interactive tables.';\n",
              "          element.innerHTML = '';\n",
              "          dataTable['output_type'] = 'display_data';\n",
              "          await google.colab.output.renderOutput(dataTable, element);\n",
              "          const docLink = document.createElement('div');\n",
              "          docLink.innerHTML = docLinkHtml;\n",
              "          element.appendChild(docLink);\n",
              "        }\n",
              "      </script>\n",
              "    </div>\n",
              "  </div>\n",
              "  "
            ]
          },
          "metadata": {},
          "execution_count": 79
        }
      ],
      "source": [
        "gen_perf_svm = pd.DataFrame(HgridCV_rf.cv_results_)\n",
        "gen_perf_svm.query('rank_test_score == 1').loc[:, ['mean_train_score', 'mean_test_score']].drop_duplicates()"
      ]
    },
    {
      "cell_type": "markdown",
      "metadata": {
        "id": "Fp2Pbvb_JQMw"
      },
      "source": [
        "Dari hasil di atas dapat terlihat bahwa berdasarkan hasil lima kali cross validasi nilai rata-rata test score mengalami penurunan yang tidak terlalu signifikan jika dibandingkan dengan nilai rata-rata train scorenya. Penurunannya adalah sekitar 13%. Hal tersebut dapat menjadi indikasi bahwa model yang telah dibuat bisa saja mengalami overfit."
      ]
    },
    {
      "cell_type": "markdown",
      "metadata": {
        "id": "5FHglWYKJRIo"
      },
      "source": [
        "Kemudian akan dilakukan evaluasi terhadap model dengan menampilkan beberapa metrik evaluasi sebagai berikut."
      ]
    },
    {
      "cell_type": "code",
      "execution_count": null,
      "metadata": {
        "id": "4sr3HoHHJRcC"
      },
      "outputs": [],
      "source": [
        "### Membuat prediksi dengan menggunakan model yang ada\n",
        "\n",
        "rf_pred = rf_final.predict(X_test_rf)"
      ]
    },
    {
      "cell_type": "code",
      "execution_count": null,
      "metadata": {
        "colab": {
          "base_uri": "https://localhost:8080/"
        },
        "id": "_SXcYcH_JT2s",
        "outputId": "21d00d56-c27b-40d5-bf48-b732a59e4396"
      },
      "outputs": [
        {
          "output_type": "stream",
          "name": "stdout",
          "text": [
            "              precision    recall  f1-score   support\n",
            "\n",
            "          -1       0.96      0.98      0.97       976\n",
            "           0       0.80      0.87      0.83       991\n",
            "           1       0.85      0.77      0.81       954\n",
            "\n",
            "    accuracy                           0.87      2921\n",
            "   macro avg       0.87      0.87      0.87      2921\n",
            "weighted avg       0.87      0.87      0.87      2921\n",
            "\n"
          ]
        }
      ],
      "source": [
        "print(classification_report(y_test, rf_pred))"
      ]
    },
    {
      "cell_type": "markdown",
      "metadata": {
        "id": "6dfDajR5Q_4Q"
      },
      "source": [
        "## Membandingkan Ketiga Model"
      ]
    },
    {
      "cell_type": "markdown",
      "metadata": {
        "id": "CAGRspxuRIE4"
      },
      "source": [
        "Selanjutnya akan dilakukan pembandingan dari ketiga model yang telah dibuat, yaitu KNN, Decision Tree, dan Random Forest. Untuk membandingkannya akan ditampilkan hasil classification_report dari ketiga model tersebut."
      ]
    },
    {
      "cell_type": "code",
      "execution_count": null,
      "metadata": {
        "colab": {
          "base_uri": "https://localhost:8080/"
        },
        "id": "RccVPEfqRa5m",
        "outputId": "efa365e1-7e26-4b03-807d-94d4b2525cc5"
      },
      "outputs": [
        {
          "output_type": "stream",
          "name": "stdout",
          "text": [
            "Report untuk algoritma KNN:  \n",
            " \n",
            "               precision    recall  f1-score   support\n",
            "\n",
            "          -1       0.98      0.96      0.97       976\n",
            "           0       0.54      0.98      0.70       991\n",
            "           1       0.96      0.17      0.29       954\n",
            "\n",
            "    accuracy                           0.71      2921\n",
            "   macro avg       0.83      0.70      0.65      2921\n",
            "weighted avg       0.82      0.71      0.65      2921\n",
            "\n"
          ]
        }
      ],
      "source": [
        "print('Report untuk algoritma KNN: ', '\\n', '\\n', classification_report(y_test, knn_pred))"
      ]
    },
    {
      "cell_type": "code",
      "execution_count": null,
      "metadata": {
        "colab": {
          "base_uri": "https://localhost:8080/"
        },
        "id": "9oagmvz7ReYp",
        "outputId": "9a8f966a-9be9-45f3-ce95-674209f4290c"
      },
      "outputs": [
        {
          "output_type": "stream",
          "name": "stdout",
          "text": [
            "Report untuk algoritma Decision Tree:  \n",
            " \n",
            "               precision    recall  f1-score   support\n",
            "\n",
            "          -1       0.80      0.28      0.42       976\n",
            "           0       0.43      0.91      0.59       991\n",
            "           1       0.64      0.31      0.42       954\n",
            "\n",
            "    accuracy                           0.51      2921\n",
            "   macro avg       0.62      0.50      0.47      2921\n",
            "weighted avg       0.62      0.51      0.48      2921\n",
            "\n"
          ]
        }
      ],
      "source": [
        "print('Report untuk algoritma Decision Tree: ', '\\n', '\\n', classification_report(y_test, dt_pred))"
      ]
    },
    {
      "cell_type": "code",
      "execution_count": null,
      "metadata": {
        "colab": {
          "base_uri": "https://localhost:8080/"
        },
        "id": "f1k8nKkgRliM",
        "outputId": "124ff3bd-f5a8-45e7-b718-b369dd6c7fdd"
      },
      "outputs": [
        {
          "output_type": "stream",
          "name": "stdout",
          "text": [
            "Report untuk algoritma random forest:  \n",
            " \n",
            "               precision    recall  f1-score   support\n",
            "\n",
            "          -1       0.96      0.98      0.97       976\n",
            "           0       0.80      0.87      0.83       991\n",
            "           1       0.85      0.77      0.81       954\n",
            "\n",
            "    accuracy                           0.87      2921\n",
            "   macro avg       0.87      0.87      0.87      2921\n",
            "weighted avg       0.87      0.87      0.87      2921\n",
            "\n"
          ]
        }
      ],
      "source": [
        "print('Report untuk algoritma random forest: ', '\\n', '\\n', classification_report(y_test, rf_pred))"
      ]
    },
    {
      "cell_type": "markdown",
      "metadata": {
        "id": "Uw7MmuFeTRqI"
      },
      "source": [
        "Dari hasil ketiga report di atas, kami berpendapat bahwa model terbaik yang dapat digunakan adalah model random forest. Berikut adalah beberapa argumen mengapa model tersebut adalah model yang terbaik menurut kami:\n",
        "1. Setelah dilakukan metode VSM dengan menggunakan TF-IDF vectorizer, jumlah features atau variabel independen yang ada bertambah menjadi lebih banyak (3764 features untuk KNN, 1437 features untuk decision tree, dan 3764 untuk random forest). Dengan jumlah features yang sangat banyak serta jumlah observasi yang juga termasuk besar (14601 observasi setelah over sampling), model random forest merupakan model yang lebih cocok untuk digunakan karena algoritma random forest memiliki kemampuan yang jauh lebih baik dalam mengolah data dengan jumlah observasi serta jumlah variabel yang lebih banyak. Algoritma KNN tidak efisien jika digunakan terhadap data yang besar. Kemudian walaupun algoritma decision tree juga memiliki kemampuan yang baik dalam menghadapi permasalahan jumlah data yang besar, namun dalam kasus ini algoritma decision tree mempunyai performa yang jauh lebih buruk dalam memprediksi data yang ada.\n",
        "2. Dari hasil penilaian performa generalisasi yang telah dilakukan, walaupun  model random forest menunjukkan indikasi terjadi overfit, namun model tersebut mempunyai penurunan nilai rata-rata train score ke test score yang dapat dibilang rendah (yaitu sekitar 13%). Kedua model lainnya, yaitu KNN mengalami penurunan sekitar 30% sedangkan model decision tree tidak menunjukkan indikasi terjadi overfit karena hanya mengalami rata-rata penurunan sekitar 2%. Hasil nilai rata-rata train score dan test score tersebut diperoleh dengan menggunakan lima kali cross validasi. Kemudian nilai rata-rata test score setelah lima kali cross validasi untuk model random forest adalah yang tertinggi yaitu sekitar 0.86. Model KNN mempunyai nilai sekitar 0.68. Sedangkan model decision tree mempunyai nilai sekitar 0.6. Nilai test score yang lebih rendah dibandingkan dengan model random forest inilah yang membuat model decision tree tidak dipilih walaupun tidak mengalami overfit atau underfit.\n",
        "3. Nilai accuracy model random forest sebesar 0.87 jauh lebih baik dibandingkan nilai accuracy model decision tree yang hanya sebesar 0.51 dan KNN sebesar 0.71. Hal ini memiliki arti bahwa model random forest, secara keseluruhan, mempunyai kemampuan dalam memprediksi setiap kategori sentimen yang ada dengan jauh lebih baik dan akurat.\n",
        "4. Nilai precision serta recall untuk setiap kategori sentimen dari model random forest juga lebih baik dibandingkan dengan kedua model lainnya. Precision digunakan untuk melihat dari keseluruhan hasil prediksi yang ada, berapa dari hasil prediksi tersebut yang berhasil diprediksi dengan benar. Sedangkan recall digunakan untuk melihat dari keseluruhan observasi awal yang ada, berapa dari observasi awal tersebut yang berhasil diprediksi dengan benar. Model KNN mempunyai nilai precision serta recall yang hampir dapat menyaingi random forest. Namun nilai precision kelas 0 (netral) sekitar 0.54 serta recall kelas 1 (positif) sekitar 0.17 dari model KNN jauh lebih rendah dibandingkan dengan model random forest yang mempunyai nilai precision kelas 0 (netral) sekitar 0.8 serta recall kelas 1 (positif) sekitar 0.77.\n",
        "\n",
        "Dengan beberapa pertimbangan di atas, diharapkan model random forest yang telah kami buat dapat membantu serta mempermudah urusan tertentu dari suatu jenis bisnis tertentu yang memiliki hubungan dengan masalah sentimen masyarakat Indonesia terhadap topik Piala Dunia di Qatar 2022. Harus dicatat bahwa data yang dapat digunakan jika hendak menggunakan model ini adalah data yang mempunyai karakteristik serta demografi yang mirip dengan data yang digunakan untuk membuat model.\n"
      ]
    },
    {
      "cell_type": "markdown",
      "source": [
        "# Rangkuman Insight/Informasi yang Didapat"
      ],
      "metadata": {
        "id": "RR7Sd2VlUpcG"
      }
    },
    {
      "cell_type": "markdown",
      "source": [
        "Berdasarkan berbagai proses analisis dengan menggunakan metode-metode yang telah dilakukan di atas, berikut beberapa insight atau informasi yang dapat kami berikan:\n",
        "\n",
        "1. Berdasarkan sampel data yang kami dapatkan, jumlah tweet mengenai topik Piala Dunia Qatar 2022 pada tanggal 20 hingga 25 Desember 2022 yang dilakukan oleh user twitter Indonesia paling banyak terjadi sekitar pukul 02.00 hingga 13.00. Kemudian jumlah tweet menurun drastis sekitar pukul 14.00 hingga 00.00. Hal tersebut bisa saja disebabkan karena pergelaran Piala Dunia Qatar 2022 yang telah usai pada tanggal 18 Desember 2022, yang mana biasanya laga piala dunia mulai dimainkan pada pukul 22.00 dan karena pergelaran piala dunia telah usai maka jumlah user yang membuat *tweet* pada jam tersebut menurun.\n",
        "2. Terdapat korelasi positif kuat antara jumlah likes dengan jumlah retweet dan jumlah replies. Itu artinya terdapat kecenderungan bahwa jika suatu tweet mempunyai jumlah likes yang tinggi, maka jumlah retweet serta replies pun akan tinggi begitupun sebaliknya.\n",
        "3. Berdasarkan wordclouds keseluruhan serta tiga wordclouds sentimen positif, netral, dan negatif, kata-kata yang cenderung sering muncul di dalam tweet user Indonesia selama periode 20 hingga 25 Desember 2022 tentang topik Piala Dunia Qatar 2022 adalah kata \"Messi\", \"Argentina\", \"Juara\", \"Piala\", \"Dunia\", \"2022\", dan \"Main\".\n",
        "4. Berdasarkan hasil centrality analysis didapatkan insight berikut:\n",
        "  * Karena user \"idextratime\" mempunyai nilai degree centrality serta eigenvector centrality yang tinggi yang mengindikasikan user tersebut sering melakukan mention terhadap user lain atau dimention, maka bisa saja user \"idextratime\" mempunyai kemampuan yang tinggi dalam mempengaruhi user-user lain untuk berinteraksi dengannya. Hal ini bisa saja disebabkan karena kemampuan user \"idextratime\" untuk membuat berbagai macam jenis tweet yang menarik serta mudah untuk diterima user-user lain seputar Piala Dunia 2022 di Qatar.\n",
        "  *  Kemampuan di atas dapat dimanfaatkan oleh user \"idextratime\" itu sendiri, misalnya untuk menjual berbagai jenis merchandise yang berhubungan dengan Piala Dunia Qatar 2022 seperti jersey bola, sepatu bola, dan lain-lain. User \"idextratime\" juga dapat memanfaatkan kemampuan ini untuk membuka jasa iklan dalam laman akun twitternya yang masih memiliki hubungan erat dengan topik Piala Dunia Qatar 2022. User-user lain pun dapat menjalin kolaborasi dengan user \"idextratime\" untuk misalnya memasarkan barang/bisnis yang mereka punya.\n",
        "5. Berdasarkan hasil community detection didapatkan 7 komunitas dengan insight berikut:\n",
        "  *  Komunitas pink berisikan tweet dengan topik seputar berita transfer pemain, berita kejadian-kejadian setelah Piala Dunia Qatar 2022, serta tweet jenaka tentang sepak bola dari user \"idextratime\".\n",
        "  *  Komunitas hijau muda berisikan tweet dengan topik seputar beberapa kejadian setelah Piala Dunia Qatar 2022 usai.\n",
        "  *  Komunitas hitam berisikan tweet dengan topik seputar beberapa pencapaian pemain setelah Piala Dunia usai serta kemenangan Argentina pada Piala Dunia Qatar 2022.\n",
        "  *  Komunitas oranye berisikan tweet dengan topik yang lebih banyak membahas berita Piala Dunia Qatar 2022 yang jauh lebih lengkap dan bervariasi.\n",
        "  *  Komunitas merah berisikan tweet dengan topik seputar opini user twitter Indonesia terhadap PSSI.\n",
        "  *  Komunitas biru muda berisikan tweet dengan topik seputar opini tentang Mbappe dan Messi.\n",
        "  *  Komunitas hijau tua berisikan tweet dengan topik seputar kuis berhadiah yang diselenggarakan oleh Indosat dan user \"idextratime\".\n",
        "6. Berdasarkan hasil sentimen analisis, dapat diambil insight bahwa setelah Piala Dunia 2022 di Qatar usai, mayoritas dari sampel user twitter Indonesia masih menunjukkan antusiasme serta respon yang positif terhadap pergelaran Piala Dunia 2022 di Qatar. Hal ini bisa saja dimanfaatkan oleh seseorang atau pelaku usaha dengan misalnya menjual beberapa merchandise atau barang-barang yang ada kaitannya dengan Piala Dunia 2022 di Qatar melalui media sosial twitter.\n",
        "7. Model random forest merupakan model yang terbaik serta paling cocok untuk digunakan terhadap data yang mempunyai karakteristik, demografi, serta topik yang sama dengan dataset yang digunakan dalam projek ini. Diharapkan model tersebut dapat membantu serta mempermudah urusan tertentu dari suatu jenis bisnis tertentu yang memiliki hubungan dengan masalah sentimen masyarakat Indonesia terhadap topik Piala Dunia di Qatar 2022.\n"
      ],
      "metadata": {
        "id": "cffE6UIKAPg5"
      }
    }
  ],
  "metadata": {
    "colab": {
      "provenance": [],
      "include_colab_link": true
    },
    "kernelspec": {
      "display_name": "Python 3",
      "name": "python3"
    },
    "language_info": {
      "name": "python"
    }
  },
  "nbformat": 4,
  "nbformat_minor": 0
}